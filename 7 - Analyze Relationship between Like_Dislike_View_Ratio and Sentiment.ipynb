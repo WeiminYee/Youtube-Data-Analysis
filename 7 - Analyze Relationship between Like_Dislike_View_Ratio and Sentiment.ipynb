{
 "cells": [
  {
   "cell_type": "code",
   "execution_count": 1,
   "metadata": {},
   "outputs": [],
   "source": [
    "import pandas as pd\n",
    "from textblob import TextBlob\n",
    "import numpy as np\n",
    "import tqdm\n",
    "from pathlib import Path\n",
    "cwd = Path('.')"
   ]
  },
  {
   "cell_type": "code",
   "execution_count": 2,
   "metadata": {},
   "outputs": [],
   "source": [
    "from collections import Counter\n",
    "from scipy.stats import pearsonr\n",
    "from sklearn.svm import SVR\n",
    "from sklearn.model_selection import cross_val_score\n",
    "from sklearn.linear_model import LinearRegression"
   ]
  },
  {
   "cell_type": "code",
   "execution_count": 3,
   "metadata": {},
   "outputs": [],
   "source": [
    "from random import seed\n",
    "RANDOM = 42\n",
    "seed(RANDOM)\n",
    "np.random.seed(RANDOM)"
   ]
  },
  {
   "cell_type": "code",
   "execution_count": 4,
   "metadata": {},
   "outputs": [],
   "source": [
    "videos_df = pd.read_csv(cwd/'output'/\"videos.csv\")"
   ]
  },
  {
   "cell_type": "code",
   "execution_count": 5,
   "metadata": {},
   "outputs": [],
   "source": [
    "videos_df = videos_df.drop_duplicates(subset='video_id')\n",
    "videos_df = videos_df.dropna()"
   ]
  },
  {
   "cell_type": "code",
   "execution_count": 6,
   "metadata": {},
   "outputs": [],
   "source": [
    "videos_df = videos_df[['video_id', 'like_rate', 'dislike_rate', 'comment_rate']]"
   ]
  },
  {
   "cell_type": "code",
   "execution_count": 7,
   "metadata": {
    "scrolled": true
   },
   "outputs": [
    {
     "name": "stderr",
     "output_type": "stream",
     "text": [
      "C:\\Users\\legin\\Miniconda3\\envs\\nlp-ds\\lib\\site-packages\\IPython\\core\\interactiveshell.py:3058: DtypeWarning: Columns (4,5) have mixed types. Specify dtype option on import or set low_memory=False.\n",
      "  interactivity=interactivity, compiler=compiler, result=result)\n"
     ]
    }
   ],
   "source": [
    "comments_df = pd.read_csv(cwd/'output'/\"comments.csv\")"
   ]
  },
  {
   "cell_type": "code",
   "execution_count": 8,
   "metadata": {},
   "outputs": [],
   "source": [
    "#Using Textblob library to calculate sentiments\n",
    "def sentiment_calc(text):\n",
    "    try:\n",
    "        return TextBlob(text).sentiment.polarity\n",
    "    except:\n",
    "        return None"
   ]
  },
  {
   "cell_type": "code",
   "execution_count": 9,
   "metadata": {},
   "outputs": [],
   "source": [
    "def pol2sent(pol):\n",
    "    if pol<=-.5:\n",
    "        return 0 #\"Very negative\"\n",
    "    if pol>-.5 and pol<0:\n",
    "        return 1 #\"Negative\"\n",
    "    if pol == 0:\n",
    "        return 2 #\"Neutral\"\n",
    "    if pol > 0 and pol<0.5:\n",
    "        return 3 #\"Positive\"\n",
    "    if pol>=0.5:\n",
    "        return 4 #\"Very positive\""
   ]
  },
  {
   "cell_type": "code",
   "execution_count": 10,
   "metadata": {},
   "outputs": [],
   "source": [
    "comments_df['sentiment'] = comments_df.apply(lambda row: sentiment_calc(row[\"comment_text\"]), axis=1)"
   ]
  },
  {
   "cell_type": "code",
   "execution_count": 11,
   "metadata": {},
   "outputs": [
    {
     "data": {
      "text/plain": [
       "53"
      ]
     },
     "execution_count": 11,
     "metadata": {},
     "output_type": "execute_result"
    }
   ],
   "source": [
    "comments_df['sentiment'].isnull().sum()"
   ]
  },
  {
   "cell_type": "code",
   "execution_count": 12,
   "metadata": {},
   "outputs": [],
   "source": [
    "comments_df = comments_df[pd.notnull(comments_df['sentiment'])]"
   ]
  },
  {
   "cell_type": "code",
   "execution_count": 13,
   "metadata": {},
   "outputs": [
    {
     "data": {
      "text/plain": [
       "0"
      ]
     },
     "execution_count": 13,
     "metadata": {},
     "output_type": "execute_result"
    }
   ],
   "source": [
    "comments_df['sentiment'].isnull().sum()"
   ]
  },
  {
   "cell_type": "code",
   "execution_count": 93,
   "metadata": {},
   "outputs": [],
   "source": [
    "class Sentiment:\n",
    "    def __init__(self):\n",
    "        self.sentiment_scores = []\n",
    "        self.sentiment_categories = []\n",
    "        self.average_sentiment = None\n",
    "        self.sentiment_categories_vector = None\n",
    "    def add_sentiment_score(self, score):\n",
    "        self.sentiment_scores.append(score)\n",
    "    def add_sentiment_category(self, category):\n",
    "        self.sentiment_categories.append(category)\n",
    "    def set_average_sentiment(self):\n",
    "        self.average_sentiment = sum(self.sentiment_scores)/len(self.sentiment_scores)\n",
    "    def set_sentiment_categories_vector(self):\n",
    "        self.sentiment_categories_vector = [Counter(self.sentiment_categories)[i] for i in [0, 1, 2, 3, 4]]\n",
    "        self.sentiment_categories_vector = np.array(self.sentiment_categories_vector)/len(self.sentiment_categories)"
   ]
  },
  {
   "cell_type": "code",
   "execution_count": 95,
   "metadata": {
    "scrolled": true
   },
   "outputs": [],
   "source": [
    "video_id_sentiment = {} # video_id : sentiment_object\n",
    "for _, row in comments_df.iterrows():\n",
    "    video_id = row['video_id']\n",
    "    sentiment = row['sentiment']\n",
    "    sentiment_category = pol2sent(sentiment)\n",
    "    if video_id not in video_id_sentiment:\n",
    "        video_id_sentiment[video_id] = Sentiment()\n",
    "    video_id_sentiment[video_id].add_sentiment_score(sentiment)\n",
    "    video_id_sentiment[video_id].add_sentiment_category(sentiment_category)"
   ]
  },
  {
   "cell_type": "code",
   "execution_count": 96,
   "metadata": {},
   "outputs": [],
   "source": [
    "for video_id, sentiment_object in video_id_sentiment.items():\n",
    "    sentiment_object.set_average_sentiment()\n",
    "    sentiment_object.set_sentiment_categories_vector()"
   ]
  },
  {
   "cell_type": "code",
   "execution_count": 97,
   "metadata": {},
   "outputs": [],
   "source": [
    "video_id_ratio = {}\n",
    "for _, row in videos_df.iterrows():\n",
    "    video_id = row['video_id']\n",
    "    like_rate = row['like_rate']\n",
    "    dislike_rate = row['dislike_rate']\n",
    "    comment_rate = row[\"comment_rate\"]\n",
    "    if video_id not in video_id_ratio:\n",
    "        video_id_ratio[video_id] = {}\n",
    "    video_id_ratio[video_id]['like_rate'] = like_rate\n",
    "    video_id_ratio[video_id]['dislike_rate'] = dislike_rate\n",
    "    video_id_ratio[video_id]['comment_rate'] = comment_rate"
   ]
  },
  {
   "cell_type": "markdown",
   "metadata": {},
   "source": [
    "#### sentiment vs ratios"
   ]
  },
  {
   "cell_type": "code",
   "execution_count": 98,
   "metadata": {},
   "outputs": [
    {
     "name": "stdout",
     "output_type": "stream",
     "text": [
      "The correlation between sentiment and like_rate: 0.3425423514938711\n",
      "The correlation between sentiment and dislike_rate: -0.2127077036895391\n",
      "The correlation between sentiment and comment_rate: -0.013206794800771658\n"
     ]
    }
   ],
   "source": [
    "metrics = ['like_rate', 'dislike_rate', 'comment_rate']\n",
    "for metric in metrics:\n",
    "    X = []\n",
    "    y = []\n",
    "    for video_id, sentiment_object in video_id_sentiment.items():\n",
    "        if video_id in video_id_ratio:\n",
    "            X.append(sentiment_object.average_sentiment)\n",
    "            y.append(video_id_ratio[video_id][metric])\n",
    "    X = np.array(X).reshape(-1, 1)\n",
    "    X = np.nan_to_num(X)\n",
    "    y = np.array(y).reshape(-1, 1)\n",
    "    scaler = MinMaxScaler()\n",
    "    scaler.fit(y)\n",
    "    y = scaler.transform(y)\n",
    "    scaler = MinMaxScaler()\n",
    "    scaler.fit(X)\n",
    "    X = scaler.transform(X)\n",
    "    from scipy.stats import pearsonr\n",
    "    print(f\"The correlation between sentiment and {metric}: {pearsonr(X.reshape(-1), y.reshape(-1))[0]}\")"
   ]
  }
 ],
 "metadata": {
  "kernelspec": {
   "display_name": "Python 3",
   "language": "python",
   "name": "python3"
  },
  "language_info": {
   "codemirror_mode": {
    "name": "ipython",
    "version": 3
   },
   "file_extension": ".py",
   "mimetype": "text/x-python",
   "name": "python",
   "nbconvert_exporter": "python",
   "pygments_lexer": "ipython3",
   "version": "3.7.5"
  }
 },
 "nbformat": 4,
 "nbformat_minor": 4
}
