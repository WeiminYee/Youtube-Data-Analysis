{
 "cells": [
  {
   "cell_type": "markdown",
   "metadata": {},
   "source": [
    "# Mining Association Rules for tags"
   ]
  },
  {
   "cell_type": "code",
   "execution_count": 1,
   "metadata": {},
   "outputs": [],
   "source": [
    "import pandas as pd\n",
    "import numpy as np\n",
    "from tqdm import tqdm\n",
    "from pathlib import Path\n",
    "cwd = Path('.')"
   ]
  },
  {
   "cell_type": "code",
   "execution_count": 2,
   "metadata": {},
   "outputs": [],
   "source": [
    "import nltk\n",
    "from nltk.corpus import stopwords\n",
    "from collections import OrderedDict\n",
    "from itertools import combinations\n",
    "STOPWORDS = set(stopwords.words('english'))"
   ]
  },
  {
   "cell_type": "code",
   "execution_count": 3,
   "metadata": {},
   "outputs": [],
   "source": [
    "from random import seed\n",
    "RANDOM = 42\n",
    "seed(RANDOM)\n",
    "np.random.seed(RANDOM)"
   ]
  },
  {
   "cell_type": "code",
   "execution_count": 4,
   "metadata": {},
   "outputs": [],
   "source": [
    "df = pd.read_csv(cwd/'output'/\"videos.csv\")"
   ]
  },
  {
   "cell_type": "code",
   "execution_count": 5,
   "metadata": {},
   "outputs": [],
   "source": [
    "df = df.drop_duplicates()\n",
    "df = df.drop_duplicates(subset='video_id')"
   ]
  },
  {
   "cell_type": "code",
   "execution_count": 6,
   "metadata": {},
   "outputs": [
    {
     "data": {
      "text/html": [
       "<div>\n",
       "<style scoped>\n",
       "    .dataframe tbody tr th:only-of-type {\n",
       "        vertical-align: middle;\n",
       "    }\n",
       "\n",
       "    .dataframe tbody tr th {\n",
       "        vertical-align: top;\n",
       "    }\n",
       "\n",
       "    .dataframe thead th {\n",
       "        text-align: right;\n",
       "    }\n",
       "</style>\n",
       "<table border=\"1\" class=\"dataframe\">\n",
       "  <thead>\n",
       "    <tr style=\"text-align: right;\">\n",
       "      <th></th>\n",
       "      <th>Unnamed: 0</th>\n",
       "      <th>index</th>\n",
       "      <th>video_id</th>\n",
       "      <th>title</th>\n",
       "      <th>channel_title</th>\n",
       "      <th>category_id</th>\n",
       "      <th>tags</th>\n",
       "      <th>views</th>\n",
       "      <th>likes</th>\n",
       "      <th>dislikes</th>\n",
       "      <th>...</th>\n",
       "      <th>thumbnail_link</th>\n",
       "      <th>date</th>\n",
       "      <th>likes_log</th>\n",
       "      <th>views_log</th>\n",
       "      <th>dislikes_log</th>\n",
       "      <th>comment_log</th>\n",
       "      <th>category_name</th>\n",
       "      <th>like_rate</th>\n",
       "      <th>dislike_rate</th>\n",
       "      <th>comment_rate</th>\n",
       "    </tr>\n",
       "  </thead>\n",
       "  <tbody>\n",
       "    <tr>\n",
       "      <th>0</th>\n",
       "      <td>0</td>\n",
       "      <td>0</td>\n",
       "      <td>XpVt6Z1Gjjo</td>\n",
       "      <td>1 YEAR OF VLOGGING -- HOW LOGAN PAUL CHANGED Y...</td>\n",
       "      <td>Logan Paul Vlogs</td>\n",
       "      <td>24</td>\n",
       "      <td>logan paul vlog|logan paul|logan|paul|olympics...</td>\n",
       "      <td>4394029</td>\n",
       "      <td>320053</td>\n",
       "      <td>5931</td>\n",
       "      <td>...</td>\n",
       "      <td>https://i.ytimg.com/vi/XpVt6Z1Gjjo/default.jpg</td>\n",
       "      <td>13.09</td>\n",
       "      <td>12.676245</td>\n",
       "      <td>15.295757</td>\n",
       "      <td>8.688117</td>\n",
       "      <td>10.741730</td>\n",
       "      <td>Entertainment</td>\n",
       "      <td>7.283816</td>\n",
       "      <td>0.134979</td>\n",
       "      <td>1.052451</td>\n",
       "    </tr>\n",
       "    <tr>\n",
       "      <th>1</th>\n",
       "      <td>1</td>\n",
       "      <td>1</td>\n",
       "      <td>K4wEI5zhHB0</td>\n",
       "      <td>iPhone X — Introducing iPhone X — Apple</td>\n",
       "      <td>Apple</td>\n",
       "      <td>28</td>\n",
       "      <td>Apple|iPhone 10|iPhone Ten|iPhone|Portrait Lig...</td>\n",
       "      <td>7860119</td>\n",
       "      <td>185853</td>\n",
       "      <td>26679</td>\n",
       "      <td>...</td>\n",
       "      <td>https://i.ytimg.com/vi/K4wEI5zhHB0/default.jpg</td>\n",
       "      <td>13.09</td>\n",
       "      <td>12.132717</td>\n",
       "      <td>15.877312</td>\n",
       "      <td>10.191670</td>\n",
       "      <td>0.000000</td>\n",
       "      <td>Science &amp; Technology</td>\n",
       "      <td>2.364506</td>\n",
       "      <td>0.339422</td>\n",
       "      <td>0.000000</td>\n",
       "    </tr>\n",
       "    <tr>\n",
       "      <th>2</th>\n",
       "      <td>2</td>\n",
       "      <td>2</td>\n",
       "      <td>cLdxuaxaQwc</td>\n",
       "      <td>My Response</td>\n",
       "      <td>PewDiePie</td>\n",
       "      <td>22</td>\n",
       "      <td>[none]</td>\n",
       "      <td>5845909</td>\n",
       "      <td>576597</td>\n",
       "      <td>39774</td>\n",
       "      <td>...</td>\n",
       "      <td>https://i.ytimg.com/vi/cLdxuaxaQwc/default.jpg</td>\n",
       "      <td>13.09</td>\n",
       "      <td>13.264901</td>\n",
       "      <td>15.581253</td>\n",
       "      <td>10.590994</td>\n",
       "      <td>12.047716</td>\n",
       "      <td>People &amp; Blogs</td>\n",
       "      <td>9.863257</td>\n",
       "      <td>0.680373</td>\n",
       "      <td>2.920128</td>\n",
       "    </tr>\n",
       "    <tr>\n",
       "      <th>3</th>\n",
       "      <td>3</td>\n",
       "      <td>3</td>\n",
       "      <td>WYYvHb03Eog</td>\n",
       "      <td>Apple iPhone X first look</td>\n",
       "      <td>The Verge</td>\n",
       "      <td>28</td>\n",
       "      <td>apple iphone x hands on|Apple iPhone X|iPhone ...</td>\n",
       "      <td>2642103</td>\n",
       "      <td>24975</td>\n",
       "      <td>4542</td>\n",
       "      <td>...</td>\n",
       "      <td>https://i.ytimg.com/vi/WYYvHb03Eog/default.jpg</td>\n",
       "      <td>13.09</td>\n",
       "      <td>10.125671</td>\n",
       "      <td>14.787086</td>\n",
       "      <td>8.421343</td>\n",
       "      <td>9.459541</td>\n",
       "      <td>Science &amp; Technology</td>\n",
       "      <td>0.945270</td>\n",
       "      <td>0.171909</td>\n",
       "      <td>0.485560</td>\n",
       "    </tr>\n",
       "    <tr>\n",
       "      <th>4</th>\n",
       "      <td>4</td>\n",
       "      <td>4</td>\n",
       "      <td>sjlHnJvXdQs</td>\n",
       "      <td>iPhone X (parody)</td>\n",
       "      <td>jacksfilms</td>\n",
       "      <td>23</td>\n",
       "      <td>jacksfilms|parody|parodies|iphone|iphone x|iph...</td>\n",
       "      <td>1168130</td>\n",
       "      <td>96666</td>\n",
       "      <td>568</td>\n",
       "      <td>...</td>\n",
       "      <td>https://i.ytimg.com/vi/sjlHnJvXdQs/default.jpg</td>\n",
       "      <td>13.09</td>\n",
       "      <td>11.479027</td>\n",
       "      <td>13.970916</td>\n",
       "      <td>6.343880</td>\n",
       "      <td>8.804925</td>\n",
       "      <td>Comedy</td>\n",
       "      <td>8.275278</td>\n",
       "      <td>0.048625</td>\n",
       "      <td>0.570656</td>\n",
       "    </tr>\n",
       "  </tbody>\n",
       "</table>\n",
       "<p>5 rows × 21 columns</p>\n",
       "</div>"
      ],
      "text/plain": [
       "   Unnamed: 0  index     video_id  \\\n",
       "0           0      0  XpVt6Z1Gjjo   \n",
       "1           1      1  K4wEI5zhHB0   \n",
       "2           2      2  cLdxuaxaQwc   \n",
       "3           3      3  WYYvHb03Eog   \n",
       "4           4      4  sjlHnJvXdQs   \n",
       "\n",
       "                                               title     channel_title  \\\n",
       "0  1 YEAR OF VLOGGING -- HOW LOGAN PAUL CHANGED Y...  Logan Paul Vlogs   \n",
       "1            iPhone X — Introducing iPhone X — Apple             Apple   \n",
       "2                                        My Response         PewDiePie   \n",
       "3                          Apple iPhone X first look         The Verge   \n",
       "4                                  iPhone X (parody)        jacksfilms   \n",
       "\n",
       "   category_id                                               tags    views  \\\n",
       "0           24  logan paul vlog|logan paul|logan|paul|olympics...  4394029   \n",
       "1           28  Apple|iPhone 10|iPhone Ten|iPhone|Portrait Lig...  7860119   \n",
       "2           22                                             [none]  5845909   \n",
       "3           28  apple iphone x hands on|Apple iPhone X|iPhone ...  2642103   \n",
       "4           23  jacksfilms|parody|parodies|iphone|iphone x|iph...  1168130   \n",
       "\n",
       "    likes  dislikes  ...                                  thumbnail_link  \\\n",
       "0  320053      5931  ...  https://i.ytimg.com/vi/XpVt6Z1Gjjo/default.jpg   \n",
       "1  185853     26679  ...  https://i.ytimg.com/vi/K4wEI5zhHB0/default.jpg   \n",
       "2  576597     39774  ...  https://i.ytimg.com/vi/cLdxuaxaQwc/default.jpg   \n",
       "3   24975      4542  ...  https://i.ytimg.com/vi/WYYvHb03Eog/default.jpg   \n",
       "4   96666       568  ...  https://i.ytimg.com/vi/sjlHnJvXdQs/default.jpg   \n",
       "\n",
       "    date  likes_log  views_log  dislikes_log  comment_log  \\\n",
       "0  13.09  12.676245  15.295757      8.688117    10.741730   \n",
       "1  13.09  12.132717  15.877312     10.191670     0.000000   \n",
       "2  13.09  13.264901  15.581253     10.590994    12.047716   \n",
       "3  13.09  10.125671  14.787086      8.421343     9.459541   \n",
       "4  13.09  11.479027  13.970916      6.343880     8.804925   \n",
       "\n",
       "          category_name like_rate  dislike_rate  comment_rate  \n",
       "0         Entertainment  7.283816      0.134979      1.052451  \n",
       "1  Science & Technology  2.364506      0.339422      0.000000  \n",
       "2        People & Blogs  9.863257      0.680373      2.920128  \n",
       "3  Science & Technology  0.945270      0.171909      0.485560  \n",
       "4                Comedy  8.275278      0.048625      0.570656  \n",
       "\n",
       "[5 rows x 21 columns]"
      ]
     },
     "execution_count": 6,
     "metadata": {},
     "output_type": "execute_result"
    }
   ],
   "source": [
    "df.head()"
   ]
  },
  {
   "cell_type": "code",
   "execution_count": 7,
   "metadata": {},
   "outputs": [
    {
     "data": {
      "text/plain": [
       "0    logan paul vlog|logan paul|logan|paul|olympics...\n",
       "1    Apple|iPhone 10|iPhone Ten|iPhone|Portrait Lig...\n",
       "2                                               [none]\n",
       "3    apple iphone x hands on|Apple iPhone X|iPhone ...\n",
       "4    jacksfilms|parody|parodies|iphone|iphone x|iph...\n",
       "Name: tags, dtype: object"
      ]
     },
     "execution_count": 7,
     "metadata": {},
     "output_type": "execute_result"
    }
   ],
   "source": [
    "df['tags'].head()"
   ]
  },
  {
   "cell_type": "code",
   "execution_count": 8,
   "metadata": {},
   "outputs": [
    {
     "data": {
      "text/plain": [
       "'logan paul vlog|logan paul|logan|paul|olympics|logan paul youtube|vlog|daily|comedy|hollywood|parrot|maverick|bird|maverick clothes|diamond play button|logan paul diamond play button|10M subscribers|logan paul 1 year vlogging|1 year vlog|dwarf mamba play button|logan paul history|youtube history|10M|10M plaque|youtube button|diamond button|logang|logang 4 life'"
      ]
     },
     "execution_count": 8,
     "metadata": {},
     "output_type": "execute_result"
    }
   ],
   "source": [
    "df['tags'][0]"
   ]
  },
  {
   "cell_type": "code",
   "execution_count": 9,
   "metadata": {},
   "outputs": [
    {
     "data": {
      "text/html": [
       "<div>\n",
       "<style scoped>\n",
       "    .dataframe tbody tr th:only-of-type {\n",
       "        vertical-align: middle;\n",
       "    }\n",
       "\n",
       "    .dataframe tbody tr th {\n",
       "        vertical-align: top;\n",
       "    }\n",
       "\n",
       "    .dataframe thead th {\n",
       "        text-align: right;\n",
       "    }\n",
       "</style>\n",
       "<table border=\"1\" class=\"dataframe\">\n",
       "  <thead>\n",
       "    <tr style=\"text-align: right;\">\n",
       "      <th></th>\n",
       "      <th>Unnamed: 0</th>\n",
       "      <th>index</th>\n",
       "      <th>video_id</th>\n",
       "      <th>title</th>\n",
       "      <th>channel_title</th>\n",
       "      <th>category_id</th>\n",
       "      <th>tags</th>\n",
       "      <th>views</th>\n",
       "      <th>likes</th>\n",
       "      <th>dislikes</th>\n",
       "      <th>...</th>\n",
       "      <th>thumbnail_link</th>\n",
       "      <th>date</th>\n",
       "      <th>likes_log</th>\n",
       "      <th>views_log</th>\n",
       "      <th>dislikes_log</th>\n",
       "      <th>comment_log</th>\n",
       "      <th>category_name</th>\n",
       "      <th>like_rate</th>\n",
       "      <th>dislike_rate</th>\n",
       "      <th>comment_rate</th>\n",
       "    </tr>\n",
       "  </thead>\n",
       "  <tbody>\n",
       "    <tr>\n",
       "      <th>2</th>\n",
       "      <td>2</td>\n",
       "      <td>2</td>\n",
       "      <td>cLdxuaxaQwc</td>\n",
       "      <td>My Response</td>\n",
       "      <td>PewDiePie</td>\n",
       "      <td>22</td>\n",
       "      <td>[none]</td>\n",
       "      <td>5845909</td>\n",
       "      <td>576597</td>\n",
       "      <td>39774</td>\n",
       "      <td>...</td>\n",
       "      <td>https://i.ytimg.com/vi/cLdxuaxaQwc/default.jpg</td>\n",
       "      <td>13.09</td>\n",
       "      <td>13.264901</td>\n",
       "      <td>15.581253</td>\n",
       "      <td>10.590994</td>\n",
       "      <td>12.047716</td>\n",
       "      <td>People &amp; Blogs</td>\n",
       "      <td>9.863257</td>\n",
       "      <td>0.680373</td>\n",
       "      <td>2.920128</td>\n",
       "    </tr>\n",
       "    <tr>\n",
       "      <th>56</th>\n",
       "      <td>56</td>\n",
       "      <td>56</td>\n",
       "      <td>bAon04ZJhHE</td>\n",
       "      <td>Season 21 Preview: White People Renovating Houses</td>\n",
       "      <td>South Park Studios</td>\n",
       "      <td>20</td>\n",
       "      <td>[none]</td>\n",
       "      <td>182676</td>\n",
       "      <td>3752</td>\n",
       "      <td>165</td>\n",
       "      <td>...</td>\n",
       "      <td>https://i.ytimg.com/vi/bAon04ZJhHE/default.jpg</td>\n",
       "      <td>13.09</td>\n",
       "      <td>8.230311</td>\n",
       "      <td>12.115475</td>\n",
       "      <td>5.111988</td>\n",
       "      <td>7.059618</td>\n",
       "      <td>Gaming</td>\n",
       "      <td>2.053910</td>\n",
       "      <td>0.090324</td>\n",
       "      <td>0.636646</td>\n",
       "    </tr>\n",
       "    <tr>\n",
       "      <th>74</th>\n",
       "      <td>74</td>\n",
       "      <td>74</td>\n",
       "      <td>bp6uJJJMaLs</td>\n",
       "      <td>Things you need to know about Pennywise</td>\n",
       "      <td>Jenny Nicholson</td>\n",
       "      <td>1</td>\n",
       "      <td>[none]</td>\n",
       "      <td>39338</td>\n",
       "      <td>2377</td>\n",
       "      <td>103</td>\n",
       "      <td>...</td>\n",
       "      <td>https://i.ytimg.com/vi/bp6uJJJMaLs/default.jpg</td>\n",
       "      <td>13.09</td>\n",
       "      <td>7.774015</td>\n",
       "      <td>10.579972</td>\n",
       "      <td>4.644391</td>\n",
       "      <td>6.184149</td>\n",
       "      <td>Film &amp; Animation</td>\n",
       "      <td>6.042503</td>\n",
       "      <td>0.261833</td>\n",
       "      <td>1.230362</td>\n",
       "    </tr>\n",
       "    <tr>\n",
       "      <th>133</th>\n",
       "      <td>133</td>\n",
       "      <td>133</td>\n",
       "      <td>UpONjs5kLPc</td>\n",
       "      <td>Los jugadores de Sacachispas entraron vestidos...</td>\n",
       "      <td>Futbol La Pasion</td>\n",
       "      <td>17</td>\n",
       "      <td>[none]</td>\n",
       "      <td>53712</td>\n",
       "      <td>203</td>\n",
       "      <td>4</td>\n",
       "      <td>...</td>\n",
       "      <td>https://i.ytimg.com/vi/UpONjs5kLPc/default.jpg</td>\n",
       "      <td>13.09</td>\n",
       "      <td>5.318120</td>\n",
       "      <td>10.891410</td>\n",
       "      <td>1.609438</td>\n",
       "      <td>3.258097</td>\n",
       "      <td>Sports</td>\n",
       "      <td>0.377942</td>\n",
       "      <td>0.007447</td>\n",
       "      <td>0.046545</td>\n",
       "    </tr>\n",
       "    <tr>\n",
       "      <th>164</th>\n",
       "      <td>164</td>\n",
       "      <td>164</td>\n",
       "      <td>c3pFWJCQy5E</td>\n",
       "      <td>Update: Problem with Chemo Pills</td>\n",
       "      <td>Courtelizz1</td>\n",
       "      <td>26</td>\n",
       "      <td>[none]</td>\n",
       "      <td>108839</td>\n",
       "      <td>3677</td>\n",
       "      <td>107</td>\n",
       "      <td>...</td>\n",
       "      <td>https://i.ytimg.com/vi/c3pFWJCQy5E/default.jpg</td>\n",
       "      <td>13.09</td>\n",
       "      <td>8.210124</td>\n",
       "      <td>11.597634</td>\n",
       "      <td>4.682131</td>\n",
       "      <td>6.597146</td>\n",
       "      <td>Howto &amp; Style</td>\n",
       "      <td>3.378385</td>\n",
       "      <td>0.098310</td>\n",
       "      <td>0.672553</td>\n",
       "    </tr>\n",
       "  </tbody>\n",
       "</table>\n",
       "<p>5 rows × 21 columns</p>\n",
       "</div>"
      ],
      "text/plain": [
       "     Unnamed: 0  index     video_id  \\\n",
       "2             2      2  cLdxuaxaQwc   \n",
       "56           56     56  bAon04ZJhHE   \n",
       "74           74     74  bp6uJJJMaLs   \n",
       "133         133    133  UpONjs5kLPc   \n",
       "164         164    164  c3pFWJCQy5E   \n",
       "\n",
       "                                                 title       channel_title  \\\n",
       "2                                          My Response           PewDiePie   \n",
       "56   Season 21 Preview: White People Renovating Houses  South Park Studios   \n",
       "74             Things you need to know about Pennywise     Jenny Nicholson   \n",
       "133  Los jugadores de Sacachispas entraron vestidos...    Futbol La Pasion   \n",
       "164                   Update: Problem with Chemo Pills         Courtelizz1   \n",
       "\n",
       "     category_id    tags    views   likes  dislikes  ...  \\\n",
       "2             22  [none]  5845909  576597     39774  ...   \n",
       "56            20  [none]   182676    3752       165  ...   \n",
       "74             1  [none]    39338    2377       103  ...   \n",
       "133           17  [none]    53712     203         4  ...   \n",
       "164           26  [none]   108839    3677       107  ...   \n",
       "\n",
       "                                     thumbnail_link   date  likes_log  \\\n",
       "2    https://i.ytimg.com/vi/cLdxuaxaQwc/default.jpg  13.09  13.264901   \n",
       "56   https://i.ytimg.com/vi/bAon04ZJhHE/default.jpg  13.09   8.230311   \n",
       "74   https://i.ytimg.com/vi/bp6uJJJMaLs/default.jpg  13.09   7.774015   \n",
       "133  https://i.ytimg.com/vi/UpONjs5kLPc/default.jpg  13.09   5.318120   \n",
       "164  https://i.ytimg.com/vi/c3pFWJCQy5E/default.jpg  13.09   8.210124   \n",
       "\n",
       "     views_log  dislikes_log  comment_log     category_name like_rate  \\\n",
       "2    15.581253     10.590994    12.047716    People & Blogs  9.863257   \n",
       "56   12.115475      5.111988     7.059618            Gaming  2.053910   \n",
       "74   10.579972      4.644391     6.184149  Film & Animation  6.042503   \n",
       "133  10.891410      1.609438     3.258097            Sports  0.377942   \n",
       "164  11.597634      4.682131     6.597146     Howto & Style  3.378385   \n",
       "\n",
       "     dislike_rate  comment_rate  \n",
       "2        0.680373      2.920128  \n",
       "56       0.090324      0.636646  \n",
       "74       0.261833      1.230362  \n",
       "133      0.007447      0.046545  \n",
       "164      0.098310      0.672553  \n",
       "\n",
       "[5 rows x 21 columns]"
      ]
     },
     "execution_count": 9,
     "metadata": {},
     "output_type": "execute_result"
    }
   ],
   "source": [
    "df[df['tags']=='[none]'].head()"
   ]
  },
  {
   "cell_type": "code",
   "execution_count": 9,
   "metadata": {},
   "outputs": [],
   "source": [
    "records = df.apply(lambda row: row['tags'].split(\"|\"), axis=1).tolist()"
   ]
  },
  {
   "cell_type": "code",
   "execution_count": 10,
   "metadata": {},
   "outputs": [],
   "source": [
    "# Remove \"\" and \"[none]\" and change to lower case and strip leading and trailing whitespace\n",
    "for i in range(len(records)):\n",
    "    records[i] = [tag.lower().strip() for tag in records[i] if tag != \"\" and tag != \"[none]\"]\n",
    "# Remove empty records\n",
    "records = [record for record in records if len(record) != 0]        "
   ]
  },
  {
   "cell_type": "code",
   "execution_count": 11,
   "metadata": {},
   "outputs": [],
   "source": [
    "# # Now, each tag is a string of words, we make it more fine grained and remove stopwords\n",
    "# for i in range(len(records)):\n",
    "#     tags = []\n",
    "#     for j in range(len(records[i])):\n",
    "#         tags.extend(records[i][j].split(\" \"))\n",
    "#     tags = [tag for tag in tags if tag not in STOPWORDS]\n",
    "#     records[i] = tags"
   ]
  },
  {
   "cell_type": "markdown",
   "metadata": {},
   "source": [
    "#### How many unique tags"
   ]
  },
  {
   "cell_type": "code",
   "execution_count": 11,
   "metadata": {},
   "outputs": [
    {
     "data": {
      "text/plain": [
       "28281"
      ]
     },
     "execution_count": 11,
     "metadata": {},
     "output_type": "execute_result"
    }
   ],
   "source": [
    "unique_tags = set()\n",
    "for record in records:\n",
    "    unique_tags.update(set(record))\n",
    "len(unique_tags)"
   ]
  },
  {
   "cell_type": "code",
   "execution_count": 12,
   "metadata": {},
   "outputs": [
    {
     "name": "stderr",
     "output_type": "stream",
     "text": [
      "100%|██████████| 28281/28281 [00:23<00:00, 1224.59it/s]\n"
     ]
    }
   ],
   "source": [
    "unique_tags_and_counts = {} # tag:count\n",
    "for unique_tag in tqdm(unique_tags):\n",
    "    for record in records:\n",
    "        if unique_tag not in record:\n",
    "            continue\n",
    "        if unique_tag not in unique_tags_and_counts:\n",
    "            unique_tags_and_counts[unique_tag] = 1\n",
    "        else:\n",
    "            unique_tags_and_counts[unique_tag] += 1            "
   ]
  },
  {
   "cell_type": "code",
   "execution_count": 14,
   "metadata": {
    "scrolled": true
   },
   "outputs": [
    {
     "data": {
      "text/plain": [
       "[('funny', 325),\n",
       " ('comedy', 250),\n",
       " ('vlog', 140),\n",
       " ('2017', 140),\n",
       " ('makeup', 125),\n",
       " ('interview', 114),\n",
       " ('music', 113),\n",
       " ('how to', 112),\n",
       " ('humor', 112),\n",
       " ('news', 107),\n",
       " ('football', 104),\n",
       " ('beauty', 103),\n",
       " ('trailer', 102),\n",
       " ('video', 100),\n",
       " ('celebrity', 98),\n",
       " ('talk show', 93),\n",
       " ('tutorial', 91),\n",
       " ('review', 85),\n",
       " ('food', 84),\n",
       " ('fashion', 84)]"
      ]
     },
     "execution_count": 14,
     "metadata": {},
     "output_type": "execute_result"
    }
   ],
   "source": [
    "# Just to see top 20 1-itemsets\n",
    "sorted(list(unique_tags_and_counts.items()), key=lambda x: x[1], reverse=True)[:20]"
   ]
  },
  {
   "cell_type": "code",
   "execution_count": 15,
   "metadata": {},
   "outputs": [],
   "source": [
    "# How many 1-itemsets have <= n occurence?\n",
    "def less_than_n_occurence(n, unique_tags_and_counts):\n",
    "    count = 0\n",
    "    for k, v in unique_tags_and_counts.items():\n",
    "        assert(v != 0)\n",
    "        if v <= n:\n",
    "            count += 1\n",
    "    return count"
   ]
  },
  {
   "cell_type": "code",
   "execution_count": 16,
   "metadata": {},
   "outputs": [
    {
     "name": "stdout",
     "output_type": "stream",
     "text": [
      "75.12464198578552% of 1-itemsets have <= 1 occurence\n",
      "86.05424136345957% of 1-itemsets have <= 2 occurence\n",
      "90.79240479473852% of 1-itemsets have <= 3 occurence\n",
      "93.07662388175807% of 1-itemsets have <= 4 occurence\n",
      "94.62183091121247% of 1-itemsets have <= 5 occurence\n",
      "95.77808422615891% of 1-itemsets have <= 6 occurence\n",
      "96.5418478837382% of 1-itemsets have <= 7 occurence\n",
      "97.13588628407764% of 1-itemsets have <= 8 occurence\n",
      "97.50716028428981% of 1-itemsets have <= 9 occurence\n"
     ]
    }
   ],
   "source": [
    "# Change range to your liking\n",
    "for i in range(1, 10, 1):\n",
    "    count = less_than_n_occurence(i, unique_tags_and_counts)\n",
    "    print(f\"{count*100/len(unique_tags)}% of 1-itemsets have <= {i} occurence\")"
   ]
  },
  {
   "cell_type": "code",
   "execution_count": 17,
   "metadata": {},
   "outputs": [],
   "source": [
    "min_sup = 0.01\n",
    "min_sup_count = min_sup*len(records)"
   ]
  },
  {
   "cell_type": "code",
   "execution_count": 18,
   "metadata": {},
   "outputs": [
    {
     "data": {
      "text/plain": [
       "30.82"
      ]
     },
     "execution_count": 18,
     "metadata": {},
     "output_type": "execute_result"
    }
   ],
   "source": [
    "min_sup_count"
   ]
  },
  {
   "cell_type": "code",
   "execution_count": 19,
   "metadata": {},
   "outputs": [],
   "source": [
    "frequent_one_itemset_with_counts = [item for item in sorted(list(unique_tags_and_counts.items()), key=lambda x: x[1], reverse=True)\\\n",
    "                                    if item[1] > min_sup_count]"
   ]
  },
  {
   "cell_type": "code",
   "execution_count": 20,
   "metadata": {},
   "outputs": [],
   "source": [
    "frequent_one_itemset = [i[0] for i in frequent_one_itemset_with_counts]"
   ]
  },
  {
   "cell_type": "code",
   "execution_count": 21,
   "metadata": {},
   "outputs": [
    {
     "data": {
      "text/plain": [
       "['funny',\n",
       " 'comedy',\n",
       " 'vlog',\n",
       " '2017',\n",
       " 'makeup',\n",
       " 'interview',\n",
       " 'music',\n",
       " 'how to',\n",
       " 'humor',\n",
       " 'news',\n",
       " 'football',\n",
       " 'beauty',\n",
       " 'trailer',\n",
       " 'video',\n",
       " 'celebrity',\n",
       " 'talk show',\n",
       " 'tutorial',\n",
       " 'review',\n",
       " 'food',\n",
       " 'fashion',\n",
       " 'television',\n",
       " 'pop',\n",
       " 'live',\n",
       " 'celebrities',\n",
       " 'funny video',\n",
       " 'hollywood',\n",
       " 'comedian',\n",
       " 'science',\n",
       " 'late night',\n",
       " 'new',\n",
       " 'clip',\n",
       " 'diy',\n",
       " 'show',\n",
       " 'jokes',\n",
       " 'highlights',\n",
       " 'halloween',\n",
       " 'nbc',\n",
       " 'soccer',\n",
       " 'highlight',\n",
       " 'youtube',\n",
       " 'sports',\n",
       " 'games',\n",
       " 'family',\n",
       " 'vlogging',\n",
       " 'fun',\n",
       " 'film',\n",
       " 'comedic',\n",
       " 'haul',\n",
       " 'movie',\n",
       " 'style']"
      ]
     },
     "execution_count": 21,
     "metadata": {},
     "output_type": "execute_result"
    }
   ],
   "source": [
    "frequent_one_itemset[:50]"
   ]
  },
  {
   "cell_type": "code",
   "execution_count": 22,
   "metadata": {},
   "outputs": [],
   "source": [
    "# Change records to l-order\n",
    "for i in range(len(records)):\n",
    "    records[i] = [tag for tag in records[i] if tag in frequent_one_itemset]\n",
    "    records[i] = sorted(records[i], key=lambda x: frequent_one_itemset.index(x), reverse=False)"
   ]
  },
  {
   "cell_type": "code",
   "execution_count": 23,
   "metadata": {},
   "outputs": [
    {
     "data": {
      "text/plain": [
       "[['comedy', 'vlog', 'hollywood', 'daily'],\n",
       " ['apple'],\n",
       " ['apple'],\n",
       " ['apple', 'parody', 'iphone 8'],\n",
       " ['comedy', 'trailer', 'film', 'movie', 'official'],\n",
       " ['funny',\n",
       "  'comedy',\n",
       "  'humor',\n",
       "  'talk show',\n",
       "  'television',\n",
       "  'late night',\n",
       "  'nbc',\n",
       "  'nbc tv',\n",
       "  'parody'],\n",
       " ['iphone 8'],\n",
       " ['vlog', 'vlogging', 'vlogger', 'daily', 'kids', 'home', 'house', 'vlogs'],\n",
       " [],\n",
       " ['funny', 'comedy', 'humor', 'sketch'],\n",
       " ['interview', 'best'],\n",
       " ['funny',\n",
       "  'interview',\n",
       "  'humor',\n",
       "  'video',\n",
       "  'talk show',\n",
       "  'television',\n",
       "  'celebrities',\n",
       "  'funny video',\n",
       "  'clip',\n",
       "  'show',\n",
       "  'jokes',\n",
       "  'nbc',\n",
       "  'highlight',\n",
       "  'comedic',\n",
       "  'snl',\n",
       "  'nbc tv',\n",
       "  'talent',\n",
       "  'variety'],\n",
       " ['video', 'celebrity', 'television', 'celebrities', 'tv', 'official'],\n",
       " ['funny', 'highlights', 'nbc', 'tv', 'entertainment', 'talent', 'talent'],\n",
       " ['2017', 'review', 'apple', 'iphone 8', 'iphone 8'],\n",
       " ['comedy', 'food', 'buzzfeed'],\n",
       " ['tutorial'],\n",
       " ['funny', 'comedy', 'how to', 'recipe', 'cooking'],\n",
       " ['funny', 'comedy', 'trailer', 'film', 'official', 'drama'],\n",
       " ['pop']]"
      ]
     },
     "execution_count": 23,
     "metadata": {},
     "output_type": "execute_result"
    }
   ],
   "source": [
    "records[:20]"
   ]
  },
  {
   "cell_type": "markdown",
   "metadata": {},
   "source": [
    "#### Implement FP-Tree and test with example from lecture notes"
   ]
  },
  {
   "cell_type": "code",
   "execution_count": 24,
   "metadata": {},
   "outputs": [],
   "source": [
    "class FPTreeNode:\n",
    "    \n",
    "    def __init__(self, item=None, count=None, parent=None):\n",
    "        self.root = False\n",
    "        self.item = item\n",
    "        self.count = count\n",
    "        self.parent = parent\n",
    "        self.children = []\n",
    "        if parent == None:\n",
    "            self.root = True\n",
    "            self.item = \"{}\"\n",
    "    \n",
    "    def find_child_with_item(self, item):\n",
    "        for child in self.children:\n",
    "            if child.item == item:\n",
    "                return child\n",
    "        else:\n",
    "            return None\n",
    "        \n",
    "    def add(self, record):\n",
    "        if not self.root:\n",
    "            while len(record) != 0 and self.item == record[0]:\n",
    "                self.count += 1\n",
    "                record.pop(0)\n",
    "        if len(record) == 0:\n",
    "            return\n",
    "        child = self.find_child_with_item(record[0])\n",
    "        if child != None:\n",
    "            child.add(record)\n",
    "        else:\n",
    "            self.children.append(FPTreeNode(record[0], 1, self))\n",
    "            self.children[-1].parent = self\n",
    "            self.children[-1].add(record[1:])\n",
    "    \n",
    "    def show(self):\n",
    "        # Only useful for development ...\n",
    "        # BFS to print\n",
    "        queue = []\n",
    "        queue.append(self)\n",
    "        queue.append(None) # as a delimiter\n",
    "        while len(queue) > 1:\n",
    "            cur = queue.pop(0)\n",
    "            if cur == None:\n",
    "                queue.append(None)\n",
    "                print(\"\\n\")\n",
    "            else:\n",
    "                for child in cur.children:\n",
    "                    queue.append(child)\n",
    "                print(f\"{cur.item}:{cur.count} \", end='')\n",
    "    \n",
    "    def get_cpb(self, item):\n",
    "        # Get cpb end with item\n",
    "        # First find the nodes of that item\n",
    "        nodes = []\n",
    "        # DFS to search for the nodes\n",
    "        stack = []\n",
    "        stack.append(self)\n",
    "        while len(stack) > 0:\n",
    "            cur = stack.pop()\n",
    "            if cur.item == item:\n",
    "                nodes.append(cur)\n",
    "            for child in cur.children:\n",
    "                stack.append(child)\n",
    "        # Based on the nodes, find the cpb and count\n",
    "        cpb_and_count = []\n",
    "        for node in nodes:\n",
    "            cpb = []\n",
    "            cur = node\n",
    "            while cur.parent and cur.parent.item != \"{}\":\n",
    "                cpb.append(cur.parent.item)\n",
    "                cur = cur.parent\n",
    "            cpb.reverse()\n",
    "            if len(cpb) == 0:\n",
    "                continue\n",
    "            cpb_and_count.append((cpb, node.count))\n",
    "        cpb_and_count.reverse() # due to stack\n",
    "        return cpb_and_count\n",
    "    \n",
    "    def get_cft(self, item, min_count):\n",
    "        cpb_and_count = self.get_cpb(item)\n",
    "        cft = OrderedDict()\n",
    "        for (pattern, count) in cpb_and_count:\n",
    "            for item in pattern:\n",
    "                if item not in cft:\n",
    "                    cft[item] = count\n",
    "                else:\n",
    "                    cft[item] += count\n",
    "        filtered_cft = OrderedDict()\n",
    "        for k, v in cft.items():\n",
    "            if v >= min_count:\n",
    "                filtered_cft[k] = v\n",
    "        return filtered_cft\n",
    "    \n",
    "    def get_frequent_itemsets(self, one_itemset_list, min_sup_count):\n",
    "        cft_list = [self.get_cft(i, min_sup_count) for i in one_itemset_list]\n",
    "        frequent_itemsets = []\n",
    "        for i in range(len(cft_list)):\n",
    "            cft_items = list(cft_list[i])\n",
    "            end_base = one_itemset_list[i]\n",
    "            frequent_itemsets.append([end_base])\n",
    "            if len(cft_items) == 0:\n",
    "                continue\n",
    "            for i in range(1, len(cft_items)+1):\n",
    "                i_combinations = [list(j) for j in list(combinations(cft_items, i))]\n",
    "                for i_combination in i_combinations:\n",
    "                    i_combination.append(end_base)\n",
    "                frequent_itemsets.extend(i_combinations)\n",
    "        return frequent_itemsets\n",
    "    \n",
    "    def get_maximal_frequent_itemsets(self, one_itemset_list, min_sup_count, at_least_two=True):\n",
    "        cft_list = [self.get_cft(i, min_sup_count) for i in one_itemset_list]\n",
    "        frequent_itemsets = []\n",
    "        for i in range(len(cft_list)):\n",
    "            cft_items = list(cft_list[i].items())\n",
    "            if at_least_two and len(cft_items) == 0:\n",
    "                continue\n",
    "            min_count_in_cft = min([i[1] for i in cft_items])\n",
    "            end_base = one_itemset_list[i]\n",
    "            cft_items_w_count = ([i[0] for i in cft_items] + [end_base], min_count_in_cft) \n",
    "            frequent_itemsets.append(cft_items_w_count)\n",
    "        return frequent_itemsets"
   ]
  },
  {
   "cell_type": "code",
   "execution_count": 25,
   "metadata": {},
   "outputs": [],
   "source": [
    "test_records = [\n",
    "    ['f', 'c', 'a', 'm', 'p'],\n",
    "    ['f', 'c', 'a', 'b', 'm'],\n",
    "    ['f', 'c', 'b'],\n",
    "    ['c', 'b', 'p'],\n",
    "    ['f', 'c', 'a', 'm', 'p']\n",
    "]"
   ]
  },
  {
   "cell_type": "code",
   "execution_count": 26,
   "metadata": {},
   "outputs": [],
   "source": [
    "fp_tree = FPTreeNode()"
   ]
  },
  {
   "cell_type": "code",
   "execution_count": 27,
   "metadata": {},
   "outputs": [],
   "source": [
    "for test_record in test_records:\n",
    "    fp_tree.add(test_record)"
   ]
  },
  {
   "cell_type": "code",
   "execution_count": 28,
   "metadata": {},
   "outputs": [
    {
     "name": "stdout",
     "output_type": "stream",
     "text": [
      "{}:None \n",
      "\n",
      "f:4 c:1 \n",
      "\n",
      "c:4 b:1 \n",
      "\n",
      "a:3 b:1 p:1 \n",
      "\n",
      "m:2 b:1 \n",
      "\n",
      "p:2 m:1 "
     ]
    }
   ],
   "source": [
    "fp_tree.show()"
   ]
  },
  {
   "cell_type": "code",
   "execution_count": 29,
   "metadata": {},
   "outputs": [
    {
     "name": "stdout",
     "output_type": "stream",
     "text": [
      "[(['f', 'c', 'a', 'm'], 2), (['c', 'b'], 1)]\n",
      "[(['f', 'c', 'a'], 2), (['f', 'c', 'a', 'b'], 1)]\n",
      "[(['f', 'c', 'a'], 1), (['f', 'c'], 1), (['c'], 1)]\n",
      "[(['f', 'c'], 3)]\n",
      "[(['f'], 4)]\n",
      "[]\n"
     ]
    }
   ],
   "source": [
    "for char in \"pmbacf\":\n",
    "    print(fp_tree.get_cpb(char))"
   ]
  },
  {
   "cell_type": "code",
   "execution_count": 30,
   "metadata": {},
   "outputs": [
    {
     "data": {
      "text/plain": [
       "[('f', 3), ('c', 3), ('a', 3)]"
      ]
     },
     "execution_count": 30,
     "metadata": {},
     "output_type": "execute_result"
    }
   ],
   "source": [
    "list(fp_tree.get_cft('m', 3).items())"
   ]
  },
  {
   "cell_type": "code",
   "execution_count": 31,
   "metadata": {},
   "outputs": [
    {
     "name": "stdout",
     "output_type": "stream",
     "text": [
      "OrderedDict([('c', 3)])\n",
      "OrderedDict([('f', 3), ('c', 3), ('a', 3)])\n",
      "OrderedDict([('c', 3)])\n",
      "OrderedDict([('f', 3), ('c', 3)])\n",
      "OrderedDict([('f', 4)])\n",
      "OrderedDict()\n"
     ]
    }
   ],
   "source": [
    "for char in \"pmbacf\":\n",
    "    print(fp_tree.get_cft(char, 3))"
   ]
  },
  {
   "cell_type": "code",
   "execution_count": 32,
   "metadata": {},
   "outputs": [
    {
     "data": {
      "text/plain": [
       "[['p'],\n",
       " ['c', 'p'],\n",
       " ['m'],\n",
       " ['f', 'm'],\n",
       " ['c', 'm'],\n",
       " ['a', 'm'],\n",
       " ['f', 'c', 'm'],\n",
       " ['f', 'a', 'm'],\n",
       " ['c', 'a', 'm'],\n",
       " ['f', 'c', 'a', 'm'],\n",
       " ['b'],\n",
       " ['c', 'b'],\n",
       " ['a'],\n",
       " ['f', 'a'],\n",
       " ['c', 'a'],\n",
       " ['f', 'c', 'a'],\n",
       " ['c'],\n",
       " ['f', 'c'],\n",
       " ['f']]"
      ]
     },
     "execution_count": 32,
     "metadata": {},
     "output_type": "execute_result"
    }
   ],
   "source": [
    "fp_tree.get_frequent_itemsets(\"pmbacf\", 3)"
   ]
  },
  {
   "cell_type": "code",
   "execution_count": 33,
   "metadata": {},
   "outputs": [
    {
     "data": {
      "text/plain": [
       "[(['c', 'p'], 3),\n",
       " (['f', 'c', 'a', 'm'], 3),\n",
       " (['c', 'b'], 3),\n",
       " (['f', 'c', 'a'], 3),\n",
       " (['f', 'c'], 4)]"
      ]
     },
     "execution_count": 33,
     "metadata": {},
     "output_type": "execute_result"
    }
   ],
   "source": [
    "fp_tree.get_maximal_frequent_itemsets(\"pmbacf\", 3)"
   ]
  },
  {
   "cell_type": "code",
   "execution_count": 34,
   "metadata": {},
   "outputs": [],
   "source": [
    "def get_non_empty_subsets(frequent_itemset):\n",
    "    # NOTE: for frequent itemset of size n, only segment into pairs of subsets of sizes 1, n-1\n",
    "    # RATIONALE: save time, and it is pointless as we will find out later\n",
    "    clone = frequent_itemset[0][:]\n",
    "    frequent_itemset = set(frequent_itemset[0])\n",
    "    rule_combinations = [set(j) for j in list(combinations(frequent_itemset, 1))]\n",
    "    rule_combinations = [[j, frequent_itemset.difference(j)] for j in rule_combinations]\n",
    "    for rule_combination in rule_combinations:\n",
    "        rule_combination[0] = sorted(list(rule_combination[0]), key=lambda x: clone.index(x), reverse=False)\n",
    "        rule_combination[1] = sorted(list(rule_combination[1]), key=lambda x: clone.index(x), reverse=False)\n",
    "    return rule_combinations"
   ]
  },
  {
   "cell_type": "code",
   "execution_count": 35,
   "metadata": {},
   "outputs": [
    {
     "data": {
      "text/plain": [
       "[[['c'], ['f', 'a', 'm']],\n",
       " [['m'], ['f', 'c', 'a']],\n",
       " [['f'], ['c', 'a', 'm']],\n",
       " [['a'], ['f', 'c', 'm']]]"
      ]
     },
     "execution_count": 35,
     "metadata": {},
     "output_type": "execute_result"
    }
   ],
   "source": [
    "get_non_empty_subsets((['f', 'c', 'a', 'm'], 3))"
   ]
  },
  {
   "cell_type": "markdown",
   "metadata": {},
   "source": [
    "Looks good, now for actual dataset"
   ]
  },
  {
   "cell_type": "code",
   "execution_count": 36,
   "metadata": {},
   "outputs": [],
   "source": [
    "# Encode into integer \n",
    "counter = 0\n",
    "item_to_int_map = {}\n",
    "int_to_item_map = {}\n",
    "for record in records:\n",
    "    for item in record:\n",
    "        if item in item_to_int_map:\n",
    "            continue\n",
    "        item_to_int_map[item] = counter\n",
    "        int_to_item_map[counter] = item\n",
    "        counter += 1"
   ]
  },
  {
   "cell_type": "code",
   "execution_count": 37,
   "metadata": {},
   "outputs": [],
   "source": [
    "for i in range(len(records)):\n",
    "    for j in range(len(records[i])):\n",
    "        records[i][j] = item_to_int_map[records[i][j]]\n",
    "for i in range(len(frequent_one_itemset)):\n",
    "    frequent_one_itemset[i] = item_to_int_map[frequent_one_itemset[i]]"
   ]
  },
  {
   "cell_type": "code",
   "execution_count": 38,
   "metadata": {},
   "outputs": [],
   "source": [
    "fp_tree = FPTreeNode()\n",
    "for record in records:\n",
    "    fp_tree.add(record)"
   ]
  },
  {
   "cell_type": "code",
   "execution_count": 39,
   "metadata": {},
   "outputs": [
    {
     "data": {
      "text/plain": [
       "30.82"
      ]
     },
     "execution_count": 39,
     "metadata": {},
     "output_type": "execute_result"
    }
   ],
   "source": [
    "min_sup_count"
   ]
  },
  {
   "cell_type": "code",
   "execution_count": 40,
   "metadata": {},
   "outputs": [],
   "source": [
    "# Focus on maximal only. RAM no space to store all and maximal is more meaningful\n",
    "maximal_frequent_itemsets = fp_tree.get_maximal_frequent_itemsets(frequent_one_itemset, min_sup_count)"
   ]
  },
  {
   "cell_type": "code",
   "execution_count": 41,
   "metadata": {},
   "outputs": [],
   "source": [
    "def sublist(ls1, ls2):\n",
    "    def get_all_in(one, another):\n",
    "        for element in one:\n",
    "            if element in another:\n",
    "                yield element\n",
    "\n",
    "    for x1, x2 in zip(get_all_in(ls1, ls2), get_all_in(ls2, ls1)):\n",
    "        if x1 != x2:\n",
    "            return False\n",
    "    return True"
   ]
  },
  {
   "cell_type": "code",
   "execution_count": 42,
   "metadata": {},
   "outputs": [],
   "source": [
    "def get_rule(records, no_conf_rule):\n",
    "    itemset = no_conf_rule[0] + no_conf_rule[1]\n",
    "    support_count_total = 0\n",
    "    support_count_lhs = 0\n",
    "    for record in records:\n",
    "        if sublist(itemset, record):\n",
    "            support_count_total += 1\n",
    "        if sublist(no_conf_rule[0], record):\n",
    "            support_count_lhs += 1\n",
    "    return no_conf_rule + [support_count_total/len(records), support_count_total/support_count_lhs]"
   ]
  },
  {
   "cell_type": "code",
   "execution_count": 43,
   "metadata": {},
   "outputs": [
    {
     "name": "stderr",
     "output_type": "stream",
     "text": [
      "100%|██████████| 48/48 [00:02<00:00, 20.41it/s]\n"
     ]
    }
   ],
   "source": [
    "rules = []\n",
    "for frequent_itemset in tqdm(maximal_frequent_itemsets):\n",
    "    no_conf_rules = get_non_empty_subsets(frequent_itemset)\n",
    "    for no_conf_rule in no_conf_rules:\n",
    "        rules.append(get_rule(records, no_conf_rule))"
   ]
  },
  {
   "cell_type": "code",
   "execution_count": 44,
   "metadata": {},
   "outputs": [
    {
     "data": {
      "text/plain": [
       "0.9944841012329656"
      ]
     },
     "execution_count": 44,
     "metadata": {},
     "output_type": "execute_result"
    }
   ],
   "source": [
    "# min confidence of rules\n",
    "min([rule[3] for rule in rules])"
   ]
  },
  {
   "cell_type": "markdown",
   "metadata": {},
   "source": [
    "Means that if you permutate all possible rules of a maximal frequent set for all maximal frequent sets, the worst confidence of a rule is 99.4%\n",
    "\n",
    "The existence of an item in maximal frequent set means implies item -> the rest of the items in the maximal frequent set with confidence of at least 99.4%\n",
    "\n",
    "We can simply analyze maximal frequent itemset"
   ]
  },
  {
   "cell_type": "code",
   "execution_count": 45,
   "metadata": {},
   "outputs": [],
   "source": [
    "# Convert to item names\n",
    "for i in range(len(maximal_frequent_itemsets)):\n",
    "    for j in range(len(maximal_frequent_itemsets[i][0])):\n",
    "        maximal_frequent_itemsets[i][0][j] = int_to_item_map[maximal_frequent_itemsets[i][0][j]]"
   ]
  },
  {
   "cell_type": "code",
   "execution_count": 46,
   "metadata": {},
   "outputs": [],
   "source": [
    "# Sort of frequency\n",
    "maximal_frequent_itemsets.sort(key=lambda x: x[1], reverse=True)"
   ]
  },
  {
   "cell_type": "code",
   "execution_count": 47,
   "metadata": {},
   "outputs": [
    {
     "data": {
      "text/plain": [
       "[(['funny', 'comedy'], 174),\n",
       " (['makeup', 'beauty'], 72),\n",
       " (['football', 'soccer'], 50),\n",
       " (['makeup', 'how to'], 47),\n",
       " (['beauty', 'fashion'], 46),\n",
       " (['vlog', 'vlogging'], 44),\n",
       " (['funny', 'snl'], 44),\n",
       " (['talk show', 'funny', 'humor', 'television', 'nbc'], 42),\n",
       " (['funny', 'humor', 'talk show', 'television', 'nbc', 'nbc tv'], 42),\n",
       " (['comedy', 'funny', 'sketch'], 41),\n",
       " (['funny', 'vlog'], 40),\n",
       " (['funny', 'interview'], 40),\n",
       " (['vlog', 'daily'], 40),\n",
       " (['funny', 'nbc', 'talent'], 39),\n",
       " (['how to', 'makeup', 'beauty', 'tutorial'], 38),\n",
       " (['football', 'highlights'], 37),\n",
       " (['comedy', 'funny', 'humor', 'celebrity'], 35),\n",
       " (['vlog', 'makeup'], 34),\n",
       " (['comedy', 'interview', 'funny', 'humor', 'talk show'], 34),\n",
       " (['comedy',\n",
       "   'funny',\n",
       "   'humor',\n",
       "   'celebrity',\n",
       "   'celebrities',\n",
       "   'funny video',\n",
       "   'hollywood'],\n",
       "  34),\n",
       " (['funny',\n",
       "   'comedy',\n",
       "   'humor',\n",
       "   'talk show',\n",
       "   'comedian',\n",
       "   'celebrity',\n",
       "   'celebrities',\n",
       "   'funny video',\n",
       "   'hollywood',\n",
       "   'late night'],\n",
       "  34),\n",
       " (['funny',\n",
       "   'comedy',\n",
       "   'humor',\n",
       "   'celebrity',\n",
       "   'celebrities',\n",
       "   'funny video',\n",
       "   'hollywood',\n",
       "   'comedian',\n",
       "   'late night',\n",
       "   'talk show',\n",
       "   'jokes'],\n",
       "  34),\n",
       " (['comedy',\n",
       "   'celebrity',\n",
       "   'celebrities',\n",
       "   'funny',\n",
       "   'humor',\n",
       "   'funny video',\n",
       "   'hollywood',\n",
       "   'comedian',\n",
       "   'late night',\n",
       "   'jokes',\n",
       "   'famous'],\n",
       "  34),\n",
       " (['funny',\n",
       "   'comedy',\n",
       "   'humor',\n",
       "   'celebrity',\n",
       "   'celebrities',\n",
       "   'funny video',\n",
       "   'hollywood',\n",
       "   'comedian',\n",
       "   'late night',\n",
       "   'jokes',\n",
       "   'famous',\n",
       "   'joke'],\n",
       "  34),\n",
       " (['funny',\n",
       "   'comedy',\n",
       "   'humor',\n",
       "   'celebrity',\n",
       "   'celebrities',\n",
       "   'funny video',\n",
       "   'hollywood',\n",
       "   'comedian',\n",
       "   'late night',\n",
       "   'jokes',\n",
       "   'famous',\n",
       "   'joke',\n",
       "   'cbs'],\n",
       "  34),\n",
       " (['funny',\n",
       "   'comedy',\n",
       "   'humor',\n",
       "   'celebrity',\n",
       "   'celebrities',\n",
       "   'funny video',\n",
       "   'hollywood',\n",
       "   'comedian',\n",
       "   'late night',\n",
       "   'jokes',\n",
       "   'famous',\n",
       "   'joke',\n",
       "   'cbs',\n",
       "   'funny videos'],\n",
       "  34),\n",
       " (['comedy',\n",
       "   'celebrity',\n",
       "   'celebrities',\n",
       "   'famous',\n",
       "   'funny',\n",
       "   'humor',\n",
       "   'funny video',\n",
       "   'hollywood',\n",
       "   'comedian',\n",
       "   'late night',\n",
       "   'jokes',\n",
       "   'joke',\n",
       "   'cbs',\n",
       "   'funny videos',\n",
       "   'celeb'],\n",
       "  34),\n",
       " (['funny',\n",
       "   'comedy',\n",
       "   'humor',\n",
       "   'celebrity',\n",
       "   'celebrities',\n",
       "   'funny video',\n",
       "   'hollywood',\n",
       "   'comedian',\n",
       "   'late night',\n",
       "   'jokes',\n",
       "   'famous',\n",
       "   'joke',\n",
       "   'cbs',\n",
       "   'funny videos',\n",
       "   'celeb',\n",
       "   'impressions'],\n",
       "  34),\n",
       " (['funny',\n",
       "   'comedy',\n",
       "   'humor',\n",
       "   'celebrity',\n",
       "   'celebrities',\n",
       "   'funny video',\n",
       "   'hollywood',\n",
       "   'comedian',\n",
       "   'late night',\n",
       "   'jokes',\n",
       "   'famous',\n",
       "   'joke',\n",
       "   'cbs',\n",
       "   'funny videos',\n",
       "   'celeb',\n",
       "   'impressions',\n",
       "   'stephen colbert'],\n",
       "  34),\n",
       " (['funny',\n",
       "   'comedy',\n",
       "   'humor',\n",
       "   'celebrity',\n",
       "   'celebrities',\n",
       "   'funny video',\n",
       "   'hollywood',\n",
       "   'comedian',\n",
       "   'late night',\n",
       "   'jokes',\n",
       "   'famous',\n",
       "   'joke',\n",
       "   'cbs',\n",
       "   'funny videos',\n",
       "   'celeb',\n",
       "   'impressions',\n",
       "   'stephen colbert',\n",
       "   'monologue'],\n",
       "  34),\n",
       " (['funny',\n",
       "   'comedy',\n",
       "   'humor',\n",
       "   'celebrity',\n",
       "   'celebrities',\n",
       "   'funny video',\n",
       "   'hollywood',\n",
       "   'comedian',\n",
       "   'late night',\n",
       "   'jokes',\n",
       "   'famous',\n",
       "   'joke',\n",
       "   'cbs',\n",
       "   'funny videos',\n",
       "   'celeb',\n",
       "   'impressions',\n",
       "   'stephen colbert',\n",
       "   'monologue',\n",
       "   'james corden'],\n",
       "  34),\n",
       " (['funny',\n",
       "   'comedy',\n",
       "   'humor',\n",
       "   'celebrity',\n",
       "   'celebrities',\n",
       "   'funny video',\n",
       "   'hollywood',\n",
       "   'comedian',\n",
       "   'late night',\n",
       "   'jokes',\n",
       "   'famous',\n",
       "   'joke',\n",
       "   'cbs',\n",
       "   'funny videos',\n",
       "   'celeb',\n",
       "   'impressions',\n",
       "   'stephen colbert',\n",
       "   'monologue',\n",
       "   'james corden',\n",
       "   'colbert'],\n",
       "  34),\n",
       " (['funny',\n",
       "   'comedy',\n",
       "   'humor',\n",
       "   'celebrity',\n",
       "   'celebrities',\n",
       "   'funny video',\n",
       "   'hollywood',\n",
       "   'comedian',\n",
       "   'late night',\n",
       "   'jokes',\n",
       "   'famous',\n",
       "   'joke',\n",
       "   'cbs',\n",
       "   'funny videos',\n",
       "   'celeb',\n",
       "   'impressions',\n",
       "   'stephen colbert',\n",
       "   'monologue',\n",
       "   'james corden',\n",
       "   'colbert',\n",
       "   'the late late show'],\n",
       "  34),\n",
       " (['funny',\n",
       "   'comedy',\n",
       "   'humor',\n",
       "   'celebrity',\n",
       "   'celebrities',\n",
       "   'funny video',\n",
       "   'hollywood',\n",
       "   'comedian',\n",
       "   'late night',\n",
       "   'jokes',\n",
       "   'famous',\n",
       "   'joke',\n",
       "   'cbs',\n",
       "   'funny videos',\n",
       "   'celeb',\n",
       "   'impressions',\n",
       "   'stephen colbert',\n",
       "   'monologue',\n",
       "   'james corden',\n",
       "   'colbert',\n",
       "   'the late late show',\n",
       "   'corden'],\n",
       "  34),\n",
       " (['funny',\n",
       "   'comedy',\n",
       "   'humor',\n",
       "   'celebrity',\n",
       "   'celebrities',\n",
       "   'funny video',\n",
       "   'hollywood',\n",
       "   'comedian',\n",
       "   'late night',\n",
       "   'jokes',\n",
       "   'famous',\n",
       "   'joke',\n",
       "   'cbs',\n",
       "   'funny videos',\n",
       "   'celeb',\n",
       "   'impressions',\n",
       "   'stephen colbert',\n",
       "   'monologue',\n",
       "   'james corden',\n",
       "   'colbert',\n",
       "   'the late late show',\n",
       "   'corden',\n",
       "   'late late show'],\n",
       "  34),\n",
       " (['humor', 'funny', 'talk show', 'video', 'television'], 33),\n",
       " (['vlog', 'vlogger'], 33),\n",
       " (['makeup', 'cosmetics'], 33),\n",
       " (['funny', 'music'], 32),\n",
       " (['comedy',\n",
       "   'talk show',\n",
       "   'funny',\n",
       "   'humor',\n",
       "   'celebrity',\n",
       "   'celebrities',\n",
       "   'funny video',\n",
       "   'hollywood',\n",
       "   'comedian'],\n",
       "  32),\n",
       " (['comedy', 'funny', 'interview', 'humor'], 31),\n",
       " (['funny', 'humor', 'interview', 'video'], 31),\n",
       " (['comedy',\n",
       "   'interview',\n",
       "   'celebrity',\n",
       "   'television',\n",
       "   'funny',\n",
       "   'humor',\n",
       "   'talk show',\n",
       "   'video',\n",
       "   'celebrities'],\n",
       "  31),\n",
       " (['funny',\n",
       "   'comedy',\n",
       "   'humor',\n",
       "   'celebrity',\n",
       "   'celebrities',\n",
       "   'talk show',\n",
       "   'video',\n",
       "   'television',\n",
       "   'funny video'],\n",
       "  31),\n",
       " (['funny', 'talk show', 'television', 'clip'], 31),\n",
       " (['interview', 'television', 'funny', 'clip', 'video', 'show'], 31),\n",
       " (['video', 'highlight'], 31),\n",
       " (['funny', 'talk show', 'clip', 'show', 'television', 'comedic'], 31)]"
      ]
     },
     "execution_count": 47,
     "metadata": {},
     "output_type": "execute_result"
    }
   ],
   "source": [
    "maximal_frequent_itemsets"
   ]
  }
 ],
 "metadata": {
  "kernelspec": {
   "display_name": "Python 3",
   "language": "python",
   "name": "python3"
  },
  "language_info": {
   "codemirror_mode": {
    "name": "ipython",
    "version": 3
   },
   "file_extension": ".py",
   "mimetype": "text/x-python",
   "name": "python",
   "nbconvert_exporter": "python",
   "pygments_lexer": "ipython3",
   "version": "3.7.5"
  }
 },
 "nbformat": 4,
 "nbformat_minor": 4
}
