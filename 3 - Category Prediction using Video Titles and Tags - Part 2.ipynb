{
 "cells": [
  {
   "cell_type": "markdown",
   "metadata": {},
   "source": [
    "# 4. Category Prediction using Video Title and Tags - Part 2\n",
    "\n",
    "### Preparing GloVe Vectors"
   ]
  },
  {
   "cell_type": "code",
   "execution_count": 1,
   "metadata": {},
   "outputs": [
    {
     "name": "stderr",
     "output_type": "stream",
     "text": [
      "C:\\Users\\AJL\\Anaconda3\\lib\\site-packages\\h5py\\__init__.py:72: UserWarning: h5py is running against HDF5 1.10.2 when it was built against 1.10.3, this may cause problems\n",
      "  '{0}.{1}.{2}'.format(*version.hdf5_built_version_tuple)\n"
     ]
    }
   ],
   "source": [
    "import pandas as pd\n",
    "import numpy as np\n",
    "import tensorflow as tf\n",
    "import nltk\n",
    "from tqdm import tqdm\n",
    "from pathlib import Path\n",
    "cwd = Path('.')"
   ]
  },
  {
   "cell_type": "code",
   "execution_count": 2,
   "metadata": {},
   "outputs": [
    {
     "name": "stderr",
     "output_type": "stream",
     "text": [
      "[nltk_data] Downloading package punkt to\n",
      "[nltk_data]     C:\\Users\\AJL\\AppData\\Roaming\\nltk_data...\n",
      "[nltk_data]   Package punkt is already up-to-date!\n",
      "[nltk_data] Downloading package stopwords to\n",
      "[nltk_data]     C:\\Users\\AJL\\AppData\\Roaming\\nltk_data...\n",
      "[nltk_data]   Package stopwords is already up-to-date!\n"
     ]
    }
   ],
   "source": [
    "from nltk.corpus import stopwords\n",
    "nltk.download('punkt')\n",
    "nltk.download('stopwords')\n",
    "stopwords = set(stopwords.words('english'))\n",
    "\n",
    "from tensorflow.keras.callbacks import EarlyStopping\n",
    "from tensorflow.keras.models import Sequential\n",
    "from tensorflow.keras.layers import Dense, Dropout\n",
    "from sklearn.model_selection import train_test_split\n",
    "from collections import Counter\n",
    "import os\n",
    "from sklearn.model_selection import StratifiedKFold\n",
    "from sklearn.feature_extraction.text import TfidfVectorizer"
   ]
  },
  {
   "cell_type": "code",
   "execution_count": 3,
   "metadata": {},
   "outputs": [
    {
     "data": {
      "text/plain": [
       "'2.0.0'"
      ]
     },
     "execution_count": 3,
     "metadata": {},
     "output_type": "execute_result"
    }
   ],
   "source": [
    "tf.__version__"
   ]
  },
  {
   "cell_type": "code",
   "execution_count": 4,
   "metadata": {},
   "outputs": [],
   "source": [
    "from random import seed\n",
    "RANDOM = 42\n",
    "seed(RANDOM)\n",
    "np.random.seed(RANDOM)\n",
    "tf.random.set_seed(RANDOM)"
   ]
  },
  {
   "cell_type": "code",
   "execution_count": 5,
   "metadata": {},
   "outputs": [],
   "source": [
    "# Location of glove.twitter.27B.200d.txt file\n",
    "GLOVE_LOCATION = r'glove.twitter.27B.200d.txt'"
   ]
  },
  {
   "cell_type": "code",
   "execution_count": 6,
   "metadata": {},
   "outputs": [],
   "source": [
    "def read_glove_vecs(glove_file):\n",
    "    with open(glove_file, 'r', encoding=\"utf8\") as f:\n",
    "        words = set()\n",
    "        word_to_vec_map = {}\n",
    "        for line in f:\n",
    "            line = line.strip().split()\n",
    "            curr_word = line[0]\n",
    "            words.add(curr_word)\n",
    "            word_to_vec_map[curr_word] = np.array(line[1:], dtype=np.float64)\n",
    "        \n",
    "        i = 1\n",
    "        words_to_index = {}\n",
    "        index_to_words = {}\n",
    "        for w in sorted(words):\n",
    "            words_to_index[w] = i\n",
    "            index_to_words[i] = w\n",
    "            i = i + 1\n",
    "    return words_to_index, index_to_words, word_to_vec_map"
   ]
  },
  {
   "cell_type": "code",
   "execution_count": 7,
   "metadata": {},
   "outputs": [],
   "source": [
    "def sentence_to_avg(sentence, word_to_vec_map):\n",
    "    words = sentence.split()\n",
    "    avg = np.zeros(200) # depends on glove\n",
    "    num_valid_words = 0\n",
    "    for w in words:\n",
    "        if w in word_to_vec_map:\n",
    "            avg += word_to_vec_map[w]\n",
    "            num_valid_words += 1\n",
    "    if num_valid_words == 0:\n",
    "        return np.zeros(200)\n",
    "    else:\n",
    "        return avg / num_valid_words"
   ]
  },
  {
   "cell_type": "code",
   "execution_count": 8,
   "metadata": {},
   "outputs": [],
   "source": [
    "df = pd.read_csv(cwd/'output'/\"title_tags_videos_df.csv\")"
   ]
  },
  {
   "cell_type": "code",
   "execution_count": 9,
   "metadata": {},
   "outputs": [
    {
     "name": "stdout",
     "output_type": "stream",
     "text": [
      "3388\n"
     ]
    },
    {
     "ename": "FileNotFoundError",
     "evalue": "[Errno 2] No such file or directory: 'glove.twitter.27B.200d.txt'",
     "output_type": "error",
     "traceback": [
      "\u001b[1;31m---------------------------------------------------------------------------\u001b[0m",
      "\u001b[1;31mFileNotFoundError\u001b[0m                         Traceback (most recent call last)",
      "\u001b[1;32m<ipython-input-9-2f2edd9f0a48>\u001b[0m in \u001b[0;36m<module>\u001b[1;34m\u001b[0m\n\u001b[0;32m      4\u001b[0m     \u001b[0mtitle_and_tags\u001b[0m \u001b[1;33m=\u001b[0m \u001b[0mdf\u001b[0m\u001b[1;33m[\u001b[0m\u001b[1;34m'title_and_tags'\u001b[0m\u001b[1;33m]\u001b[0m\u001b[1;33m.\u001b[0m\u001b[0mastype\u001b[0m\u001b[1;33m(\u001b[0m\u001b[0mstr\u001b[0m\u001b[1;33m)\u001b[0m\u001b[1;33m.\u001b[0m\u001b[0mtolist\u001b[0m\u001b[1;33m(\u001b[0m\u001b[1;33m)\u001b[0m\u001b[1;33m\u001b[0m\u001b[1;33m\u001b[0m\u001b[0m\n\u001b[0;32m      5\u001b[0m     \u001b[0mprint\u001b[0m\u001b[1;33m(\u001b[0m\u001b[0mlen\u001b[0m\u001b[1;33m(\u001b[0m\u001b[0mtitle_and_tags\u001b[0m\u001b[1;33m)\u001b[0m\u001b[1;33m)\u001b[0m\u001b[1;33m\u001b[0m\u001b[1;33m\u001b[0m\u001b[0m\n\u001b[1;32m----> 6\u001b[1;33m     \u001b[0mword_to_index\u001b[0m\u001b[1;33m,\u001b[0m \u001b[0mindex_to_word\u001b[0m\u001b[1;33m,\u001b[0m \u001b[0mword_to_vec_map\u001b[0m \u001b[1;33m=\u001b[0m \u001b[0mread_glove_vecs\u001b[0m\u001b[1;33m(\u001b[0m\u001b[0mGLOVE_LOCATION\u001b[0m\u001b[1;33m)\u001b[0m\u001b[1;33m\u001b[0m\u001b[1;33m\u001b[0m\u001b[0m\n\u001b[0m\u001b[0;32m      7\u001b[0m     \u001b[0mX\u001b[0m \u001b[1;33m=\u001b[0m \u001b[0mnp\u001b[0m\u001b[1;33m.\u001b[0m\u001b[0marray\u001b[0m\u001b[1;33m(\u001b[0m\u001b[1;33m[\u001b[0m\u001b[0msentence_to_avg\u001b[0m\u001b[1;33m(\u001b[0m\u001b[0mx\u001b[0m\u001b[1;33m,\u001b[0m \u001b[0mword_to_vec_map\u001b[0m\u001b[1;33m)\u001b[0m \u001b[1;32mfor\u001b[0m \u001b[0mx\u001b[0m \u001b[1;32min\u001b[0m \u001b[0mtqdm\u001b[0m\u001b[1;33m(\u001b[0m\u001b[0mtitle_and_tags\u001b[0m\u001b[1;33m)\u001b[0m\u001b[1;33m]\u001b[0m\u001b[1;33m)\u001b[0m\u001b[1;33m\u001b[0m\u001b[1;33m\u001b[0m\u001b[0m\n\u001b[0;32m      8\u001b[0m     \u001b[0mX\u001b[0m \u001b[1;33m=\u001b[0m \u001b[0mnp\u001b[0m\u001b[1;33m.\u001b[0m\u001b[0mnan_to_num\u001b[0m\u001b[1;33m(\u001b[0m\u001b[0mX\u001b[0m\u001b[1;33m)\u001b[0m\u001b[1;33m\u001b[0m\u001b[1;33m\u001b[0m\u001b[0m\n",
      "\u001b[1;32m<ipython-input-6-ed28920138b5>\u001b[0m in \u001b[0;36mread_glove_vecs\u001b[1;34m(glove_file)\u001b[0m\n\u001b[0;32m      1\u001b[0m \u001b[1;32mdef\u001b[0m \u001b[0mread_glove_vecs\u001b[0m\u001b[1;33m(\u001b[0m\u001b[0mglove_file\u001b[0m\u001b[1;33m)\u001b[0m\u001b[1;33m:\u001b[0m\u001b[1;33m\u001b[0m\u001b[1;33m\u001b[0m\u001b[0m\n\u001b[1;32m----> 2\u001b[1;33m     \u001b[1;32mwith\u001b[0m \u001b[0mopen\u001b[0m\u001b[1;33m(\u001b[0m\u001b[0mglove_file\u001b[0m\u001b[1;33m,\u001b[0m \u001b[1;34m'r'\u001b[0m\u001b[1;33m,\u001b[0m \u001b[0mencoding\u001b[0m\u001b[1;33m=\u001b[0m\u001b[1;34m\"utf8\"\u001b[0m\u001b[1;33m)\u001b[0m \u001b[1;32mas\u001b[0m \u001b[0mf\u001b[0m\u001b[1;33m:\u001b[0m\u001b[1;33m\u001b[0m\u001b[1;33m\u001b[0m\u001b[0m\n\u001b[0m\u001b[0;32m      3\u001b[0m         \u001b[0mwords\u001b[0m \u001b[1;33m=\u001b[0m \u001b[0mset\u001b[0m\u001b[1;33m(\u001b[0m\u001b[1;33m)\u001b[0m\u001b[1;33m\u001b[0m\u001b[1;33m\u001b[0m\u001b[0m\n\u001b[0;32m      4\u001b[0m         \u001b[0mword_to_vec_map\u001b[0m \u001b[1;33m=\u001b[0m \u001b[1;33m{\u001b[0m\u001b[1;33m}\u001b[0m\u001b[1;33m\u001b[0m\u001b[1;33m\u001b[0m\u001b[0m\n\u001b[0;32m      5\u001b[0m         \u001b[1;32mfor\u001b[0m \u001b[0mline\u001b[0m \u001b[1;32min\u001b[0m \u001b[0mf\u001b[0m\u001b[1;33m:\u001b[0m\u001b[1;33m\u001b[0m\u001b[1;33m\u001b[0m\u001b[0m\n",
      "\u001b[1;31mFileNotFoundError\u001b[0m: [Errno 2] No such file or directory: 'glove.twitter.27B.200d.txt'"
     ]
    }
   ],
   "source": [
    "if os.path.isfile('X_GloVe.npy'): # if cwd has the file\n",
    "    X = np.load(\"X_GloVe.npy\", allow_pickle=True)\n",
    "else:\n",
    "    title_and_tags = df['title_and_tags'].astype(str).tolist()\n",
    "    print(len(title_and_tags))\n",
    "    word_to_index, index_to_word, word_to_vec_map = read_glove_vecs(GLOVE_LOCATION)\n",
    "    X = np.array([sentence_to_avg(x, word_to_vec_map) for x in tqdm(title_and_tags)])\n",
    "    X = np.nan_to_num(X)\n",
    "    np.save('X_GloVe.npy', X)"
   ]
  },
  {
   "cell_type": "code",
   "execution_count": 14,
   "metadata": {},
   "outputs": [],
   "source": [
    "vectorizer = TfidfVectorizer()\n",
    "X_tfidf = vectorizer.fit_transform(df['title_and_tags'].values).todense()"
   ]
  },
  {
   "cell_type": "code",
   "execution_count": 15,
   "metadata": {},
   "outputs": [],
   "source": [
    "y = df['category_id'].to_numpy()"
   ]
  },
  {
   "cell_type": "code",
   "execution_count": 16,
   "metadata": {},
   "outputs": [
    {
     "data": {
      "text/plain": [
       "(3388,)"
      ]
     },
     "execution_count": 16,
     "metadata": {},
     "output_type": "execute_result"
    }
   ],
   "source": [
    "y.shape"
   ]
  },
  {
   "cell_type": "code",
   "execution_count": 17,
   "metadata": {},
   "outputs": [
    {
     "data": {
      "text/plain": [
       "(3388, 200)"
      ]
     },
     "execution_count": 17,
     "metadata": {},
     "output_type": "execute_result"
    }
   ],
   "source": [
    "X.shape"
   ]
  },
  {
   "cell_type": "code",
   "execution_count": 18,
   "metadata": {},
   "outputs": [
    {
     "data": {
      "text/plain": [
       "(3388, 16376)"
      ]
     },
     "execution_count": 18,
     "metadata": {},
     "output_type": "execute_result"
    }
   ],
   "source": [
    "X_tfidf.shape"
   ]
  },
  {
   "cell_type": "markdown",
   "metadata": {},
   "source": [
    "# Training and Tuning FFN\n",
    "Best Combination --- Hidden layers: 768, 384, 64 w/ acc of 0.6876203536987304)"
   ]
  },
  {
   "cell_type": "code",
   "execution_count": 35,
   "metadata": {},
   "outputs": [],
   "source": [
    "# We can either use GloVe embeddings or TF-IDF vectors as input. Change network_input according.\n",
    "# If using GLoVe embeddings, you will have 200 dimensions, if TF-IDF then 16376 dimensions.\n",
    "network_input = X_tfidf # or X"
   ]
  },
  {
   "cell_type": "code",
   "execution_count": 36,
   "metadata": {},
   "outputs": [
    {
     "data": {
      "text/plain": [
       "(3388, 16376)"
      ]
     },
     "execution_count": 36,
     "metadata": {},
     "output_type": "execute_result"
    }
   ],
   "source": [
    "network_input.shape"
   ]
  },
  {
   "cell_type": "code",
   "execution_count": 37,
   "metadata": {},
   "outputs": [],
   "source": [
    "num_layer_1 = [768] #[1024, 896, 768, 640, 512, 384, 256]\n",
    "num_layer_2 = [384] #[896, 768, 640, 512, 384, 256, 128]\n",
    "num_layer_3 = [64] #[768, 640, 512, 384, 256, 128, 64]"
   ]
  },
  {
   "cell_type": "code",
   "execution_count": 38,
   "metadata": {},
   "outputs": [],
   "source": [
    "permutations= [(num_1, num_2, num_3) for num_3 in num_layer_3 for num_2 in num_layer_2 for num_1 in num_layer_1\\\n",
    "               if num_1 > num_2 > num_3]"
   ]
  },
  {
   "cell_type": "code",
   "execution_count": 41,
   "metadata": {},
   "outputs": [
    {
     "name": "stdout",
     "output_type": "stream",
     "text": [
      "Completed --------- (1024, 896, 768), accuracy: 0.6686217188835144, split: 1/5\n",
      "Completed --------- (1024, 896, 768), accuracy: 0.6607929468154907, split: 2/5\n",
      "Completed --------- (1024, 896, 768), accuracy: 0.7014706134796143, split: 3/5\n",
      "Completed --------- (1024, 896, 768), accuracy: 0.6696296334266663, split: 4/5\n",
      "Completed --------- (1024, 896, 768), accuracy: 0.6313433051109314, split: 5/5\n",
      "Completed --------- (1024, 896, 640), accuracy: 0.6891495585441589, split: 1/5\n",
      "Completed --------- (1024, 896, 640), accuracy: 0.6740087866783142, split: 2/5\n",
      "Completed --------- (1024, 896, 640), accuracy: 0.7014706134796143, split: 3/5\n",
      "Completed --------- (1024, 896, 640), accuracy: 0.6725925803184509, split: 4/5\n",
      "Completed --------- (1024, 896, 640), accuracy: 0.6313433051109314, split: 5/5\n",
      "Completed --------- (1024, 768, 640), accuracy: 0.6818181872367859, split: 1/5\n",
      "Completed --------- (1024, 768, 640), accuracy: 0.6710719466209412, split: 2/5\n",
      "Completed --------- (1024, 768, 640), accuracy: 0.7058823704719543, split: 3/5\n",
      "Completed --------- (1024, 768, 640), accuracy: 0.6637036800384521, split: 4/5\n",
      "Completed --------- (1024, 768, 640), accuracy: 0.6238806247711182, split: 5/5\n",
      "Completed --------- (896, 768, 640), accuracy: 0.6744868159294128, split: 1/5\n",
      "Completed --------- (896, 768, 640), accuracy: 0.6681351065635681, split: 2/5\n",
      "Completed --------- (896, 768, 640), accuracy: 0.7029411792755127, split: 3/5\n",
      "Completed --------- (896, 768, 640), accuracy: 0.6592592597007751, split: 4/5\n",
      "Completed --------- (896, 768, 640), accuracy: 0.6507462859153748, split: 5/5\n",
      "Completed --------- (1024, 896, 512), accuracy: 0.6774193644523621, split: 1/5\n",
      "Completed --------- (1024, 896, 512), accuracy: 0.6696035265922546, split: 2/5\n",
      "Completed --------- (1024, 896, 512), accuracy: 0.7176470756530762, split: 3/5\n",
      "Completed --------- (1024, 896, 512), accuracy: 0.6622222065925598, split: 4/5\n",
      "Completed --------- (1024, 896, 512), accuracy: 0.625373125076294, split: 5/5\n",
      "Completed --------- (1024, 768, 512), accuracy: 0.6891495585441589, split: 1/5\n",
      "Completed --------- (1024, 768, 512), accuracy: 0.6740087866783142, split: 2/5\n",
      "Completed --------- (1024, 768, 512), accuracy: 0.699999988079071, split: 3/5\n",
      "Completed --------- (1024, 768, 512), accuracy: 0.6681481599807739, split: 4/5\n",
      "Completed --------- (1024, 768, 512), accuracy: 0.620895504951477, split: 5/5\n",
      "Completed --------- (896, 768, 512), accuracy: 0.6920821070671082, split: 1/5\n",
      "Completed --------- (896, 768, 512), accuracy: 0.6740087866783142, split: 2/5\n",
      "Completed --------- (896, 768, 512), accuracy: 0.7102941274642944, split: 3/5\n",
      "Completed --------- (896, 768, 512), accuracy: 0.6681481599807739, split: 4/5\n",
      "Completed --------- (896, 768, 512), accuracy: 0.6402984857559204, split: 5/5\n",
      "Completed --------- (1024, 640, 512), accuracy: 0.6744868159294128, split: 1/5\n",
      "Completed --------- (1024, 640, 512), accuracy: 0.6725403666496277, split: 2/5\n",
      "Completed --------- (1024, 640, 512), accuracy: 0.7117646932601929, split: 3/5\n",
      "Completed --------- (1024, 640, 512), accuracy: 0.6696296334266663, split: 4/5\n",
      "Completed --------- (1024, 640, 512), accuracy: 0.6402984857559204, split: 5/5\n",
      "Completed --------- (896, 640, 512), accuracy: 0.6847507357597351, split: 1/5\n",
      "Completed --------- (896, 640, 512), accuracy: 0.6651982665061951, split: 2/5\n",
      "Completed --------- (896, 640, 512), accuracy: 0.7102941274642944, split: 3/5\n",
      "Completed --------- (896, 640, 512), accuracy: 0.6725925803184509, split: 4/5\n",
      "Completed --------- (896, 640, 512), accuracy: 0.6388059854507446, split: 5/5\n",
      "Completed --------- (768, 640, 512), accuracy: 0.6906158328056335, split: 1/5\n",
      "Completed --------- (768, 640, 512), accuracy: 0.6622613668441772, split: 2/5\n",
      "Completed --------- (768, 640, 512), accuracy: 0.6985294222831726, split: 3/5\n",
      "Completed --------- (768, 640, 512), accuracy: 0.6577777862548828, split: 4/5\n",
      "Completed --------- (768, 640, 512), accuracy: 0.6268656849861145, split: 5/5\n",
      "Completed --------- (1024, 896, 384), accuracy: 0.6862170100212097, split: 1/5\n",
      "Completed --------- (1024, 896, 384), accuracy: 0.6842877864837646, split: 2/5\n",
      "Completed --------- (1024, 896, 384), accuracy: 0.7220588326454163, split: 3/5\n",
      "Completed --------- (1024, 896, 384), accuracy: 0.6814814805984497, split: 4/5\n",
      "Completed --------- (1024, 896, 384), accuracy: 0.6328358054161072, split: 5/5\n",
      "Completed --------- (1024, 768, 384), accuracy: 0.6671554446220398, split: 1/5\n",
      "Completed --------- (1024, 768, 384), accuracy: 0.6798825263977051, split: 2/5\n",
      "Completed --------- (1024, 768, 384), accuracy: 0.7088235020637512, split: 3/5\n",
      "Completed --------- (1024, 768, 384), accuracy: 0.6681481599807739, split: 4/5\n",
      "Completed --------- (1024, 768, 384), accuracy: 0.641791045665741, split: 5/5\n",
      "Completed --------- (896, 768, 384), accuracy: 0.6935483813285828, split: 1/5\n",
      "Completed --------- (896, 768, 384), accuracy: 0.6651982665061951, split: 2/5\n",
      "Completed --------- (896, 768, 384), accuracy: 0.7132353186607361, split: 3/5\n",
      "Completed --------- (896, 768, 384), accuracy: 0.6696296334266663, split: 4/5\n",
      "Completed --------- (896, 768, 384), accuracy: 0.6223880648612976, split: 5/5\n",
      "Completed --------- (1024, 640, 384), accuracy: 0.670087993144989, split: 1/5\n",
      "Completed --------- (1024, 640, 384), accuracy: 0.6666666865348816, split: 2/5\n",
      "Completed --------- (1024, 640, 384), accuracy: 0.7029411792755127, split: 3/5\n",
      "Completed --------- (1024, 640, 384), accuracy: 0.6637036800384521, split: 4/5\n",
      "Completed --------- (1024, 640, 384), accuracy: 0.6358209252357483, split: 5/5\n",
      "Completed --------- (896, 640, 384), accuracy: 0.6891495585441589, split: 1/5\n",
      "Completed --------- (896, 640, 384), accuracy: 0.6798825263977051, split: 2/5\n",
      "Completed --------- (896, 640, 384), accuracy: 0.7073529362678528, split: 3/5\n",
      "Completed --------- (896, 640, 384), accuracy: 0.6651852130889893, split: 4/5\n",
      "Completed --------- (896, 640, 384), accuracy: 0.6358209252357483, split: 5/5\n",
      "Completed --------- (768, 640, 384), accuracy: 0.6950146555900574, split: 1/5\n",
      "Completed --------- (768, 640, 384), accuracy: 0.6681351065635681, split: 2/5\n",
      "Completed --------- (768, 640, 384), accuracy: 0.7102941274642944, split: 3/5\n",
      "Completed --------- (768, 640, 384), accuracy: 0.6725925803184509, split: 4/5\n",
      "Completed --------- (768, 640, 384), accuracy: 0.6283581852912903, split: 5/5\n",
      "Completed --------- (1024, 512, 384), accuracy: 0.6862170100212097, split: 1/5\n",
      "Completed --------- (1024, 512, 384), accuracy: 0.6651982665061951, split: 2/5\n",
      "Completed --------- (1024, 512, 384), accuracy: 0.695588231086731, split: 3/5\n",
      "Completed --------- (1024, 512, 384), accuracy: 0.6711111068725586, split: 4/5\n",
      "Completed --------- (1024, 512, 384), accuracy: 0.6268656849861145, split: 5/5\n",
      "Completed --------- (896, 512, 384), accuracy: 0.6920821070671082, split: 1/5\n",
      "Completed --------- (896, 512, 384), accuracy: 0.676945686340332, split: 2/5\n",
      "Completed --------- (896, 512, 384), accuracy: 0.7117646932601929, split: 3/5\n",
      "Completed --------- (896, 512, 384), accuracy: 0.6666666865348816, split: 4/5\n",
      "Completed --------- (896, 512, 384), accuracy: 0.6328358054161072, split: 5/5\n",
      "Completed --------- (768, 512, 384), accuracy: 0.6920821070671082, split: 1/5\n",
      "Completed --------- (768, 512, 384), accuracy: 0.6798825263977051, split: 2/5\n",
      "Completed --------- (768, 512, 384), accuracy: 0.7014706134796143, split: 3/5\n",
      "Completed --------- (768, 512, 384), accuracy: 0.6681481599807739, split: 4/5\n",
      "Completed --------- (768, 512, 384), accuracy: 0.6223880648612976, split: 5/5\n",
      "Completed --------- (640, 512, 384), accuracy: 0.6803519129753113, split: 1/5\n",
      "Completed --------- (640, 512, 384), accuracy: 0.6930983662605286, split: 2/5\n",
      "Completed --------- (640, 512, 384), accuracy: 0.7088235020637512, split: 3/5\n",
      "Completed --------- (640, 512, 384), accuracy: 0.6637036800384521, split: 4/5\n",
      "Completed --------- (640, 512, 384), accuracy: 0.6268656849861145, split: 5/5\n",
      "Completed --------- (1024, 896, 256), accuracy: 0.6803519129753113, split: 1/5\n",
      "Completed --------- (1024, 896, 256), accuracy: 0.6828193664550781, split: 2/5\n",
      "Completed --------- (1024, 896, 256), accuracy: 0.695588231086731, split: 3/5\n",
      "Completed --------- (1024, 896, 256), accuracy: 0.6844444274902344, split: 4/5\n",
      "Completed --------- (1024, 896, 256), accuracy: 0.6402984857559204, split: 5/5\n",
      "Completed --------- (1024, 768, 256), accuracy: 0.6818181872367859, split: 1/5\n",
      "Completed --------- (1024, 768, 256), accuracy: 0.6696035265922546, split: 2/5\n",
      "Completed --------- (1024, 768, 256), accuracy: 0.7044117450714111, split: 3/5\n",
      "Completed --------- (1024, 768, 256), accuracy: 0.6725925803184509, split: 4/5\n",
      "Completed --------- (1024, 768, 256), accuracy: 0.6358209252357483, split: 5/5\n",
      "Completed --------- (896, 768, 256), accuracy: 0.6774193644523621, split: 1/5\n",
      "Completed --------- (896, 768, 256), accuracy: 0.6696035265922546, split: 2/5\n",
      "Completed --------- (896, 768, 256), accuracy: 0.7058823704719543, split: 3/5\n",
      "Completed --------- (896, 768, 256), accuracy: 0.6711111068725586, split: 4/5\n",
      "Completed --------- (896, 768, 256), accuracy: 0.6477611660957336, split: 5/5\n",
      "Completed --------- (1024, 640, 256), accuracy: 0.6906158328056335, split: 1/5\n",
      "Completed --------- (1024, 640, 256), accuracy: 0.6754772663116455, split: 2/5\n",
      "Completed --------- (1024, 640, 256), accuracy: 0.7014706134796143, split: 3/5\n",
      "Completed --------- (1024, 640, 256), accuracy: 0.678518533706665, split: 4/5\n",
      "Completed --------- (1024, 640, 256), accuracy: 0.625373125076294, split: 5/5\n",
      "Completed --------- (896, 640, 256), accuracy: 0.6876832842826843, split: 1/5\n",
      "Completed --------- (896, 640, 256), accuracy: 0.6754772663116455, split: 2/5\n",
      "Completed --------- (896, 640, 256), accuracy: 0.7044117450714111, split: 3/5\n",
      "Completed --------- (896, 640, 256), accuracy: 0.6711111068725586, split: 4/5\n",
      "Completed --------- (896, 640, 256), accuracy: 0.6358209252357483, split: 5/5\n",
      "Completed --------- (768, 640, 256), accuracy: 0.6730205416679382, split: 1/5\n",
      "Completed --------- (768, 640, 256), accuracy: 0.6798825263977051, split: 2/5\n",
      "Completed --------- (768, 640, 256), accuracy: 0.7014706134796143, split: 3/5\n",
      "Completed --------- (768, 640, 256), accuracy: 0.6622222065925598, split: 4/5\n",
      "Completed --------- (768, 640, 256), accuracy: 0.6298507452011108, split: 5/5\n",
      "Completed --------- (1024, 512, 256), accuracy: 0.6935483813285828, split: 1/5\n",
      "Completed --------- (1024, 512, 256), accuracy: 0.6681351065635681, split: 2/5\n",
      "Completed --------- (1024, 512, 256), accuracy: 0.7117646932601929, split: 3/5\n",
      "Completed --------- (1024, 512, 256), accuracy: 0.6814814805984497, split: 4/5\n",
      "Completed --------- (1024, 512, 256), accuracy: 0.6388059854507446, split: 5/5\n",
      "Completed --------- (896, 512, 256), accuracy: 0.6862170100212097, split: 1/5\n",
      "Completed --------- (896, 512, 256), accuracy: 0.6798825263977051, split: 2/5\n",
      "Completed --------- (896, 512, 256), accuracy: 0.7014706134796143, split: 3/5\n",
      "Completed --------- (896, 512, 256), accuracy: 0.6666666865348816, split: 4/5\n",
      "Completed --------- (896, 512, 256), accuracy: 0.625373125076294, split: 5/5\n",
      "Completed --------- (768, 512, 256), accuracy: 0.6832844614982605, split: 1/5\n",
      "Completed --------- (768, 512, 256), accuracy: 0.6725403666496277, split: 2/5\n",
      "Completed --------- (768, 512, 256), accuracy: 0.7117646932601929, split: 3/5\n",
      "Completed --------- (768, 512, 256), accuracy: 0.6637036800384521, split: 4/5\n",
      "Completed --------- (768, 512, 256), accuracy: 0.6328358054161072, split: 5/5\n",
      "Completed --------- (640, 512, 256), accuracy: 0.6862170100212097, split: 1/5\n",
      "Completed --------- (640, 512, 256), accuracy: 0.6740087866783142, split: 2/5\n",
      "Completed --------- (640, 512, 256), accuracy: 0.699999988079071, split: 3/5\n",
      "Completed --------- (640, 512, 256), accuracy: 0.6770370602607727, split: 4/5\n",
      "Completed --------- (640, 512, 256), accuracy: 0.6328358054161072, split: 5/5\n",
      "Completed --------- (1024, 384, 256), accuracy: 0.6935483813285828, split: 1/5\n",
      "Completed --------- (1024, 384, 256), accuracy: 0.6754772663116455, split: 2/5\n",
      "Completed --------- (1024, 384, 256), accuracy: 0.7132353186607361, split: 3/5\n",
      "Completed --------- (1024, 384, 256), accuracy: 0.6577777862548828, split: 4/5\n",
      "Completed --------- (1024, 384, 256), accuracy: 0.6402984857559204, split: 5/5\n",
      "Completed --------- (896, 384, 256), accuracy: 0.6832844614982605, split: 1/5\n",
      "Completed --------- (896, 384, 256), accuracy: 0.6842877864837646, split: 2/5\n",
      "Completed --------- (896, 384, 256), accuracy: 0.7117646932601929, split: 3/5\n",
      "Completed --------- (896, 384, 256), accuracy: 0.6666666865348816, split: 4/5\n",
      "Completed --------- (896, 384, 256), accuracy: 0.6298507452011108, split: 5/5\n",
      "Completed --------- (768, 384, 256), accuracy: 0.6788856387138367, split: 1/5\n",
      "Completed --------- (768, 384, 256), accuracy: 0.6681351065635681, split: 2/5\n",
      "Completed --------- (768, 384, 256), accuracy: 0.7191176414489746, split: 3/5\n",
      "Completed --------- (768, 384, 256), accuracy: 0.6711111068725586, split: 4/5\n",
      "Completed --------- (768, 384, 256), accuracy: 0.6388059854507446, split: 5/5\n",
      "Completed --------- (640, 384, 256), accuracy: 0.6891495585441589, split: 1/5\n",
      "Completed --------- (640, 384, 256), accuracy: 0.676945686340332, split: 2/5\n",
      "Completed --------- (640, 384, 256), accuracy: 0.7117646932601929, split: 3/5\n",
      "Completed --------- (640, 384, 256), accuracy: 0.6770370602607727, split: 4/5\n",
      "Completed --------- (640, 384, 256), accuracy: 0.6343283653259277, split: 5/5\n",
      "Completed --------- (512, 384, 256), accuracy: 0.6788856387138367, split: 1/5\n",
      "Completed --------- (512, 384, 256), accuracy: 0.6784141063690186, split: 2/5\n",
      "Completed --------- (512, 384, 256), accuracy: 0.7088235020637512, split: 3/5\n",
      "Completed --------- (512, 384, 256), accuracy: 0.6740740537643433, split: 4/5\n",
      "Completed --------- (512, 384, 256), accuracy: 0.6432836055755615, split: 5/5\n",
      "Completed --------- (1024, 896, 128), accuracy: 0.6994134783744812, split: 1/5\n",
      "Completed --------- (1024, 896, 128), accuracy: 0.6740087866783142, split: 2/5\n",
      "Completed --------- (1024, 896, 128), accuracy: 0.7102941274642944, split: 3/5\n",
      "Completed --------- (1024, 896, 128), accuracy: 0.6681481599807739, split: 4/5\n",
      "Completed --------- (1024, 896, 128), accuracy: 0.641791045665741, split: 5/5\n",
      "Completed --------- (1024, 768, 128), accuracy: 0.6803519129753113, split: 1/5\n",
      "Completed --------- (1024, 768, 128), accuracy: 0.6754772663116455, split: 2/5\n",
      "Completed --------- (1024, 768, 128), accuracy: 0.7014706134796143, split: 3/5\n",
      "Completed --------- (1024, 768, 128), accuracy: 0.6755555272102356, split: 4/5\n",
      "Completed --------- (1024, 768, 128), accuracy: 0.6462686657905579, split: 5/5\n",
      "Completed --------- (896, 768, 128), accuracy: 0.6906158328056335, split: 1/5\n",
      "Completed --------- (896, 768, 128), accuracy: 0.6828193664550781, split: 2/5\n",
      "Completed --------- (896, 768, 128), accuracy: 0.7117646932601929, split: 3/5\n",
      "Completed --------- (896, 768, 128), accuracy: 0.6666666865348816, split: 4/5\n",
      "Completed --------- (896, 768, 128), accuracy: 0.6432836055755615, split: 5/5\n",
      "Completed --------- (1024, 640, 128), accuracy: 0.6818181872367859, split: 1/5\n",
      "Completed --------- (1024, 640, 128), accuracy: 0.676945686340332, split: 2/5\n",
      "Completed --------- (1024, 640, 128), accuracy: 0.7014706134796143, split: 3/5\n",
      "Completed --------- (1024, 640, 128), accuracy: 0.6637036800384521, split: 4/5\n",
      "Completed --------- (1024, 640, 128), accuracy: 0.6328358054161072, split: 5/5\n",
      "Completed --------- (896, 640, 128), accuracy: 0.6920821070671082, split: 1/5\n",
      "Completed --------- (896, 640, 128), accuracy: 0.6842877864837646, split: 2/5\n",
      "Completed --------- (896, 640, 128), accuracy: 0.7132353186607361, split: 3/5\n",
      "Completed --------- (896, 640, 128), accuracy: 0.6666666865348816, split: 4/5\n",
      "Completed --------- (896, 640, 128), accuracy: 0.6373134255409241, split: 5/5\n",
      "Completed --------- (768, 640, 128), accuracy: 0.6891495585441589, split: 1/5\n",
      "Completed --------- (768, 640, 128), accuracy: 0.6696035265922546, split: 2/5\n",
      "Completed --------- (768, 640, 128), accuracy: 0.7147058844566345, split: 3/5\n",
      "Completed --------- (768, 640, 128), accuracy: 0.6770370602607727, split: 4/5\n",
      "Completed --------- (768, 640, 128), accuracy: 0.6388059854507446, split: 5/5\n",
      "Completed --------- (1024, 512, 128), accuracy: 0.6891495585441589, split: 1/5\n",
      "Completed --------- (1024, 512, 128), accuracy: 0.6725403666496277, split: 2/5\n",
      "Completed --------- (1024, 512, 128), accuracy: 0.7132353186607361, split: 3/5\n",
      "Completed --------- (1024, 512, 128), accuracy: 0.6696296334266663, split: 4/5\n",
      "Completed --------- (1024, 512, 128), accuracy: 0.6358209252357483, split: 5/5\n",
      "Completed --------- (896, 512, 128), accuracy: 0.696480929851532, split: 1/5\n",
      "Completed --------- (896, 512, 128), accuracy: 0.6798825263977051, split: 2/5\n",
      "Completed --------- (896, 512, 128), accuracy: 0.7073529362678528, split: 3/5\n",
      "Completed --------- (896, 512, 128), accuracy: 0.6711111068725586, split: 4/5\n",
      "Completed --------- (896, 512, 128), accuracy: 0.6402984857559204, split: 5/5\n",
      "Completed --------- (768, 512, 128), accuracy: 0.6862170100212097, split: 1/5\n",
      "Completed --------- (768, 512, 128), accuracy: 0.6696035265922546, split: 2/5\n",
      "Completed --------- (768, 512, 128), accuracy: 0.7058823704719543, split: 3/5\n",
      "Completed --------- (768, 512, 128), accuracy: 0.6740740537643433, split: 4/5\n",
      "Completed --------- (768, 512, 128), accuracy: 0.6313433051109314, split: 5/5\n",
      "Completed --------- (640, 512, 128), accuracy: 0.6935483813285828, split: 1/5\n",
      "Completed --------- (640, 512, 128), accuracy: 0.6813509464263916, split: 2/5\n",
      "Completed --------- (640, 512, 128), accuracy: 0.7073529362678528, split: 3/5\n",
      "Completed --------- (640, 512, 128), accuracy: 0.6800000071525574, split: 4/5\n",
      "Completed --------- (640, 512, 128), accuracy: 0.6179104447364807, split: 5/5\n",
      "Completed --------- (1024, 384, 128), accuracy: 0.6935483813285828, split: 1/5\n",
      "Completed --------- (1024, 384, 128), accuracy: 0.6798825263977051, split: 2/5\n",
      "Completed --------- (1024, 384, 128), accuracy: 0.7279411554336548, split: 3/5\n",
      "Completed --------- (1024, 384, 128), accuracy: 0.6859259009361267, split: 4/5\n",
      "Completed --------- (1024, 384, 128), accuracy: 0.6298507452011108, split: 5/5\n",
      "Completed --------- (896, 384, 128), accuracy: 0.6891495585441589, split: 1/5\n",
      "Completed --------- (896, 384, 128), accuracy: 0.6842877864837646, split: 2/5\n",
      "Completed --------- (896, 384, 128), accuracy: 0.7014706134796143, split: 3/5\n",
      "Completed --------- (896, 384, 128), accuracy: 0.6622222065925598, split: 4/5\n",
      "Completed --------- (896, 384, 128), accuracy: 0.6402984857559204, split: 5/5\n",
      "Completed --------- (768, 384, 128), accuracy: 0.6774193644523621, split: 1/5\n",
      "Completed --------- (768, 384, 128), accuracy: 0.676945686340332, split: 2/5\n",
      "Completed --------- (768, 384, 128), accuracy: 0.7088235020637512, split: 3/5\n",
      "Completed --------- (768, 384, 128), accuracy: 0.6740740537643433, split: 4/5\n",
      "Completed --------- (768, 384, 128), accuracy: 0.6373134255409241, split: 5/5\n",
      "Completed --------- (640, 384, 128), accuracy: 0.6862170100212097, split: 1/5\n",
      "Completed --------- (640, 384, 128), accuracy: 0.688693106174469, split: 2/5\n",
      "Completed --------- (640, 384, 128), accuracy: 0.6985294222831726, split: 3/5\n",
      "Completed --------- (640, 384, 128), accuracy: 0.6859259009361267, split: 4/5\n",
      "Completed --------- (640, 384, 128), accuracy: 0.6358209252357483, split: 5/5\n",
      "Completed --------- (512, 384, 128), accuracy: 0.6862170100212097, split: 1/5\n",
      "Completed --------- (512, 384, 128), accuracy: 0.688693106174469, split: 2/5\n",
      "Completed --------- (512, 384, 128), accuracy: 0.7102941274642944, split: 3/5\n",
      "Completed --------- (512, 384, 128), accuracy: 0.6711111068725586, split: 4/5\n",
      "Completed --------- (512, 384, 128), accuracy: 0.6432836055755615, split: 5/5\n",
      "Completed --------- (1024, 256, 128), accuracy: 0.6920821070671082, split: 1/5\n",
      "Completed --------- (1024, 256, 128), accuracy: 0.6754772663116455, split: 2/5\n",
      "Completed --------- (1024, 256, 128), accuracy: 0.7132353186607361, split: 3/5\n",
      "Completed --------- (1024, 256, 128), accuracy: 0.6651852130889893, split: 4/5\n",
      "Completed --------- (1024, 256, 128), accuracy: 0.641791045665741, split: 5/5\n",
      "Completed --------- (896, 256, 128), accuracy: 0.6979472041130066, split: 1/5\n",
      "Completed --------- (896, 256, 128), accuracy: 0.691629946231842, split: 2/5\n",
      "Completed --------- (896, 256, 128), accuracy: 0.7102941274642944, split: 3/5\n",
      "Completed --------- (896, 256, 128), accuracy: 0.6770370602607727, split: 4/5\n",
      "Completed --------- (896, 256, 128), accuracy: 0.6402984857559204, split: 5/5\n",
      "Completed --------- (768, 256, 128), accuracy: 0.6920821070671082, split: 1/5\n",
      "Completed --------- (768, 256, 128), accuracy: 0.688693106174469, split: 2/5\n",
      "Completed --------- (768, 256, 128), accuracy: 0.720588207244873, split: 3/5\n",
      "Completed --------- (768, 256, 128), accuracy: 0.678518533706665, split: 4/5\n",
      "Completed --------- (768, 256, 128), accuracy: 0.6373134255409241, split: 5/5\n",
      "Completed --------- (640, 256, 128), accuracy: 0.6803519129753113, split: 1/5\n",
      "Completed --------- (640, 256, 128), accuracy: 0.6784141063690186, split: 2/5\n",
      "Completed --------- (640, 256, 128), accuracy: 0.7176470756530762, split: 3/5\n",
      "Completed --------- (640, 256, 128), accuracy: 0.678518533706665, split: 4/5\n",
      "Completed --------- (640, 256, 128), accuracy: 0.6343283653259277, split: 5/5\n",
      "Completed --------- (512, 256, 128), accuracy: 0.6891495585441589, split: 1/5\n",
      "Completed --------- (512, 256, 128), accuracy: 0.6784141063690186, split: 2/5\n",
      "Completed --------- (512, 256, 128), accuracy: 0.7088235020637512, split: 3/5\n",
      "Completed --------- (512, 256, 128), accuracy: 0.6755555272102356, split: 4/5\n",
      "Completed --------- (512, 256, 128), accuracy: 0.6462686657905579, split: 5/5\n",
      "Completed --------- (384, 256, 128), accuracy: 0.6891495585441589, split: 1/5\n",
      "Completed --------- (384, 256, 128), accuracy: 0.6725403666496277, split: 2/5\n",
      "Completed --------- (384, 256, 128), accuracy: 0.7191176414489746, split: 3/5\n",
      "Completed --------- (384, 256, 128), accuracy: 0.6666666865348816, split: 4/5\n",
      "Completed --------- (384, 256, 128), accuracy: 0.6492537260055542, split: 5/5\n",
      "Completed --------- (1024, 896, 64), accuracy: 0.6891495585441589, split: 1/5\n",
      "Completed --------- (1024, 896, 64), accuracy: 0.6754772663116455, split: 2/5\n",
      "Completed --------- (1024, 896, 64), accuracy: 0.7117646932601929, split: 3/5\n",
      "Completed --------- (1024, 896, 64), accuracy: 0.6770370602607727, split: 4/5\n",
      "Completed --------- (1024, 896, 64), accuracy: 0.6358209252357483, split: 5/5\n",
      "Completed --------- (1024, 768, 64), accuracy: 0.6803519129753113, split: 1/5\n",
      "Completed --------- (1024, 768, 64), accuracy: 0.6798825263977051, split: 2/5\n",
      "Completed --------- (1024, 768, 64), accuracy: 0.7102941274642944, split: 3/5\n",
      "Completed --------- (1024, 768, 64), accuracy: 0.6800000071525574, split: 4/5\n",
      "Completed --------- (1024, 768, 64), accuracy: 0.6373134255409241, split: 5/5\n",
      "Completed --------- (896, 768, 64), accuracy: 0.6906158328056335, split: 1/5\n",
      "Completed --------- (896, 768, 64), accuracy: 0.6813509464263916, split: 2/5\n",
      "Completed --------- (896, 768, 64), accuracy: 0.7147058844566345, split: 3/5\n",
      "Completed --------- (896, 768, 64), accuracy: 0.678518533706665, split: 4/5\n",
      "Completed --------- (896, 768, 64), accuracy: 0.6298507452011108, split: 5/5\n",
      "Completed --------- (1024, 640, 64), accuracy: 0.6950146555900574, split: 1/5\n",
      "Completed --------- (1024, 640, 64), accuracy: 0.6842877864837646, split: 2/5\n",
      "Completed --------- (1024, 640, 64), accuracy: 0.7073529362678528, split: 3/5\n",
      "Completed --------- (1024, 640, 64), accuracy: 0.6755555272102356, split: 4/5\n",
      "Completed --------- (1024, 640, 64), accuracy: 0.6492537260055542, split: 5/5\n",
      "Completed --------- (896, 640, 64), accuracy: 0.6847507357597351, split: 1/5\n",
      "Completed --------- (896, 640, 64), accuracy: 0.6901615262031555, split: 2/5\n",
      "Completed --------- (896, 640, 64), accuracy: 0.7014706134796143, split: 3/5\n",
      "Completed --------- (896, 640, 64), accuracy: 0.6725925803184509, split: 4/5\n",
      "Completed --------- (896, 640, 64), accuracy: 0.6373134255409241, split: 5/5\n",
      "Completed --------- (768, 640, 64), accuracy: 0.6906158328056335, split: 1/5\n",
      "Completed --------- (768, 640, 64), accuracy: 0.6872246861457825, split: 2/5\n",
      "Completed --------- (768, 640, 64), accuracy: 0.7102941274642944, split: 3/5\n",
      "Completed --------- (768, 640, 64), accuracy: 0.678518533706665, split: 4/5\n",
      "Completed --------- (768, 640, 64), accuracy: 0.641791045665741, split: 5/5\n",
      "Completed --------- (1024, 512, 64), accuracy: 0.6847507357597351, split: 1/5\n",
      "Completed --------- (1024, 512, 64), accuracy: 0.6696035265922546, split: 2/5\n",
      "Completed --------- (1024, 512, 64), accuracy: 0.7235293984413147, split: 3/5\n",
      "Completed --------- (1024, 512, 64), accuracy: 0.6844444274902344, split: 4/5\n",
      "Completed --------- (1024, 512, 64), accuracy: 0.6402984857559204, split: 5/5\n",
      "Completed --------- (896, 512, 64), accuracy: 0.6920821070671082, split: 1/5\n",
      "Completed --------- (896, 512, 64), accuracy: 0.6725403666496277, split: 2/5\n",
      "Completed --------- (896, 512, 64), accuracy: 0.7102941274642944, split: 3/5\n",
      "Completed --------- (896, 512, 64), accuracy: 0.6696296334266663, split: 4/5\n",
      "Completed --------- (896, 512, 64), accuracy: 0.6358209252357483, split: 5/5\n",
      "Completed --------- (768, 512, 64), accuracy: 0.6920821070671082, split: 1/5\n",
      "Completed --------- (768, 512, 64), accuracy: 0.6784141063690186, split: 2/5\n",
      "Completed --------- (768, 512, 64), accuracy: 0.7102941274642944, split: 3/5\n",
      "Completed --------- (768, 512, 64), accuracy: 0.6637036800384521, split: 4/5\n",
      "Completed --------- (768, 512, 64), accuracy: 0.641791045665741, split: 5/5\n",
      "Completed --------- (640, 512, 64), accuracy: 0.6920821070671082, split: 1/5\n",
      "Completed --------- (640, 512, 64), accuracy: 0.6842877864837646, split: 2/5\n",
      "Completed --------- (640, 512, 64), accuracy: 0.7132353186607361, split: 3/5\n",
      "Completed --------- (640, 512, 64), accuracy: 0.6622222065925598, split: 4/5\n",
      "Completed --------- (640, 512, 64), accuracy: 0.6388059854507446, split: 5/5\n",
      "Completed --------- (1024, 384, 64), accuracy: 0.6862170100212097, split: 1/5\n",
      "Completed --------- (1024, 384, 64), accuracy: 0.6901615262031555, split: 2/5\n",
      "Completed --------- (1024, 384, 64), accuracy: 0.7132353186607361, split: 3/5\n",
      "Completed --------- (1024, 384, 64), accuracy: 0.6755555272102356, split: 4/5\n",
      "Completed --------- (1024, 384, 64), accuracy: 0.6432836055755615, split: 5/5\n",
      "Completed --------- (896, 384, 64), accuracy: 0.6906158328056335, split: 1/5\n",
      "Completed --------- (896, 384, 64), accuracy: 0.6754772663116455, split: 2/5\n",
      "Completed --------- (896, 384, 64), accuracy: 0.7117646932601929, split: 3/5\n",
      "Completed --------- (896, 384, 64), accuracy: 0.6711111068725586, split: 4/5\n",
      "Completed --------- (896, 384, 64), accuracy: 0.6388059854507446, split: 5/5\n",
      "Completed --------- (768, 384, 64), accuracy: 0.6891495585441589, split: 1/5\n",
      "Completed --------- (768, 384, 64), accuracy: 0.6872246861457825, split: 2/5\n",
      "Completed --------- (768, 384, 64), accuracy: 0.7250000238418579, split: 3/5\n",
      "Completed --------- (768, 384, 64), accuracy: 0.678518533706665, split: 4/5\n",
      "Completed --------- (768, 384, 64), accuracy: 0.658208966255188, split: 5/5\n",
      "Completed --------- (640, 384, 64), accuracy: 0.6803519129753113, split: 1/5\n",
      "Completed --------- (640, 384, 64), accuracy: 0.688693106174469, split: 2/5\n",
      "Completed --------- (640, 384, 64), accuracy: 0.7088235020637512, split: 3/5\n",
      "Completed --------- (640, 384, 64), accuracy: 0.6681481599807739, split: 4/5\n",
      "Completed --------- (640, 384, 64), accuracy: 0.6388059854507446, split: 5/5\n",
      "Completed --------- (512, 384, 64), accuracy: 0.6788856387138367, split: 1/5\n",
      "Completed --------- (512, 384, 64), accuracy: 0.6784141063690186, split: 2/5\n",
      "Completed --------- (512, 384, 64), accuracy: 0.7191176414489746, split: 3/5\n",
      "Completed --------- (512, 384, 64), accuracy: 0.6666666865348816, split: 4/5\n",
      "Completed --------- (512, 384, 64), accuracy: 0.6447761058807373, split: 5/5\n",
      "Completed --------- (1024, 256, 64), accuracy: 0.6891495585441589, split: 1/5\n",
      "Completed --------- (1024, 256, 64), accuracy: 0.6784141063690186, split: 2/5\n",
      "Completed --------- (1024, 256, 64), accuracy: 0.7102941274642944, split: 3/5\n",
      "Completed --------- (1024, 256, 64), accuracy: 0.682962954044342, split: 4/5\n",
      "Completed --------- (1024, 256, 64), accuracy: 0.658208966255188, split: 5/5\n",
      "Completed --------- (896, 256, 64), accuracy: 0.6920821070671082, split: 1/5\n",
      "Completed --------- (896, 256, 64), accuracy: 0.6872246861457825, split: 2/5\n",
      "Completed --------- (896, 256, 64), accuracy: 0.7029411792755127, split: 3/5\n",
      "Completed --------- (896, 256, 64), accuracy: 0.678518533706665, split: 4/5\n",
      "Completed --------- (896, 256, 64), accuracy: 0.6388059854507446, split: 5/5\n",
      "Completed --------- (768, 256, 64), accuracy: 0.6876832842826843, split: 1/5\n",
      "Completed --------- (768, 256, 64), accuracy: 0.676945686340332, split: 2/5\n",
      "Completed --------- (768, 256, 64), accuracy: 0.699999988079071, split: 3/5\n",
      "Completed --------- (768, 256, 64), accuracy: 0.6725925803184509, split: 4/5\n",
      "Completed --------- (768, 256, 64), accuracy: 0.6432836055755615, split: 5/5\n",
      "Completed --------- (640, 256, 64), accuracy: 0.6847507357597351, split: 1/5\n",
      "Completed --------- (640, 256, 64), accuracy: 0.6725403666496277, split: 2/5\n",
      "Completed --------- (640, 256, 64), accuracy: 0.7102941274642944, split: 3/5\n",
      "Completed --------- (640, 256, 64), accuracy: 0.6755555272102356, split: 4/5\n",
      "Completed --------- (640, 256, 64), accuracy: 0.6328358054161072, split: 5/5\n",
      "Completed --------- (512, 256, 64), accuracy: 0.6950146555900574, split: 1/5\n",
      "Completed --------- (512, 256, 64), accuracy: 0.6842877864837646, split: 2/5\n",
      "Completed --------- (512, 256, 64), accuracy: 0.7088235020637512, split: 3/5\n",
      "Completed --------- (512, 256, 64), accuracy: 0.682962954044342, split: 4/5\n",
      "Completed --------- (512, 256, 64), accuracy: 0.6507462859153748, split: 5/5\n",
      "Completed --------- (384, 256, 64), accuracy: 0.6950146555900574, split: 1/5\n",
      "Completed --------- (384, 256, 64), accuracy: 0.6813509464263916, split: 2/5\n",
      "Completed --------- (384, 256, 64), accuracy: 0.7014706134796143, split: 3/5\n",
      "Completed --------- (384, 256, 64), accuracy: 0.6725925803184509, split: 4/5\n",
      "Completed --------- (384, 256, 64), accuracy: 0.6313433051109314, split: 5/5\n",
      "Completed --------- (1024, 128, 64), accuracy: 0.6979472041130066, split: 1/5\n",
      "Completed --------- (1024, 128, 64), accuracy: 0.6784141063690186, split: 2/5\n",
      "Completed --------- (1024, 128, 64), accuracy: 0.7191176414489746, split: 3/5\n",
      "Completed --------- (1024, 128, 64), accuracy: 0.6948148012161255, split: 4/5\n",
      "Completed --------- (1024, 128, 64), accuracy: 0.6388059854507446, split: 5/5\n",
      "Completed --------- (896, 128, 64), accuracy: 0.6818181872367859, split: 1/5\n",
      "Completed --------- (896, 128, 64), accuracy: 0.6666666865348816, split: 2/5\n",
      "Completed --------- (896, 128, 64), accuracy: 0.7132353186607361, split: 3/5\n",
      "Completed --------- (896, 128, 64), accuracy: 0.6859259009361267, split: 4/5\n",
      "Completed --------- (896, 128, 64), accuracy: 0.6447761058807373, split: 5/5\n",
      "Completed --------- (768, 128, 64), accuracy: 0.6906158328056335, split: 1/5\n",
      "Completed --------- (768, 128, 64), accuracy: 0.6784141063690186, split: 2/5\n",
      "Completed --------- (768, 128, 64), accuracy: 0.7102941274642944, split: 3/5\n",
      "Completed --------- (768, 128, 64), accuracy: 0.6651852130889893, split: 4/5\n",
      "Completed --------- (768, 128, 64), accuracy: 0.6552239060401917, split: 5/5\n",
      "Completed --------- (640, 128, 64), accuracy: 0.6935483813285828, split: 1/5\n",
      "Completed --------- (640, 128, 64), accuracy: 0.6798825263977051, split: 2/5\n",
      "Completed --------- (640, 128, 64), accuracy: 0.7102941274642944, split: 3/5\n",
      "Completed --------- (640, 128, 64), accuracy: 0.678518533706665, split: 4/5\n",
      "Completed --------- (640, 128, 64), accuracy: 0.641791045665741, split: 5/5\n",
      "Completed --------- (512, 128, 64), accuracy: 0.6774193644523621, split: 1/5\n",
      "Completed --------- (512, 128, 64), accuracy: 0.6607929468154907, split: 2/5\n",
      "Completed --------- (512, 128, 64), accuracy: 0.7147058844566345, split: 3/5\n",
      "Completed --------- (512, 128, 64), accuracy: 0.6681481599807739, split: 4/5\n",
      "Completed --------- (512, 128, 64), accuracy: 0.6268656849861145, split: 5/5\n",
      "Completed --------- (384, 128, 64), accuracy: 0.6920821070671082, split: 1/5\n",
      "Completed --------- (384, 128, 64), accuracy: 0.676945686340332, split: 2/5\n",
      "Completed --------- (384, 128, 64), accuracy: 0.7058823704719543, split: 3/5\n",
      "Completed --------- (384, 128, 64), accuracy: 0.6666666865348816, split: 4/5\n",
      "Completed --------- (384, 128, 64), accuracy: 0.6492537260055542, split: 5/5\n",
      "Completed --------- (256, 128, 64), accuracy: 0.6876832842826843, split: 1/5\n",
      "Completed --------- (256, 128, 64), accuracy: 0.6710719466209412, split: 2/5\n",
      "Completed --------- (256, 128, 64), accuracy: 0.7044117450714111, split: 3/5\n",
      "Completed --------- (256, 128, 64), accuracy: 0.6755555272102356, split: 4/5\n",
      "Completed --------- (256, 128, 64), accuracy: 0.6373134255409241, split: 5/5\n"
     ]
    }
   ],
   "source": [
    "parameters_to_accuracy = {}\n",
    "for permutation in permutations:\n",
    "    accuracies = []\n",
    "    skf = StratifiedKFold(n_splits=5)\n",
    "    skf.get_n_splits(network_input, y)\n",
    "    split_count = 1\n",
    "    for train_index, test_index in skf.split(network_input, y):\n",
    "        #print(f\"Currently doing --- layer_1: {num_1}, layer_2: {num_2}, split: {split_count}/5\")\n",
    "        X_train, X_test = network_input[train_index], network_input[test_index]\n",
    "        y_train, y_test = y[train_index], y[test_index]\n",
    "        tf.keras.backend.clear_session()\n",
    "        model = Sequential()\n",
    "        for i, layer in enumerate(permutation):\n",
    "            if i == 0:\n",
    "                model.add(Dense(layer, input_dim=network_input.shape[1], activation='relu'))\n",
    "            else:\n",
    "                model.add(Dense(layer, activation='relu'))\n",
    "            model.add(Dropout(rate=0.5))\n",
    "        model.add(Dense(len(Counter(y)), activation='softmax'))\n",
    "        model.compile(loss='sparse_categorical_crossentropy', optimizer='adam', metrics=['accuracy'])\n",
    "        callbacks = [EarlyStopping(monitor='val_accuracy', patience=25, restore_best_weights=True)] #impt\n",
    "        model.fit(X_train, y_train, epochs=1000, batch_size=32, validation_data=(X_test, y_test), callbacks=callbacks, verbose=0)\n",
    "        _, accuracy = model.evaluate(X_test, y_test, verbose=0)\n",
    "        accuracies.append(accuracy)\n",
    "        print(f\"Completed --------- {permutation}, accuracy: {accuracy}, split: {split_count}/5\")\n",
    "        split_count += 1\n",
    "    average_accuracy = sum(accuracies)/len(accuracies)\n",
    "    parameters_to_accuracy[permutation] = average_accuracy"
   ]
  },
  {
   "cell_type": "code",
   "execution_count": 77,
   "metadata": {},
   "outputs": [],
   "source": [
    "x = parse_this.split(\"\\n\")"
   ]
  },
  {
   "cell_type": "code",
   "execution_count": 78,
   "metadata": {},
   "outputs": [
    {
     "data": {
      "text/plain": [
       "''"
      ]
     },
     "execution_count": 78,
     "metadata": {},
     "output_type": "execute_result"
    }
   ],
   "source": [
    "x.pop(0)"
   ]
  },
  {
   "cell_type": "code",
   "execution_count": 84,
   "metadata": {},
   "outputs": [
    {
     "name": "stdout",
     "output_type": "stream",
     "text": [
      "1024, 896, 768: 0.6663716435432434\n",
      "1024, 896, 640: 0.673712968826294\n",
      "1024, 768, 640: 0.6692713618278503\n",
      "896, 768, 640: 0.6711137294769287\n",
      "1024, 896, 512: 0.6704530596733094\n",
      "1024, 768, 512: 0.670440399646759\n",
      "896, 768, 512: 0.6769663333892822\n",
      "1024, 640, 512: 0.673743999004364\n",
      "896, 640, 512: 0.674328339099884\n",
      "768, 640, 512: 0.6672100186347961\n",
      "1024, 896, 384: 0.6813761830329895\n",
      "1024, 768, 384: 0.6731601357460022\n",
      "896, 768, 384: 0.6727999329566956\n",
      "1024, 640, 384: 0.6678440928459167\n",
      "896, 640, 384: 0.6754782319068908\n",
      "768, 640, 384: 0.6748789310455322\n",
      "1024, 512, 384: 0.6689960598945618\n",
      "896, 512, 384: 0.6760589957237244\n",
      "768, 512, 384: 0.6727942943572998\n",
      "640, 512, 384: 0.6745686292648315\n",
      "1024, 896, 256: 0.676700484752655\n",
      "1024, 768, 256: 0.6728493928909302\n",
      "896, 768, 256: 0.6743555068969727\n",
      "1024, 640, 256: 0.6742910742759705\n",
      "896, 640, 256: 0.6749008655548095\n",
      "768, 640, 256: 0.6692893266677856\n",
      "1024, 512, 256: 0.6787471294403076\n",
      "896, 512, 256: 0.6719219923019409\n",
      "768, 512, 256: 0.6728258013725281\n",
      "640, 512, 256: 0.674019730091095\n",
      "1024, 384, 256: 0.6760674476623535\n",
      "896, 384, 256: 0.6751708745956421\n",
      "768, 384, 256: 0.6752110958099365\n",
      "640, 384, 256: 0.6778450727462768\n",
      "512, 384, 256: 0.6766961812973022\n",
      "1024, 896, 128: 0.6787311196327209\n",
      "1024, 768, 128: 0.6758247971534729\n",
      "896, 768, 128: 0.6790300369262695\n",
      "1024, 640, 128: 0.6713547945022583\n",
      "896, 640, 128: 0.678717064857483\n",
      "768, 640, 128: 0.6778604030609131\n",
      "1024, 512, 128: 0.6760751605033875\n",
      "896, 512, 128: 0.6790251970291138\n",
      "768, 512, 128: 0.6734240531921387\n",
      "640, 512, 128: 0.676032543182373\n",
      "1024, 384, 128: 0.6834297418594361\n",
      "896, 384, 128: 0.6754857301712036\n",
      "768, 384, 128: 0.6749152064323425\n",
      "640, 384, 128: 0.6790372729301453\n",
      "512, 384, 128: 0.6799197912216186\n",
      "1024, 256, 128: 0.677554190158844\n",
      "896, 256, 128: 0.6834413647651673\n",
      "768, 256, 128: 0.6834390759468079\n",
      "640, 256, 128: 0.6778519988059998\n",
      "512, 256, 128: 0.6796422719955444\n",
      "384, 256, 128: 0.6793455958366394\n",
      "1024, 896, 64: 0.6778499007225036\n",
      "1024, 768, 64: 0.6775683999061585\n",
      "896, 768, 64: 0.6790083885192871\n",
      "1024, 640, 64: 0.682292926311493\n",
      "896, 640, 64: 0.677257776260376\n",
      "768, 640, 64: 0.6816888451576233\n",
      "1024, 512, 64: 0.6805253148078918\n",
      "896, 512, 64: 0.676073431968689\n",
      "768, 512, 64: 0.6772570133209228\n",
      "640, 512, 64: 0.6781266808509827\n",
      "1024, 384, 64: 0.6816905975341797\n",
      "896, 384, 64: 0.677554976940155\n",
      "768, 384, 64: 0.6876203536987304\n",
      "640, 384, 64: 0.67696453332901\n",
      "512, 384, 64: 0.6775720357894898\n",
      "1024, 256, 64: 0.6838059425354004\n",
      "896, 256, 64: 0.6799144983291626\n",
      "768, 256, 64: 0.67610102891922\n",
      "640, 256, 64: 0.6751953125\n",
      "512, 256, 64: 0.684367036819458\n",
      "384, 256, 64: 0.6763544201850891\n",
      "1024, 128, 64: 0.685819947719574\n",
      "896, 128, 64: 0.6784844398498535\n",
      "768, 128, 64: 0.6799466371536255\n",
      "640, 128, 64: 0.6808069229125977\n",
      "512, 128, 64: 0.6695864081382752\n",
      "384, 128, 64: 0.6781661152839661\n",
      "256, 128, 64: 0.6752071857452393\n"
     ]
    }
   ],
   "source": [
    "perm_acc = {}\n",
    "for i in x:\n",
    "    perm = i.split(\"(\")[1].split(')')[0]\n",
    "    acc = float(i.split(\":\")[1].split(\",\")[0].strip())\n",
    "    if perm not in perm_acc:\n",
    "        perm_acc[perm] = [acc]\n",
    "    else:\n",
    "        perm_acc[perm].append(acc)\n",
    "for perm, acc in perm_acc.items():\n",
    "    print(f\"{perm}: {sum(acc)/len(acc)}\")\n",
    "    perm_acc[perm] = sum(acc)/len(acc)"
   ]
  },
  {
   "cell_type": "code",
   "execution_count": 86,
   "metadata": {},
   "outputs": [],
   "source": [
    "perm_acc = list(perm_acc.items())\n",
    "perm_acc.sort(key=lambda x: x[1], reverse=True)"
   ]
  },
  {
   "cell_type": "code",
   "execution_count": 88,
   "metadata": {},
   "outputs": [
    {
     "data": {
      "text/plain": [
       "('768, 384, 64', 0.6876203536987304)"
      ]
     },
     "execution_count": 88,
     "metadata": {},
     "output_type": "execute_result"
    }
   ],
   "source": [
    "perm_acc[0]"
   ]
  }
 ],
 "metadata": {
  "kernelspec": {
   "display_name": "Python 3",
   "language": "python",
   "name": "python3"
  },
  "language_info": {
   "codemirror_mode": {
    "name": "ipython",
    "version": 3
   },
   "file_extension": ".py",
   "mimetype": "text/x-python",
   "name": "python",
   "nbconvert_exporter": "python",
   "pygments_lexer": "ipython3",
   "version": "3.7.5"
  }
 },
 "nbformat": 4,
 "nbformat_minor": 4
}
