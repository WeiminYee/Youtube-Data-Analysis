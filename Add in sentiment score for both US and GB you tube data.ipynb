{
 "cells": [
  {
   "cell_type": "code",
   "execution_count": 2,
   "metadata": {},
   "outputs": [],
   "source": [
    "#import library\n",
    "import pandas as pd\n",
    "import json\n",
    "from textblob import TextBlob\n",
    "import numpy as np\n",
    "import matplotlib.pyplot as plt\n",
    "import seaborn as sns\n",
    "plt.style.use('ggplot')"
   ]
  },
  {
   "cell_type": "code",
   "execution_count": 3,
   "metadata": {},
   "outputs": [],
   "source": [
    "#read json file into dataframe [assignable,category,category_id]\n",
    "f = open(\"US_category_id.json\")\n",
    "data = f.read()\n",
    "f.close()\n",
    "out = json.loads(data)\n",
    "categories = pd.DataFrame([\n",
    "    {'category_id':x['id'],\n",
    "     'category':x['snippet']['title'],\n",
    "     'assignable':x['snippet']['assignable']\n",
    "    } for x in out['items']\n",
    "])"
   ]
  },
  {
   "cell_type": "code",
   "execution_count": 4,
   "metadata": {},
   "outputs": [
    {
     "data": {
      "text/html": [
       "<div>\n",
       "<style scoped>\n",
       "    .dataframe tbody tr th:only-of-type {\n",
       "        vertical-align: middle;\n",
       "    }\n",
       "\n",
       "    .dataframe tbody tr th {\n",
       "        vertical-align: top;\n",
       "    }\n",
       "\n",
       "    .dataframe thead th {\n",
       "        text-align: right;\n",
       "    }\n",
       "</style>\n",
       "<table border=\"1\" class=\"dataframe\">\n",
       "  <thead>\n",
       "    <tr style=\"text-align: right;\">\n",
       "      <th></th>\n",
       "      <th>category_id</th>\n",
       "      <th>category</th>\n",
       "      <th>assignable</th>\n",
       "    </tr>\n",
       "  </thead>\n",
       "  <tbody>\n",
       "    <tr>\n",
       "      <td>0</td>\n",
       "      <td>1</td>\n",
       "      <td>Film &amp; Animation</td>\n",
       "      <td>True</td>\n",
       "    </tr>\n",
       "    <tr>\n",
       "      <td>1</td>\n",
       "      <td>2</td>\n",
       "      <td>Autos &amp; Vehicles</td>\n",
       "      <td>True</td>\n",
       "    </tr>\n",
       "    <tr>\n",
       "      <td>2</td>\n",
       "      <td>10</td>\n",
       "      <td>Music</td>\n",
       "      <td>True</td>\n",
       "    </tr>\n",
       "    <tr>\n",
       "      <td>3</td>\n",
       "      <td>15</td>\n",
       "      <td>Pets &amp; Animals</td>\n",
       "      <td>True</td>\n",
       "    </tr>\n",
       "    <tr>\n",
       "      <td>4</td>\n",
       "      <td>17</td>\n",
       "      <td>Sports</td>\n",
       "      <td>True</td>\n",
       "    </tr>\n",
       "  </tbody>\n",
       "</table>\n",
       "</div>"
      ],
      "text/plain": [
       "  category_id          category  assignable\n",
       "0           1  Film & Animation        True\n",
       "1           2  Autos & Vehicles        True\n",
       "2          10             Music        True\n",
       "3          15    Pets & Animals        True\n",
       "4          17            Sports        True"
      ]
     },
     "execution_count": 4,
     "metadata": {},
     "output_type": "execute_result"
    }
   ],
   "source": [
    "categories.head()"
   ]
  },
  {
   "cell_type": "code",
   "execution_count": 5,
   "metadata": {},
   "outputs": [],
   "source": [
    "#change category_id to integer\n",
    "categories['category_id'] = categories['category_id'].astype(int)"
   ]
  },
  {
   "cell_type": "code",
   "execution_count": 12,
   "metadata": {},
   "outputs": [
    {
     "name": "stderr",
     "output_type": "stream",
     "text": [
      "b'Skipping line 2401: expected 11 fields, saw 21\\nSkipping line 2800: expected 11 fields, saw 21\\nSkipping line 5297: expected 11 fields, saw 12\\nSkipping line 5299: expected 11 fields, saw 12\\nSkipping line 5300: expected 11 fields, saw 12\\nSkipping line 5301: expected 11 fields, saw 12\\n'\n",
      "b'Skipping line 41589: expected 4 fields, saw 11\\nSkipping line 51628: expected 4 fields, saw 7\\nSkipping line 114465: expected 4 fields, saw 5\\n'\n",
      "b'Skipping line 142496: expected 4 fields, saw 8\\nSkipping line 189732: expected 4 fields, saw 6\\nSkipping line 245218: expected 4 fields, saw 7\\n'\n",
      "b'Skipping line 388430: expected 4 fields, saw 5\\n'\n"
     ]
    }
   ],
   "source": [
    "#read in US video and US comment and change the category_id to integer\n",
    "USvideos = pd.read_csv('USvideos.csv',error_bad_lines=False)\n",
    "UScomments = pd.read_csv('UScomments.csv',error_bad_lines=False)\n",
    "USvideos['category_id'] = USvideos['category_id'].astype(int)"
   ]
  },
  {
   "cell_type": "code",
   "execution_count": 13,
   "metadata": {},
   "outputs": [
    {
     "data": {
      "text/html": [
       "<div>\n",
       "<style scoped>\n",
       "    .dataframe tbody tr th:only-of-type {\n",
       "        vertical-align: middle;\n",
       "    }\n",
       "\n",
       "    .dataframe tbody tr th {\n",
       "        vertical-align: top;\n",
       "    }\n",
       "\n",
       "    .dataframe thead th {\n",
       "        text-align: right;\n",
       "    }\n",
       "</style>\n",
       "<table border=\"1\" class=\"dataframe\">\n",
       "  <thead>\n",
       "    <tr style=\"text-align: right;\">\n",
       "      <th></th>\n",
       "      <th>video_id</th>\n",
       "      <th>title</th>\n",
       "      <th>channel_title</th>\n",
       "      <th>category_id</th>\n",
       "      <th>tags</th>\n",
       "      <th>views</th>\n",
       "      <th>likes</th>\n",
       "      <th>dislikes</th>\n",
       "      <th>comment_total</th>\n",
       "      <th>thumbnail_link</th>\n",
       "      <th>date</th>\n",
       "      <th>category_name</th>\n",
       "      <th>likes_log</th>\n",
       "      <th>views_log</th>\n",
       "      <th>dislikes_log</th>\n",
       "      <th>comment_log</th>\n",
       "      <th>like_rate</th>\n",
       "      <th>dislike_rate</th>\n",
       "      <th>comment_rate</th>\n",
       "    </tr>\n",
       "  </thead>\n",
       "  <tbody>\n",
       "    <tr>\n",
       "      <td>0</td>\n",
       "      <td>XpVt6Z1Gjjo</td>\n",
       "      <td>1 YEAR OF VLOGGING -- HOW LOGAN PAUL CHANGED Y...</td>\n",
       "      <td>Logan Paul Vlogs</td>\n",
       "      <td>24</td>\n",
       "      <td>logan paul vlog|logan paul|logan|paul|olympics...</td>\n",
       "      <td>4394029</td>\n",
       "      <td>320053</td>\n",
       "      <td>5931</td>\n",
       "      <td>46245</td>\n",
       "      <td>https://i.ytimg.com/vi/XpVt6Z1Gjjo/default.jpg</td>\n",
       "      <td>13.09</td>\n",
       "      <td>Entertainment</td>\n",
       "      <td>12.676245</td>\n",
       "      <td>15.295757</td>\n",
       "      <td>8.688117</td>\n",
       "      <td>10.741730</td>\n",
       "      <td>7.283816</td>\n",
       "      <td>0.134979</td>\n",
       "      <td>1.052451</td>\n",
       "    </tr>\n",
       "    <tr>\n",
       "      <td>1</td>\n",
       "      <td>K4wEI5zhHB0</td>\n",
       "      <td>iPhone X — Introducing iPhone X — Apple</td>\n",
       "      <td>Apple</td>\n",
       "      <td>28</td>\n",
       "      <td>Apple|iPhone 10|iPhone Ten|iPhone|Portrait Lig...</td>\n",
       "      <td>7860119</td>\n",
       "      <td>185853</td>\n",
       "      <td>26679</td>\n",
       "      <td>0</td>\n",
       "      <td>https://i.ytimg.com/vi/K4wEI5zhHB0/default.jpg</td>\n",
       "      <td>13.09</td>\n",
       "      <td>Science &amp; Technology</td>\n",
       "      <td>12.132717</td>\n",
       "      <td>15.877312</td>\n",
       "      <td>10.191670</td>\n",
       "      <td>0.000000</td>\n",
       "      <td>2.364506</td>\n",
       "      <td>0.339422</td>\n",
       "      <td>0.000000</td>\n",
       "    </tr>\n",
       "    <tr>\n",
       "      <td>2</td>\n",
       "      <td>cLdxuaxaQwc</td>\n",
       "      <td>My Response</td>\n",
       "      <td>PewDiePie</td>\n",
       "      <td>22</td>\n",
       "      <td>[none]</td>\n",
       "      <td>5845909</td>\n",
       "      <td>576597</td>\n",
       "      <td>39774</td>\n",
       "      <td>170708</td>\n",
       "      <td>https://i.ytimg.com/vi/cLdxuaxaQwc/default.jpg</td>\n",
       "      <td>13.09</td>\n",
       "      <td>People &amp; Blogs</td>\n",
       "      <td>13.264901</td>\n",
       "      <td>15.581253</td>\n",
       "      <td>10.590994</td>\n",
       "      <td>12.047716</td>\n",
       "      <td>9.863257</td>\n",
       "      <td>0.680373</td>\n",
       "      <td>2.920128</td>\n",
       "    </tr>\n",
       "    <tr>\n",
       "      <td>3</td>\n",
       "      <td>WYYvHb03Eog</td>\n",
       "      <td>Apple iPhone X first look</td>\n",
       "      <td>The Verge</td>\n",
       "      <td>28</td>\n",
       "      <td>apple iphone x hands on|Apple iPhone X|iPhone ...</td>\n",
       "      <td>2642103</td>\n",
       "      <td>24975</td>\n",
       "      <td>4542</td>\n",
       "      <td>12829</td>\n",
       "      <td>https://i.ytimg.com/vi/WYYvHb03Eog/default.jpg</td>\n",
       "      <td>13.09</td>\n",
       "      <td>Science &amp; Technology</td>\n",
       "      <td>10.125671</td>\n",
       "      <td>14.787086</td>\n",
       "      <td>8.421343</td>\n",
       "      <td>9.459541</td>\n",
       "      <td>0.945270</td>\n",
       "      <td>0.171909</td>\n",
       "      <td>0.485560</td>\n",
       "    </tr>\n",
       "    <tr>\n",
       "      <td>4</td>\n",
       "      <td>sjlHnJvXdQs</td>\n",
       "      <td>iPhone X (parody)</td>\n",
       "      <td>jacksfilms</td>\n",
       "      <td>23</td>\n",
       "      <td>jacksfilms|parody|parodies|iphone|iphone x|iph...</td>\n",
       "      <td>1168130</td>\n",
       "      <td>96666</td>\n",
       "      <td>568</td>\n",
       "      <td>6666</td>\n",
       "      <td>https://i.ytimg.com/vi/sjlHnJvXdQs/default.jpg</td>\n",
       "      <td>13.09</td>\n",
       "      <td>Comedy</td>\n",
       "      <td>11.479027</td>\n",
       "      <td>13.970916</td>\n",
       "      <td>6.343880</td>\n",
       "      <td>8.804925</td>\n",
       "      <td>8.275278</td>\n",
       "      <td>0.048625</td>\n",
       "      <td>0.570656</td>\n",
       "    </tr>\n",
       "  </tbody>\n",
       "</table>\n",
       "</div>"
      ],
      "text/plain": [
       "      video_id                                              title  \\\n",
       "0  XpVt6Z1Gjjo  1 YEAR OF VLOGGING -- HOW LOGAN PAUL CHANGED Y...   \n",
       "1  K4wEI5zhHB0            iPhone X — Introducing iPhone X — Apple   \n",
       "2  cLdxuaxaQwc                                        My Response   \n",
       "3  WYYvHb03Eog                          Apple iPhone X first look   \n",
       "4  sjlHnJvXdQs                                  iPhone X (parody)   \n",
       "\n",
       "      channel_title  category_id  \\\n",
       "0  Logan Paul Vlogs           24   \n",
       "1             Apple           28   \n",
       "2         PewDiePie           22   \n",
       "3         The Verge           28   \n",
       "4        jacksfilms           23   \n",
       "\n",
       "                                                tags    views   likes  \\\n",
       "0  logan paul vlog|logan paul|logan|paul|olympics...  4394029  320053   \n",
       "1  Apple|iPhone 10|iPhone Ten|iPhone|Portrait Lig...  7860119  185853   \n",
       "2                                             [none]  5845909  576597   \n",
       "3  apple iphone x hands on|Apple iPhone X|iPhone ...  2642103   24975   \n",
       "4  jacksfilms|parody|parodies|iphone|iphone x|iph...  1168130   96666   \n",
       "\n",
       "   dislikes  comment_total                                  thumbnail_link  \\\n",
       "0      5931          46245  https://i.ytimg.com/vi/XpVt6Z1Gjjo/default.jpg   \n",
       "1     26679              0  https://i.ytimg.com/vi/K4wEI5zhHB0/default.jpg   \n",
       "2     39774         170708  https://i.ytimg.com/vi/cLdxuaxaQwc/default.jpg   \n",
       "3      4542          12829  https://i.ytimg.com/vi/WYYvHb03Eog/default.jpg   \n",
       "4       568           6666  https://i.ytimg.com/vi/sjlHnJvXdQs/default.jpg   \n",
       "\n",
       "    date         category_name  likes_log  views_log  dislikes_log  \\\n",
       "0  13.09         Entertainment  12.676245  15.295757      8.688117   \n",
       "1  13.09  Science & Technology  12.132717  15.877312     10.191670   \n",
       "2  13.09        People & Blogs  13.264901  15.581253     10.590994   \n",
       "3  13.09  Science & Technology  10.125671  14.787086      8.421343   \n",
       "4  13.09                Comedy  11.479027  13.970916      6.343880   \n",
       "\n",
       "   comment_log  like_rate  dislike_rate  comment_rate  \n",
       "0    10.741730   7.283816      0.134979      1.052451  \n",
       "1     0.000000   2.364506      0.339422      0.000000  \n",
       "2    12.047716   9.863257      0.680373      2.920128  \n",
       "3     9.459541   0.945270      0.171909      0.485560  \n",
       "4     8.804925   8.275278      0.048625      0.570656  "
      ]
     },
     "execution_count": 13,
     "metadata": {},
     "output_type": "execute_result"
    }
   ],
   "source": [
    "videos.head()"
   ]
  },
  {
   "cell_type": "code",
   "execution_count": 14,
   "metadata": {},
   "outputs": [
    {
     "ename": "ValueError",
     "evalue": "time data '13' does not match format '%d.%m' (match)",
     "output_type": "error",
     "traceback": [
      "\u001b[1;31m---------------------------------------------------------------------------\u001b[0m",
      "\u001b[1;31mTypeError\u001b[0m                                 Traceback (most recent call last)",
      "\u001b[1;32m~\\Anaconda3\\lib\\site-packages\\pandas\\core\\tools\\datetimes.py\u001b[0m in \u001b[0;36m_convert_listlike_datetimes\u001b[1;34m(arg, box, format, name, tz, unit, errors, infer_datetime_format, dayfirst, yearfirst, exact)\u001b[0m\n\u001b[0;32m    447\u001b[0m             \u001b[1;32mtry\u001b[0m\u001b[1;33m:\u001b[0m\u001b[1;33m\u001b[0m\u001b[1;33m\u001b[0m\u001b[0m\n\u001b[1;32m--> 448\u001b[1;33m                 \u001b[0mvalues\u001b[0m\u001b[1;33m,\u001b[0m \u001b[0mtz\u001b[0m \u001b[1;33m=\u001b[0m \u001b[0mconversion\u001b[0m\u001b[1;33m.\u001b[0m\u001b[0mdatetime_to_datetime64\u001b[0m\u001b[1;33m(\u001b[0m\u001b[0marg\u001b[0m\u001b[1;33m)\u001b[0m\u001b[1;33m\u001b[0m\u001b[1;33m\u001b[0m\u001b[0m\n\u001b[0m\u001b[0;32m    449\u001b[0m                 \u001b[1;32mreturn\u001b[0m \u001b[0mDatetimeIndex\u001b[0m\u001b[1;33m.\u001b[0m\u001b[0m_simple_new\u001b[0m\u001b[1;33m(\u001b[0m\u001b[0mvalues\u001b[0m\u001b[1;33m,\u001b[0m \u001b[0mname\u001b[0m\u001b[1;33m=\u001b[0m\u001b[0mname\u001b[0m\u001b[1;33m,\u001b[0m \u001b[0mtz\u001b[0m\u001b[1;33m=\u001b[0m\u001b[0mtz\u001b[0m\u001b[1;33m)\u001b[0m\u001b[1;33m\u001b[0m\u001b[1;33m\u001b[0m\u001b[0m\n",
      "\u001b[1;32mpandas\\_libs\\tslibs\\conversion.pyx\u001b[0m in \u001b[0;36mpandas._libs.tslibs.conversion.datetime_to_datetime64\u001b[1;34m()\u001b[0m\n",
      "\u001b[1;31mTypeError\u001b[0m: Unrecognized value type: <class 'int'>",
      "\nDuring handling of the above exception, another exception occurred:\n",
      "\u001b[1;31mValueError\u001b[0m                                Traceback (most recent call last)",
      "\u001b[1;32m<ipython-input-14-374a32c9aa3e>\u001b[0m in \u001b[0;36m<module>\u001b[1;34m\u001b[0m\n\u001b[0;32m      1\u001b[0m \u001b[1;31m#assign format to date\u001b[0m\u001b[1;33m\u001b[0m\u001b[1;33m\u001b[0m\u001b[1;33m\u001b[0m\u001b[0m\n\u001b[1;32m----> 2\u001b[1;33m \u001b[0mvideos\u001b[0m\u001b[1;33m[\u001b[0m\u001b[1;34m'date'\u001b[0m\u001b[1;33m]\u001b[0m \u001b[1;33m=\u001b[0m  \u001b[0mpd\u001b[0m\u001b[1;33m.\u001b[0m\u001b[0mto_datetime\u001b[0m\u001b[1;33m(\u001b[0m\u001b[0mUSvideos\u001b[0m\u001b[1;33m.\u001b[0m\u001b[0mdate\u001b[0m\u001b[1;33m,\u001b[0m \u001b[0mformat\u001b[0m\u001b[1;33m=\u001b[0m\u001b[1;34m\"%d.%m\"\u001b[0m\u001b[1;33m)\u001b[0m\u001b[1;33m\u001b[0m\u001b[1;33m\u001b[0m\u001b[0m\n\u001b[0m",
      "\u001b[1;32m~\\Anaconda3\\lib\\site-packages\\pandas\\util\\_decorators.py\u001b[0m in \u001b[0;36mwrapper\u001b[1;34m(*args, **kwargs)\u001b[0m\n\u001b[0;32m    206\u001b[0m                 \u001b[1;32melse\u001b[0m\u001b[1;33m:\u001b[0m\u001b[1;33m\u001b[0m\u001b[1;33m\u001b[0m\u001b[0m\n\u001b[0;32m    207\u001b[0m                     \u001b[0mkwargs\u001b[0m\u001b[1;33m[\u001b[0m\u001b[0mnew_arg_name\u001b[0m\u001b[1;33m]\u001b[0m \u001b[1;33m=\u001b[0m \u001b[0mnew_arg_value\u001b[0m\u001b[1;33m\u001b[0m\u001b[1;33m\u001b[0m\u001b[0m\n\u001b[1;32m--> 208\u001b[1;33m             \u001b[1;32mreturn\u001b[0m \u001b[0mfunc\u001b[0m\u001b[1;33m(\u001b[0m\u001b[1;33m*\u001b[0m\u001b[0margs\u001b[0m\u001b[1;33m,\u001b[0m \u001b[1;33m**\u001b[0m\u001b[0mkwargs\u001b[0m\u001b[1;33m)\u001b[0m\u001b[1;33m\u001b[0m\u001b[1;33m\u001b[0m\u001b[0m\n\u001b[0m\u001b[0;32m    209\u001b[0m \u001b[1;33m\u001b[0m\u001b[0m\n\u001b[0;32m    210\u001b[0m         \u001b[1;32mreturn\u001b[0m \u001b[0mwrapper\u001b[0m\u001b[1;33m\u001b[0m\u001b[1;33m\u001b[0m\u001b[0m\n",
      "\u001b[1;32m~\\Anaconda3\\lib\\site-packages\\pandas\\core\\tools\\datetimes.py\u001b[0m in \u001b[0;36mto_datetime\u001b[1;34m(arg, errors, dayfirst, yearfirst, utc, box, format, exact, unit, infer_datetime_format, origin, cache)\u001b[0m\n\u001b[0;32m    772\u001b[0m                 \u001b[0mresult\u001b[0m \u001b[1;33m=\u001b[0m \u001b[0mresult\u001b[0m\u001b[1;33m.\u001b[0m\u001b[0mtz_localize\u001b[0m\u001b[1;33m(\u001b[0m\u001b[0mtz\u001b[0m\u001b[1;33m)\u001b[0m\u001b[1;33m\u001b[0m\u001b[1;33m\u001b[0m\u001b[0m\n\u001b[0;32m    773\u001b[0m     \u001b[1;32melif\u001b[0m \u001b[0misinstance\u001b[0m\u001b[1;33m(\u001b[0m\u001b[0marg\u001b[0m\u001b[1;33m,\u001b[0m \u001b[0mABCSeries\u001b[0m\u001b[1;33m)\u001b[0m\u001b[1;33m:\u001b[0m\u001b[1;33m\u001b[0m\u001b[1;33m\u001b[0m\u001b[0m\n\u001b[1;32m--> 774\u001b[1;33m         \u001b[0mcache_array\u001b[0m \u001b[1;33m=\u001b[0m \u001b[0m_maybe_cache\u001b[0m\u001b[1;33m(\u001b[0m\u001b[0marg\u001b[0m\u001b[1;33m,\u001b[0m \u001b[0mformat\u001b[0m\u001b[1;33m,\u001b[0m \u001b[0mcache\u001b[0m\u001b[1;33m,\u001b[0m \u001b[0mconvert_listlike\u001b[0m\u001b[1;33m)\u001b[0m\u001b[1;33m\u001b[0m\u001b[1;33m\u001b[0m\u001b[0m\n\u001b[0m\u001b[0;32m    775\u001b[0m         \u001b[1;32mif\u001b[0m \u001b[1;32mnot\u001b[0m \u001b[0mcache_array\u001b[0m\u001b[1;33m.\u001b[0m\u001b[0mempty\u001b[0m\u001b[1;33m:\u001b[0m\u001b[1;33m\u001b[0m\u001b[1;33m\u001b[0m\u001b[0m\n\u001b[0;32m    776\u001b[0m             \u001b[0mresult\u001b[0m \u001b[1;33m=\u001b[0m \u001b[0marg\u001b[0m\u001b[1;33m.\u001b[0m\u001b[0mmap\u001b[0m\u001b[1;33m(\u001b[0m\u001b[0mcache_array\u001b[0m\u001b[1;33m)\u001b[0m\u001b[1;33m\u001b[0m\u001b[1;33m\u001b[0m\u001b[0m\n",
      "\u001b[1;32m~\\Anaconda3\\lib\\site-packages\\pandas\\core\\tools\\datetimes.py\u001b[0m in \u001b[0;36m_maybe_cache\u001b[1;34m(arg, format, cache, convert_listlike)\u001b[0m\n\u001b[0;32m    154\u001b[0m         \u001b[0munique_dates\u001b[0m \u001b[1;33m=\u001b[0m \u001b[0munique\u001b[0m\u001b[1;33m(\u001b[0m\u001b[0marg\u001b[0m\u001b[1;33m)\u001b[0m\u001b[1;33m\u001b[0m\u001b[1;33m\u001b[0m\u001b[0m\n\u001b[0;32m    155\u001b[0m         \u001b[1;32mif\u001b[0m \u001b[0mlen\u001b[0m\u001b[1;33m(\u001b[0m\u001b[0munique_dates\u001b[0m\u001b[1;33m)\u001b[0m \u001b[1;33m<\u001b[0m \u001b[0mlen\u001b[0m\u001b[1;33m(\u001b[0m\u001b[0marg\u001b[0m\u001b[1;33m)\u001b[0m\u001b[1;33m:\u001b[0m\u001b[1;33m\u001b[0m\u001b[1;33m\u001b[0m\u001b[0m\n\u001b[1;32m--> 156\u001b[1;33m             \u001b[0mcache_dates\u001b[0m \u001b[1;33m=\u001b[0m \u001b[0mconvert_listlike\u001b[0m\u001b[1;33m(\u001b[0m\u001b[0munique_dates\u001b[0m\u001b[1;33m,\u001b[0m \u001b[1;32mTrue\u001b[0m\u001b[1;33m,\u001b[0m \u001b[0mformat\u001b[0m\u001b[1;33m)\u001b[0m\u001b[1;33m\u001b[0m\u001b[1;33m\u001b[0m\u001b[0m\n\u001b[0m\u001b[0;32m    157\u001b[0m             \u001b[0mcache_array\u001b[0m \u001b[1;33m=\u001b[0m \u001b[0mSeries\u001b[0m\u001b[1;33m(\u001b[0m\u001b[0mcache_dates\u001b[0m\u001b[1;33m,\u001b[0m \u001b[0mindex\u001b[0m\u001b[1;33m=\u001b[0m\u001b[0munique_dates\u001b[0m\u001b[1;33m)\u001b[0m\u001b[1;33m\u001b[0m\u001b[1;33m\u001b[0m\u001b[0m\n\u001b[0;32m    158\u001b[0m     \u001b[1;32mreturn\u001b[0m \u001b[0mcache_array\u001b[0m\u001b[1;33m\u001b[0m\u001b[1;33m\u001b[0m\u001b[0m\n",
      "\u001b[1;32m~\\Anaconda3\\lib\\site-packages\\pandas\\core\\tools\\datetimes.py\u001b[0m in \u001b[0;36m_convert_listlike_datetimes\u001b[1;34m(arg, box, format, name, tz, unit, errors, infer_datetime_format, dayfirst, yearfirst, exact)\u001b[0m\n\u001b[0;32m    449\u001b[0m                 \u001b[1;32mreturn\u001b[0m \u001b[0mDatetimeIndex\u001b[0m\u001b[1;33m.\u001b[0m\u001b[0m_simple_new\u001b[0m\u001b[1;33m(\u001b[0m\u001b[0mvalues\u001b[0m\u001b[1;33m,\u001b[0m \u001b[0mname\u001b[0m\u001b[1;33m=\u001b[0m\u001b[0mname\u001b[0m\u001b[1;33m,\u001b[0m \u001b[0mtz\u001b[0m\u001b[1;33m=\u001b[0m\u001b[0mtz\u001b[0m\u001b[1;33m)\u001b[0m\u001b[1;33m\u001b[0m\u001b[1;33m\u001b[0m\u001b[0m\n\u001b[0;32m    450\u001b[0m             \u001b[1;32mexcept\u001b[0m \u001b[1;33m(\u001b[0m\u001b[0mValueError\u001b[0m\u001b[1;33m,\u001b[0m \u001b[0mTypeError\u001b[0m\u001b[1;33m)\u001b[0m\u001b[1;33m:\u001b[0m\u001b[1;33m\u001b[0m\u001b[1;33m\u001b[0m\u001b[0m\n\u001b[1;32m--> 451\u001b[1;33m                 \u001b[1;32mraise\u001b[0m \u001b[0me\u001b[0m\u001b[1;33m\u001b[0m\u001b[1;33m\u001b[0m\u001b[0m\n\u001b[0m\u001b[0;32m    452\u001b[0m \u001b[1;33m\u001b[0m\u001b[0m\n\u001b[0;32m    453\u001b[0m     \u001b[1;32mif\u001b[0m \u001b[0mresult\u001b[0m \u001b[1;32mis\u001b[0m \u001b[1;32mNone\u001b[0m\u001b[1;33m:\u001b[0m\u001b[1;33m\u001b[0m\u001b[1;33m\u001b[0m\u001b[0m\n",
      "\u001b[1;32m~\\Anaconda3\\lib\\site-packages\\pandas\\core\\tools\\datetimes.py\u001b[0m in \u001b[0;36m_convert_listlike_datetimes\u001b[1;34m(arg, box, format, name, tz, unit, errors, infer_datetime_format, dayfirst, yearfirst, exact)\u001b[0m\n\u001b[0;32m    414\u001b[0m                 \u001b[1;32mtry\u001b[0m\u001b[1;33m:\u001b[0m\u001b[1;33m\u001b[0m\u001b[1;33m\u001b[0m\u001b[0m\n\u001b[0;32m    415\u001b[0m                     result, timezones = array_strptime(\n\u001b[1;32m--> 416\u001b[1;33m                         \u001b[0marg\u001b[0m\u001b[1;33m,\u001b[0m \u001b[0mformat\u001b[0m\u001b[1;33m,\u001b[0m \u001b[0mexact\u001b[0m\u001b[1;33m=\u001b[0m\u001b[0mexact\u001b[0m\u001b[1;33m,\u001b[0m \u001b[0merrors\u001b[0m\u001b[1;33m=\u001b[0m\u001b[0merrors\u001b[0m\u001b[1;33m\u001b[0m\u001b[1;33m\u001b[0m\u001b[0m\n\u001b[0m\u001b[0;32m    417\u001b[0m                     )\n\u001b[0;32m    418\u001b[0m                     \u001b[1;32mif\u001b[0m \u001b[1;34m\"%Z\"\u001b[0m \u001b[1;32min\u001b[0m \u001b[0mformat\u001b[0m \u001b[1;32mor\u001b[0m \u001b[1;34m\"%z\"\u001b[0m \u001b[1;32min\u001b[0m \u001b[0mformat\u001b[0m\u001b[1;33m:\u001b[0m\u001b[1;33m\u001b[0m\u001b[1;33m\u001b[0m\u001b[0m\n",
      "\u001b[1;32mpandas\\_libs\\tslibs\\strptime.pyx\u001b[0m in \u001b[0;36mpandas._libs.tslibs.strptime.array_strptime\u001b[1;34m()\u001b[0m\n",
      "\u001b[1;31mValueError\u001b[0m: time data '13' does not match format '%d.%m' (match)"
     ]
    }
   ],
   "source": [
    "#assign format to date\n",
    "videos['date'] =  pd.to_datetime(USvideos.date, format=\"%d.%m\")"
   ]
  },
  {
   "cell_type": "code",
   "execution_count": 8,
   "metadata": {
    "collapsed": true
   },
   "outputs": [],
   "source": [
    "#Merged the categories in \n",
    "USvideos=USvideos.merge(categories, on='category_id')"
   ]
  },
  {
   "cell_type": "code",
   "execution_count": 9,
   "metadata": {
    "collapsed": true
   },
   "outputs": [],
   "source": [
    "#Using Textblob library to calculate sentiments\n",
    "def sentiment_calc(text):\n",
    "    try:\n",
    "        return TextBlob(text).sentiment.polarity\n",
    "    except:\n",
    "        return None"
   ]
  },
  {
   "cell_type": "code",
   "execution_count": 10,
   "metadata": {
    "collapsed": true
   },
   "outputs": [],
   "source": [
    "#add one more column of [polarity] to UScomments\n",
    "UScomments['polarity']=UScomments['comment_text'].apply(sentiment_calc)"
   ]
  },
  {
   "cell_type": "code",
   "execution_count": 11,
   "metadata": {
    "collapsed": true
   },
   "outputs": [],
   "source": [
    "#function to change the continuous sentiment score to discrete\n",
    "def pol2sent(pol):\n",
    "    if pol<=-.5:\n",
    "        return \"Very negative\"\n",
    "    if pol>-.5 and pol<0:\n",
    "        return \"Negative\"\n",
    "    if pol == 0:\n",
    "        return \"Neutral\"\n",
    "    if pol > 0 and pol<0.5:\n",
    "        return \"Positive\"\n",
    "    if pol>=0.5:\n",
    "        return \"Very positive\""
   ]
  },
  {
   "cell_type": "code",
   "execution_count": 12,
   "metadata": {
    "collapsed": true
   },
   "outputs": [],
   "source": [
    "def grouped_weighted_avg(values, weights, by):\n",
    "    return (values * weights).groupby(by).sum() / weights.groupby(by).sum()"
   ]
  },
  {
   "cell_type": "code",
   "execution_count": 13,
   "metadata": {
    "scrolled": true
   },
   "outputs": [
    {
     "data": {
      "text/html": [
       "<div>\n",
       "<style>\n",
       "    .dataframe thead tr:only-child th {\n",
       "        text-align: right;\n",
       "    }\n",
       "\n",
       "    .dataframe thead th {\n",
       "        text-align: left;\n",
       "    }\n",
       "\n",
       "    .dataframe tbody tr th {\n",
       "        vertical-align: top;\n",
       "    }\n",
       "</style>\n",
       "<table border=\"1\" class=\"dataframe\">\n",
       "  <thead>\n",
       "    <tr style=\"text-align: right;\">\n",
       "      <th></th>\n",
       "      <th>polarity</th>\n",
       "      <th>video_id</th>\n",
       "    </tr>\n",
       "    <tr>\n",
       "      <th>video_id</th>\n",
       "      <th></th>\n",
       "      <th></th>\n",
       "    </tr>\n",
       "  </thead>\n",
       "  <tbody>\n",
       "    <tr>\n",
       "      <th>--JinobXWPk</th>\n",
       "      <td>0.046776</td>\n",
       "      <td>--JinobXWPk</td>\n",
       "    </tr>\n",
       "    <tr>\n",
       "      <th>-1fzGnFwz9M</th>\n",
       "      <td>0.137792</td>\n",
       "      <td>-1fzGnFwz9M</td>\n",
       "    </tr>\n",
       "    <tr>\n",
       "      <th>-3AGlBYyLjo</th>\n",
       "      <td>-0.306250</td>\n",
       "      <td>-3AGlBYyLjo</td>\n",
       "    </tr>\n",
       "    <tr>\n",
       "      <th>-5sCWsLlTCI</th>\n",
       "      <td>0.096262</td>\n",
       "      <td>-5sCWsLlTCI</td>\n",
       "    </tr>\n",
       "    <tr>\n",
       "      <th>-6Zc8Co2H3w</th>\n",
       "      <td>0.230334</td>\n",
       "      <td>-6Zc8Co2H3w</td>\n",
       "    </tr>\n",
       "  </tbody>\n",
       "</table>\n",
       "</div>"
      ],
      "text/plain": [
       "             polarity     video_id\n",
       "video_id                          \n",
       "--JinobXWPk  0.046776  --JinobXWPk\n",
       "-1fzGnFwz9M  0.137792  -1fzGnFwz9M\n",
       "-3AGlBYyLjo -0.306250  -3AGlBYyLjo\n",
       "-5sCWsLlTCI  0.096262  -5sCWsLlTCI\n",
       "-6Zc8Co2H3w  0.230334  -6Zc8Co2H3w"
      ]
     },
     "execution_count": 13,
     "metadata": {},
     "output_type": "execute_result"
    }
   ],
   "source": [
    "#create a video sentiment data frame with [polarity,video_id] and video_id index\n",
    "Videosentiment = UScomments.groupby(\"video_id\").mean()\n",
    "Videosentiment['video_id'] = Videosentiment.index\n",
    "Videosentiment.head()"
   ]
  },
  {
   "cell_type": "code",
   "execution_count": 14,
   "metadata": {
    "collapsed": true
   },
   "outputs": [],
   "source": [
    "#add one more column [polarity] by merging USvideos and Videosentiment on video_id\n",
    "USvideos=USvideos.merge(Videosentiment, on=\"video_id\")"
   ]
  },
  {
   "cell_type": "code",
   "execution_count": 15,
   "metadata": {
    "collapsed": true
   },
   "outputs": [],
   "source": [
    "#add one more column [videosentiment] that change the video polarity to discrete\n",
    "USvideos['videosentiment']=USvideos['polarity'].apply(pol2sent)"
   ]
  },
  {
   "cell_type": "code",
   "execution_count": 1,
   "metadata": {
    "scrolled": true
   },
   "outputs": [
    {
     "ename": "NameError",
     "evalue": "name 'USvideos' is not defined",
     "output_type": "error",
     "traceback": [
      "\u001b[1;31m---------------------------------------------------------------------------\u001b[0m",
      "\u001b[1;31mNameError\u001b[0m                                 Traceback (most recent call last)",
      "\u001b[1;32m<ipython-input-1-6a688003c240>\u001b[0m in \u001b[0;36m<module>\u001b[1;34m\u001b[0m\n\u001b[1;32m----> 1\u001b[1;33m \u001b[0mUSvideos\u001b[0m\u001b[1;33m.\u001b[0m\u001b[0mhead\u001b[0m\u001b[1;33m(\u001b[0m\u001b[1;36m300\u001b[0m\u001b[1;33m)\u001b[0m\u001b[1;33m\u001b[0m\u001b[1;33m\u001b[0m\u001b[0m\n\u001b[0m",
      "\u001b[1;31mNameError\u001b[0m: name 'USvideos' is not defined"
     ]
    }
   ],
   "source": [
    "USvideos.head(300)"
   ]
  },
  {
   "cell_type": "code",
   "execution_count": 17,
   "metadata": {
    "collapsed": true
   },
   "outputs": [],
   "source": [
    "#repeat the same for GBvideos\n",
    "GBf = open(\"GB_category_id.json\")\n",
    "data = GBf.read()\n",
    "GBf.close()\n",
    "GBout = json.loads(data)\n",
    "GBcategories = pd.DataFrame([\n",
    "    {'category_id':x['id'],\n",
    "     'category':x['snippet']['title'],\n",
    "     'assignable':x['snippet']['assignable']\n",
    "    } for x in GBout['items']\n",
    "])"
   ]
  },
  {
   "cell_type": "code",
   "execution_count": 18,
   "metadata": {},
   "outputs": [
    {
     "data": {
      "text/html": [
       "<div>\n",
       "<style>\n",
       "    .dataframe thead tr:only-child th {\n",
       "        text-align: right;\n",
       "    }\n",
       "\n",
       "    .dataframe thead th {\n",
       "        text-align: left;\n",
       "    }\n",
       "\n",
       "    .dataframe tbody tr th {\n",
       "        vertical-align: top;\n",
       "    }\n",
       "</style>\n",
       "<table border=\"1\" class=\"dataframe\">\n",
       "  <thead>\n",
       "    <tr style=\"text-align: right;\">\n",
       "      <th></th>\n",
       "      <th>assignable</th>\n",
       "      <th>category</th>\n",
       "      <th>category_id</th>\n",
       "    </tr>\n",
       "  </thead>\n",
       "  <tbody>\n",
       "    <tr>\n",
       "      <th>0</th>\n",
       "      <td>True</td>\n",
       "      <td>Film &amp; Animation</td>\n",
       "      <td>1</td>\n",
       "    </tr>\n",
       "    <tr>\n",
       "      <th>1</th>\n",
       "      <td>True</td>\n",
       "      <td>Autos &amp; Vehicles</td>\n",
       "      <td>2</td>\n",
       "    </tr>\n",
       "    <tr>\n",
       "      <th>2</th>\n",
       "      <td>True</td>\n",
       "      <td>Music</td>\n",
       "      <td>10</td>\n",
       "    </tr>\n",
       "    <tr>\n",
       "      <th>3</th>\n",
       "      <td>True</td>\n",
       "      <td>Pets &amp; Animals</td>\n",
       "      <td>15</td>\n",
       "    </tr>\n",
       "    <tr>\n",
       "      <th>4</th>\n",
       "      <td>True</td>\n",
       "      <td>Sports</td>\n",
       "      <td>17</td>\n",
       "    </tr>\n",
       "  </tbody>\n",
       "</table>\n",
       "</div>"
      ],
      "text/plain": [
       "   assignable          category category_id\n",
       "0        True  Film & Animation           1\n",
       "1        True  Autos & Vehicles           2\n",
       "2        True             Music          10\n",
       "3        True    Pets & Animals          15\n",
       "4        True            Sports          17"
      ]
     },
     "execution_count": 18,
     "metadata": {},
     "output_type": "execute_result"
    }
   ],
   "source": [
    "GBcategories.head()"
   ]
  },
  {
   "cell_type": "code",
   "execution_count": 19,
   "metadata": {
    "collapsed": true
   },
   "outputs": [],
   "source": [
    "#change category_id to integer\n",
    "GBcategories['category_id'] = GBcategories['category_id'].astype(int)"
   ]
  },
  {
   "cell_type": "code",
   "execution_count": 20,
   "metadata": {},
   "outputs": [
    {
     "name": "stderr",
     "output_type": "stream",
     "text": [
      "b'Skipping line 2398: expected 11 fields, saw 21\\nSkipping line 2797: expected 11 fields, saw 21\\n'\n",
      "b'Skipping line 113225: expected 4 fields, saw 5\\n'\n",
      "b'Skipping line 158379: expected 4 fields, saw 7\\nSkipping line 241590: expected 4 fields, saw 5\\nSkipping line 245637: expected 4 fields, saw 7\\n'\n",
      "b'Skipping line 521402: expected 4 fields, saw 5\\n'\n"
     ]
    }
   ],
   "source": [
    "#read in GB video and US comment and change the category_id to integer\n",
    "GBvideos = pd.read_csv('GBvideos.csv',error_bad_lines=False)\n",
    "GBcomments = pd.read_csv('GBcomments.csv',error_bad_lines=False)\n",
    "GBvideos['category_id'] = USvideos['category_id'].astype(int)"
   ]
  },
  {
   "cell_type": "code",
   "execution_count": 21,
   "metadata": {},
   "outputs": [
    {
     "data": {
      "text/html": [
       "<div>\n",
       "<style>\n",
       "    .dataframe thead tr:only-child th {\n",
       "        text-align: right;\n",
       "    }\n",
       "\n",
       "    .dataframe thead th {\n",
       "        text-align: left;\n",
       "    }\n",
       "\n",
       "    .dataframe tbody tr th {\n",
       "        vertical-align: top;\n",
       "    }\n",
       "</style>\n",
       "<table border=\"1\" class=\"dataframe\">\n",
       "  <thead>\n",
       "    <tr style=\"text-align: right;\">\n",
       "      <th></th>\n",
       "      <th>video_id</th>\n",
       "      <th>title</th>\n",
       "      <th>channel_title</th>\n",
       "      <th>category_id</th>\n",
       "      <th>tags</th>\n",
       "      <th>views</th>\n",
       "      <th>likes</th>\n",
       "      <th>dislikes</th>\n",
       "      <th>comment_total</th>\n",
       "      <th>thumbnail_link</th>\n",
       "      <th>date</th>\n",
       "    </tr>\n",
       "  </thead>\n",
       "  <tbody>\n",
       "    <tr>\n",
       "      <th>0</th>\n",
       "      <td>jt2OHQh0HoQ</td>\n",
       "      <td>Live Apple Event - Apple September Event 2017 ...</td>\n",
       "      <td>Apple Event</td>\n",
       "      <td>24.0</td>\n",
       "      <td>apple events|apple event|iphone 8|iphone x|iph...</td>\n",
       "      <td>7426393</td>\n",
       "      <td>78240</td>\n",
       "      <td>13548</td>\n",
       "      <td>705</td>\n",
       "      <td>https://i.ytimg.com/vi/jt2OHQh0HoQ/default_liv...</td>\n",
       "      <td>13.09</td>\n",
       "    </tr>\n",
       "    <tr>\n",
       "      <th>1</th>\n",
       "      <td>AqokkXoa7uE</td>\n",
       "      <td>Holly and Phillip Meet Samantha the Sex Robot ...</td>\n",
       "      <td>This Morning</td>\n",
       "      <td>24.0</td>\n",
       "      <td>this morning|interview|holly willoughby|philli...</td>\n",
       "      <td>494203</td>\n",
       "      <td>2651</td>\n",
       "      <td>1309</td>\n",
       "      <td>0</td>\n",
       "      <td>https://i.ytimg.com/vi/AqokkXoa7uE/default.jpg</td>\n",
       "      <td>13.09</td>\n",
       "    </tr>\n",
       "    <tr>\n",
       "      <th>2</th>\n",
       "      <td>YPVcg45W0z4</td>\n",
       "      <td>My DNA Test Results! I'm WHAT?!</td>\n",
       "      <td>emmablackery</td>\n",
       "      <td>24.0</td>\n",
       "      <td>emmablackery|emma blackery|emma|blackery|briti...</td>\n",
       "      <td>142819</td>\n",
       "      <td>13119</td>\n",
       "      <td>151</td>\n",
       "      <td>1141</td>\n",
       "      <td>https://i.ytimg.com/vi/YPVcg45W0z4/default.jpg</td>\n",
       "      <td>13.09</td>\n",
       "    </tr>\n",
       "    <tr>\n",
       "      <th>3</th>\n",
       "      <td>T_PuZBdT2iM</td>\n",
       "      <td>getting into a conversation in a language you ...</td>\n",
       "      <td>ProZD</td>\n",
       "      <td>24.0</td>\n",
       "      <td>skit|korean|language|conversation|esl|japanese...</td>\n",
       "      <td>1580028</td>\n",
       "      <td>65729</td>\n",
       "      <td>1529</td>\n",
       "      <td>3598</td>\n",
       "      <td>https://i.ytimg.com/vi/T_PuZBdT2iM/default.jpg</td>\n",
       "      <td>13.09</td>\n",
       "    </tr>\n",
       "    <tr>\n",
       "      <th>4</th>\n",
       "      <td>NsjsmgmbCfc</td>\n",
       "      <td>Baby Name Challenge!</td>\n",
       "      <td>Sprinkleofglitter</td>\n",
       "      <td>24.0</td>\n",
       "      <td>sprinkleofglitter|sprinkle of glitter|baby gli...</td>\n",
       "      <td>40592</td>\n",
       "      <td>5019</td>\n",
       "      <td>57</td>\n",
       "      <td>490</td>\n",
       "      <td>https://i.ytimg.com/vi/NsjsmgmbCfc/default.jpg</td>\n",
       "      <td>13.09</td>\n",
       "    </tr>\n",
       "  </tbody>\n",
       "</table>\n",
       "</div>"
      ],
      "text/plain": [
       "      video_id                                              title  \\\n",
       "0  jt2OHQh0HoQ  Live Apple Event - Apple September Event 2017 ...   \n",
       "1  AqokkXoa7uE  Holly and Phillip Meet Samantha the Sex Robot ...   \n",
       "2  YPVcg45W0z4                    My DNA Test Results! I'm WHAT?!   \n",
       "3  T_PuZBdT2iM  getting into a conversation in a language you ...   \n",
       "4  NsjsmgmbCfc                               Baby Name Challenge!   \n",
       "\n",
       "       channel_title  category_id  \\\n",
       "0        Apple Event         24.0   \n",
       "1       This Morning         24.0   \n",
       "2       emmablackery         24.0   \n",
       "3              ProZD         24.0   \n",
       "4  Sprinkleofglitter         24.0   \n",
       "\n",
       "                                                tags    views  likes  \\\n",
       "0  apple events|apple event|iphone 8|iphone x|iph...  7426393  78240   \n",
       "1  this morning|interview|holly willoughby|philli...   494203   2651   \n",
       "2  emmablackery|emma blackery|emma|blackery|briti...   142819  13119   \n",
       "3  skit|korean|language|conversation|esl|japanese...  1580028  65729   \n",
       "4  sprinkleofglitter|sprinkle of glitter|baby gli...    40592   5019   \n",
       "\n",
       "   dislikes  comment_total                                     thumbnail_link  \\\n",
       "0     13548            705  https://i.ytimg.com/vi/jt2OHQh0HoQ/default_liv...   \n",
       "1      1309              0     https://i.ytimg.com/vi/AqokkXoa7uE/default.jpg   \n",
       "2       151           1141     https://i.ytimg.com/vi/YPVcg45W0z4/default.jpg   \n",
       "3      1529           3598     https://i.ytimg.com/vi/T_PuZBdT2iM/default.jpg   \n",
       "4        57            490     https://i.ytimg.com/vi/NsjsmgmbCfc/default.jpg   \n",
       "\n",
       "    date  \n",
       "0  13.09  \n",
       "1  13.09  \n",
       "2  13.09  \n",
       "3  13.09  \n",
       "4  13.09  "
      ]
     },
     "execution_count": 21,
     "metadata": {},
     "output_type": "execute_result"
    }
   ],
   "source": [
    "GBvideos.head()"
   ]
  },
  {
   "cell_type": "code",
   "execution_count": 22,
   "metadata": {
    "collapsed": true
   },
   "outputs": [],
   "source": [
    "#assign format to date\n",
    "GBvideos['date'] =  pd.to_datetime(GBvideos.date, format=\"%d.%m\")"
   ]
  },
  {
   "cell_type": "code",
   "execution_count": 23,
   "metadata": {
    "collapsed": true
   },
   "outputs": [],
   "source": [
    "#Merged the categories in \n",
    "GBvideos=GBvideos.merge(categories, on='category_id')"
   ]
  },
  {
   "cell_type": "code",
   "execution_count": 24,
   "metadata": {
    "collapsed": true
   },
   "outputs": [],
   "source": [
    "#add one more column of [polarity] to UScomments\n",
    "GBcomments['polarity']=GBcomments['comment_text'].apply(sentiment_calc)"
   ]
  },
  {
   "cell_type": "code",
   "execution_count": 25,
   "metadata": {
    "scrolled": false
   },
   "outputs": [
    {
     "data": {
      "text/html": [
       "<div>\n",
       "<style>\n",
       "    .dataframe thead tr:only-child th {\n",
       "        text-align: right;\n",
       "    }\n",
       "\n",
       "    .dataframe thead th {\n",
       "        text-align: left;\n",
       "    }\n",
       "\n",
       "    .dataframe tbody tr th {\n",
       "        vertical-align: top;\n",
       "    }\n",
       "</style>\n",
       "<table border=\"1\" class=\"dataframe\">\n",
       "  <thead>\n",
       "    <tr style=\"text-align: right;\">\n",
       "      <th></th>\n",
       "      <th>likes</th>\n",
       "      <th>replies</th>\n",
       "      <th>polarity</th>\n",
       "      <th>video_id</th>\n",
       "    </tr>\n",
       "    <tr>\n",
       "      <th>video_id</th>\n",
       "      <th></th>\n",
       "      <th></th>\n",
       "      <th></th>\n",
       "      <th></th>\n",
       "    </tr>\n",
       "  </thead>\n",
       "  <tbody>\n",
       "    <tr>\n",
       "      <th>--JinobXWPk</th>\n",
       "      <td>0.200000</td>\n",
       "      <td>0.013333</td>\n",
       "      <td>0.037737</td>\n",
       "      <td>--JinobXWPk</td>\n",
       "    </tr>\n",
       "    <tr>\n",
       "      <th>--y69Ui8xwM</th>\n",
       "      <td>3.872852</td>\n",
       "      <td>0.989691</td>\n",
       "      <td>0.170290</td>\n",
       "      <td>--y69Ui8xwM</td>\n",
       "    </tr>\n",
       "    <tr>\n",
       "      <th>-1fzGnFwz9M</th>\n",
       "      <td>8.750000</td>\n",
       "      <td>0.205000</td>\n",
       "      <td>0.136542</td>\n",
       "      <td>-1fzGnFwz9M</td>\n",
       "    </tr>\n",
       "    <tr>\n",
       "      <th>-2hRYEFiPSA</th>\n",
       "      <td>1.457143</td>\n",
       "      <td>0.092857</td>\n",
       "      <td>0.239867</td>\n",
       "      <td>-2hRYEFiPSA</td>\n",
       "    </tr>\n",
       "    <tr>\n",
       "      <th>-6Zc8Co2H3w</th>\n",
       "      <td>0.110000</td>\n",
       "      <td>0.003750</td>\n",
       "      <td>0.205802</td>\n",
       "      <td>-6Zc8Co2H3w</td>\n",
       "    </tr>\n",
       "  </tbody>\n",
       "</table>\n",
       "</div>"
      ],
      "text/plain": [
       "                likes   replies  polarity     video_id\n",
       "video_id                                              \n",
       "--JinobXWPk  0.200000  0.013333  0.037737  --JinobXWPk\n",
       "--y69Ui8xwM  3.872852  0.989691  0.170290  --y69Ui8xwM\n",
       "-1fzGnFwz9M  8.750000  0.205000  0.136542  -1fzGnFwz9M\n",
       "-2hRYEFiPSA  1.457143  0.092857  0.239867  -2hRYEFiPSA\n",
       "-6Zc8Co2H3w  0.110000  0.003750  0.205802  -6Zc8Co2H3w"
      ]
     },
     "execution_count": 25,
     "metadata": {},
     "output_type": "execute_result"
    }
   ],
   "source": [
    "#create a video sentiment data frame with [polarity,video_id] and video_id index\n",
    "GBVideosentiment = GBcomments.groupby(\"video_id\").mean()\n",
    "GBVideosentiment['video_id'] = GBVideosentiment.index\n",
    "GBVideosentiment.head()"
   ]
  },
  {
   "cell_type": "code",
   "execution_count": 26,
   "metadata": {},
   "outputs": [
    {
     "data": {
      "text/html": [
       "<div>\n",
       "<style>\n",
       "    .dataframe thead tr:only-child th {\n",
       "        text-align: right;\n",
       "    }\n",
       "\n",
       "    .dataframe thead th {\n",
       "        text-align: left;\n",
       "    }\n",
       "\n",
       "    .dataframe tbody tr th {\n",
       "        vertical-align: top;\n",
       "    }\n",
       "</style>\n",
       "<table border=\"1\" class=\"dataframe\">\n",
       "  <thead>\n",
       "    <tr style=\"text-align: right;\">\n",
       "      <th></th>\n",
       "      <th>polarity</th>\n",
       "      <th>video_id</th>\n",
       "    </tr>\n",
       "    <tr>\n",
       "      <th>video_id</th>\n",
       "      <th></th>\n",
       "      <th></th>\n",
       "    </tr>\n",
       "  </thead>\n",
       "  <tbody>\n",
       "    <tr>\n",
       "      <th>--JinobXWPk</th>\n",
       "      <td>0.037737</td>\n",
       "      <td>--JinobXWPk</td>\n",
       "    </tr>\n",
       "    <tr>\n",
       "      <th>--y69Ui8xwM</th>\n",
       "      <td>0.170290</td>\n",
       "      <td>--y69Ui8xwM</td>\n",
       "    </tr>\n",
       "    <tr>\n",
       "      <th>-1fzGnFwz9M</th>\n",
       "      <td>0.136542</td>\n",
       "      <td>-1fzGnFwz9M</td>\n",
       "    </tr>\n",
       "    <tr>\n",
       "      <th>-2hRYEFiPSA</th>\n",
       "      <td>0.239867</td>\n",
       "      <td>-2hRYEFiPSA</td>\n",
       "    </tr>\n",
       "    <tr>\n",
       "      <th>-6Zc8Co2H3w</th>\n",
       "      <td>0.205802</td>\n",
       "      <td>-6Zc8Co2H3w</td>\n",
       "    </tr>\n",
       "  </tbody>\n",
       "</table>\n",
       "</div>"
      ],
      "text/plain": [
       "             polarity     video_id\n",
       "video_id                          \n",
       "--JinobXWPk  0.037737  --JinobXWPk\n",
       "--y69Ui8xwM  0.170290  --y69Ui8xwM\n",
       "-1fzGnFwz9M  0.136542  -1fzGnFwz9M\n",
       "-2hRYEFiPSA  0.239867  -2hRYEFiPSA\n",
       "-6Zc8Co2H3w  0.205802  -6Zc8Co2H3w"
      ]
     },
     "execution_count": 26,
     "metadata": {},
     "output_type": "execute_result"
    }
   ],
   "source": [
    "GBVideosentiment=GBVideosentiment[['polarity','video_id']]\n",
    "GBVideosentiment.head()"
   ]
  },
  {
   "cell_type": "code",
   "execution_count": 35,
   "metadata": {
    "collapsed": true
   },
   "outputs": [],
   "source": [
    "#add one more column [polarity] by merging GBvideos and GBVideosentiment on video_id\n",
    "GBvideos=GBvideos.merge(GBVideosentiment, on=\"video_id\")"
   ]
  },
  {
   "cell_type": "code",
   "execution_count": 37,
   "metadata": {
    "collapsed": true
   },
   "outputs": [],
   "source": [
    "#add one more column [videosentiment] that change the video polarity to discrete\n",
    "GBvideos['videosentiment']=GBvideos['polarity'].apply(pol2sent)"
   ]
  },
  {
   "cell_type": "code",
   "execution_count": 38,
   "metadata": {},
   "outputs": [
    {
     "data": {
      "text/html": [
       "<div>\n",
       "<style>\n",
       "    .dataframe thead tr:only-child th {\n",
       "        text-align: right;\n",
       "    }\n",
       "\n",
       "    .dataframe thead th {\n",
       "        text-align: left;\n",
       "    }\n",
       "\n",
       "    .dataframe tbody tr th {\n",
       "        vertical-align: top;\n",
       "    }\n",
       "</style>\n",
       "<table border=\"1\" class=\"dataframe\">\n",
       "  <thead>\n",
       "    <tr style=\"text-align: right;\">\n",
       "      <th></th>\n",
       "      <th>video_id</th>\n",
       "      <th>title</th>\n",
       "      <th>channel_title</th>\n",
       "      <th>category_id</th>\n",
       "      <th>tags</th>\n",
       "      <th>views</th>\n",
       "      <th>likes</th>\n",
       "      <th>dislikes</th>\n",
       "      <th>comment_total</th>\n",
       "      <th>thumbnail_link</th>\n",
       "      <th>date</th>\n",
       "      <th>assignable</th>\n",
       "      <th>category</th>\n",
       "      <th>polarity</th>\n",
       "      <th>videosentiment</th>\n",
       "    </tr>\n",
       "  </thead>\n",
       "  <tbody>\n",
       "    <tr>\n",
       "      <th>0</th>\n",
       "      <td>jt2OHQh0HoQ</td>\n",
       "      <td>Live Apple Event - Apple September Event 2017 ...</td>\n",
       "      <td>Apple Event</td>\n",
       "      <td>24</td>\n",
       "      <td>apple events|apple event|iphone 8|iphone x|iph...</td>\n",
       "      <td>7426393</td>\n",
       "      <td>78240</td>\n",
       "      <td>13548</td>\n",
       "      <td>705</td>\n",
       "      <td>https://i.ytimg.com/vi/jt2OHQh0HoQ/default_liv...</td>\n",
       "      <td>1900-09-13</td>\n",
       "      <td>True</td>\n",
       "      <td>Entertainment</td>\n",
       "      <td>0.078579</td>\n",
       "      <td>Positive</td>\n",
       "    </tr>\n",
       "    <tr>\n",
       "      <th>1</th>\n",
       "      <td>jt2OHQh0HoQ</td>\n",
       "      <td>Live Apple Event - Apple September Event 2017 ...</td>\n",
       "      <td>Apple Event</td>\n",
       "      <td>24</td>\n",
       "      <td>apple events|apple event|iphone 8|iphone x|iph...</td>\n",
       "      <td>7920718</td>\n",
       "      <td>81587</td>\n",
       "      <td>14433</td>\n",
       "      <td>1460</td>\n",
       "      <td>https://i.ytimg.com/vi/jt2OHQh0HoQ/default_liv...</td>\n",
       "      <td>1900-09-14</td>\n",
       "      <td>True</td>\n",
       "      <td>Entertainment</td>\n",
       "      <td>0.078579</td>\n",
       "      <td>Positive</td>\n",
       "    </tr>\n",
       "    <tr>\n",
       "      <th>2</th>\n",
       "      <td>jt2OHQh0HoQ</td>\n",
       "      <td>Live Apple Event - Apple September Event 2017 ...</td>\n",
       "      <td>Apple Event</td>\n",
       "      <td>24</td>\n",
       "      <td>apple events|apple event|iphone 8|iphone x|iph...</td>\n",
       "      <td>8260919</td>\n",
       "      <td>84514</td>\n",
       "      <td>15178</td>\n",
       "      <td>2049</td>\n",
       "      <td>https://i.ytimg.com/vi/jt2OHQh0HoQ/default_liv...</td>\n",
       "      <td>1900-09-15</td>\n",
       "      <td>True</td>\n",
       "      <td>Entertainment</td>\n",
       "      <td>0.078579</td>\n",
       "      <td>Positive</td>\n",
       "    </tr>\n",
       "    <tr>\n",
       "      <th>3</th>\n",
       "      <td>jt2OHQh0HoQ</td>\n",
       "      <td>Live Apple Event - Apple September Event 2017 ...</td>\n",
       "      <td>Apple Event</td>\n",
       "      <td>24</td>\n",
       "      <td>apple events|apple event|iphone 8|iphone x|iph...</td>\n",
       "      <td>8443106</td>\n",
       "      <td>86006</td>\n",
       "      <td>15504</td>\n",
       "      <td>2381</td>\n",
       "      <td>https://i.ytimg.com/vi/jt2OHQh0HoQ/default_liv...</td>\n",
       "      <td>1900-09-16</td>\n",
       "      <td>True</td>\n",
       "      <td>Entertainment</td>\n",
       "      <td>0.078579</td>\n",
       "      <td>Positive</td>\n",
       "    </tr>\n",
       "    <tr>\n",
       "      <th>4</th>\n",
       "      <td>YPVcg45W0z4</td>\n",
       "      <td>My DNA Test Results! I'm WHAT?!</td>\n",
       "      <td>emmablackery</td>\n",
       "      <td>24</td>\n",
       "      <td>emmablackery|emma blackery|emma|blackery|briti...</td>\n",
       "      <td>142819</td>\n",
       "      <td>13119</td>\n",
       "      <td>151</td>\n",
       "      <td>1141</td>\n",
       "      <td>https://i.ytimg.com/vi/YPVcg45W0z4/default.jpg</td>\n",
       "      <td>1900-09-13</td>\n",
       "      <td>True</td>\n",
       "      <td>Entertainment</td>\n",
       "      <td>0.142932</td>\n",
       "      <td>Positive</td>\n",
       "    </tr>\n",
       "  </tbody>\n",
       "</table>\n",
       "</div>"
      ],
      "text/plain": [
       "      video_id                                              title  \\\n",
       "0  jt2OHQh0HoQ  Live Apple Event - Apple September Event 2017 ...   \n",
       "1  jt2OHQh0HoQ  Live Apple Event - Apple September Event 2017 ...   \n",
       "2  jt2OHQh0HoQ  Live Apple Event - Apple September Event 2017 ...   \n",
       "3  jt2OHQh0HoQ  Live Apple Event - Apple September Event 2017 ...   \n",
       "4  YPVcg45W0z4                    My DNA Test Results! I'm WHAT?!   \n",
       "\n",
       "  channel_title category_id  \\\n",
       "0   Apple Event          24   \n",
       "1   Apple Event          24   \n",
       "2   Apple Event          24   \n",
       "3   Apple Event          24   \n",
       "4  emmablackery          24   \n",
       "\n",
       "                                                tags    views  likes  \\\n",
       "0  apple events|apple event|iphone 8|iphone x|iph...  7426393  78240   \n",
       "1  apple events|apple event|iphone 8|iphone x|iph...  7920718  81587   \n",
       "2  apple events|apple event|iphone 8|iphone x|iph...  8260919  84514   \n",
       "3  apple events|apple event|iphone 8|iphone x|iph...  8443106  86006   \n",
       "4  emmablackery|emma blackery|emma|blackery|briti...   142819  13119   \n",
       "\n",
       "   dislikes  comment_total                                     thumbnail_link  \\\n",
       "0     13548            705  https://i.ytimg.com/vi/jt2OHQh0HoQ/default_liv...   \n",
       "1     14433           1460  https://i.ytimg.com/vi/jt2OHQh0HoQ/default_liv...   \n",
       "2     15178           2049  https://i.ytimg.com/vi/jt2OHQh0HoQ/default_liv...   \n",
       "3     15504           2381  https://i.ytimg.com/vi/jt2OHQh0HoQ/default_liv...   \n",
       "4       151           1141     https://i.ytimg.com/vi/YPVcg45W0z4/default.jpg   \n",
       "\n",
       "        date  assignable       category  polarity videosentiment  \n",
       "0 1900-09-13        True  Entertainment  0.078579       Positive  \n",
       "1 1900-09-14        True  Entertainment  0.078579       Positive  \n",
       "2 1900-09-15        True  Entertainment  0.078579       Positive  \n",
       "3 1900-09-16        True  Entertainment  0.078579       Positive  \n",
       "4 1900-09-13        True  Entertainment  0.142932       Positive  "
      ]
     },
     "execution_count": 38,
     "metadata": {},
     "output_type": "execute_result"
    }
   ],
   "source": [
    "GBvideos.head()"
   ]
  },
  {
   "cell_type": "code",
   "execution_count": 39,
   "metadata": {
    "collapsed": true
   },
   "outputs": [],
   "source": [
    "videos = pd.concat([USvideos, GBvideos]).reset_index()\n",
    "comments = pd.concat([UScomments, GBcomments]).reset_index()"
   ]
  },
  {
   "cell_type": "code",
   "execution_count": 40,
   "metadata": {
    "collapsed": true
   },
   "outputs": [],
   "source": [
    "videos.to_csv(\"US_GB_videos_after_sentiment_analysis.csv\")\n",
    "comments.to_csv(\"US_GB_comments_after_sentiment_analysis.csv\")"
   ]
  },
  {
   "cell_type": "code",
   "execution_count": null,
   "metadata": {
    "collapsed": true
   },
   "outputs": [],
   "source": []
  }
 ],
 "metadata": {
  "kernelspec": {
   "display_name": "Python 3",
   "language": "python",
   "name": "python3"
  },
  "language_info": {
   "codemirror_mode": {
    "name": "ipython",
    "version": 3
   },
   "file_extension": ".py",
   "mimetype": "text/x-python",
   "name": "python",
   "nbconvert_exporter": "python",
   "pygments_lexer": "ipython3",
   "version": "3.7.5"
  }
 },
 "nbformat": 4,
 "nbformat_minor": 2
}
